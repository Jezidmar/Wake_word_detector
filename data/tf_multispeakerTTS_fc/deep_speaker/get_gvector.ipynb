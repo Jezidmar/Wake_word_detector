{
 "cells": [
  {
   "cell_type": "code",
   "execution_count": 4,
   "metadata": {},
   "outputs": [],
   "source": [
    "import os\n",
    "os.environ['CUDA_VISIBLE_DEVICES'] = '0'"
   ]
  },
  {
   "cell_type": "code",
   "execution_count": 5,
   "metadata": {},
   "outputs": [],
   "source": [
    "import tensorflow as tf\n",
    "import numpy as np\n",
    "import os, time\n",
    "import traceback\n",
    "from datetime import datetime\n",
    "from tqdm import tqdm\n",
    "from infolog import log\n",
    "from utils import ValueWindow\n",
    "\n",
    "from tensorflow.errors import OutOfRangeError\n",
    "from feeder_wav import Feeder\n",
    "from resnet import ResNet\n",
    "from vox12_hparams import train_feeder_hparams, dev_feeder_hparams, resnet_hparams, train_hparams"
   ]
  },
  {
   "cell_type": "code",
   "execution_count": 3,
   "metadata": {},
   "outputs": [],
   "source": [
    "#!pip install GPUtil"
   ]
  },
  {
   "cell_type": "code",
   "execution_count": 6,
   "metadata": {},
   "outputs": [
    {
     "name": "stdout",
     "output_type": "stream",
     "text": [
      "INFO:tensorflow:Restoring parameters from vox12_resnet34_pretrain/gvector.ckpt-300000\n"
     ]
    }
   ],
   "source": [
    "def create_model(fbanks, labels):\n",
    "    with tf.variable_scope('resnet', reuse=tf.AUTO_REUSE):\n",
    "        train_resnet = ResNet(resnet_hparams, fbanks, labels, 'train')\n",
    "        train_resnet.build_graph()\n",
    "    with tf.variable_scope('resnet', reuse=tf.AUTO_REUSE):\n",
    "        eval_resnet = ResNet(resnet_hparams, fbanks, labels, 'eval')\n",
    "        eval_resnet.build_graph()\n",
    "\n",
    "    return train_resnet, eval_resnet\n",
    "\n",
    "# pretrain model path\n",
    "model_dir = 'vox12_resnet34_pretrain/'\n",
    "\n",
    "graph = tf.Graph()\n",
    "with graph.as_default():\n",
    "    fbanks = tf.placeholder(dtype=tf.float32, shape=(None, None, 80), name='fbanks')\n",
    "    labels = tf.placeholder(dtype=tf.int32, shape=(None), name='labels')\n",
    "    _, resnet = create_model(fbanks, labels)\n",
    "    saver = tf.train.Saver()\n",
    "    \n",
    "\n",
    "checkpoint_state = tf.train.get_checkpoint_state(model_dir)\n",
    "checkpoint_path = checkpoint_state.model_checkpoint_path\n",
    "\n",
    "config = tf.ConfigProto()\n",
    "config.gpu_options.allow_growth = True\n",
    "sess = tf.Session(graph=graph, config=config)\n",
    "\n",
    "saver.restore(sess, checkpoint_path)\n",
    "    \n"
   ]
  },
  {
   "cell_type": "markdown",
   "metadata": {},
   "source": [
    "## Obtain speaker embedding for dataset VCTK"
   ]
  },
  {
   "cell_type": "code",
   "execution_count": 7,
   "metadata": {},
   "outputs": [],
   "source": [
    "pairs = []\n",
    "save_dir = '/home/marinjezidzic/Downloads/tf_multispeakerTTS_fc/datasets/syn_accent/synthesizer/embeds/'\n",
    "mel_dir = '/home/marinjezidzic/Downloads/tf_multispeakerTTS_fc/datasets/syn_accent/synthesizer/mels/'\n",
    "os.makedirs(save_dir, exist_ok=True)\n",
    "with open('../datasets/syn_accent/synthesizer/train.txt') as f:\n",
    "    for line in f.readlines():\n",
    "        items = line.strip().split('|')\n",
    "        pairs.append((mel_dir + items[1], save_dir + items[2]))"
   ]
  },
  {
   "cell_type": "code",
   "execution_count": 8,
   "metadata": {},
   "outputs": [
    {
     "name": "stderr",
     "output_type": "stream",
     "text": [
      "\r",
      "  0%|                                                                                                                | 0/2137 [00:00<?, ?it/s]"
     ]
    },
    {
     "name": "stdout",
     "output_type": "stream",
     "text": [
      "loaded\n"
     ]
    },
    {
     "name": "stderr",
     "output_type": "stream",
     "text": [
      "  0%|                                                                                                        | 2/2137 [00:00<08:43,  4.08it/s]"
     ]
    },
    {
     "name": "stdout",
     "output_type": "stream",
     "text": [
      "saved\n",
      "loaded\n",
      "saved\n",
      "loaded\n"
     ]
    },
    {
     "name": "stderr",
     "output_type": "stream",
     "text": [
      "\r",
      "  0%|▏                                                                                                       | 4/2137 [00:00<04:52,  7.29it/s]"
     ]
    },
    {
     "name": "stdout",
     "output_type": "stream",
     "text": [
      "saved\n",
      "loaded\n",
      "saved\n",
      "loaded\n",
      "saved\n",
      "loaded\n",
      "saved\n",
      "loaded\n"
     ]
    },
    {
     "name": "stderr",
     "output_type": "stream",
     "text": [
      "  0%|▍                                                                                                       | 9/2137 [00:00<02:39, 13.35it/s]"
     ]
    },
    {
     "name": "stdout",
     "output_type": "stream",
     "text": [
      "saved\n",
      "loaded\n",
      "saved\n",
      "loaded\n",
      "saved\n",
      "loaded\n",
      "saved\n",
      "loaded\n",
      "saved\n",
      "loaded\n"
     ]
    },
    {
     "name": "stderr",
     "output_type": "stream",
     "text": [
      "  1%|▋                                                                                                      | 14/2137 [00:01<02:07, 16.62it/s]"
     ]
    },
    {
     "name": "stdout",
     "output_type": "stream",
     "text": [
      "saved\n",
      "loaded\n",
      "saved\n",
      "loaded\n",
      "saved\n",
      "loaded\n",
      "saved\n",
      "loaded\n"
     ]
    },
    {
     "name": "stderr",
     "output_type": "stream",
     "text": [
      "  1%|▉                                                                                                      | 19/2137 [00:01<01:55, 18.36it/s]"
     ]
    },
    {
     "name": "stdout",
     "output_type": "stream",
     "text": [
      "saved\n",
      "loaded\n",
      "saved\n",
      "loaded\n",
      "saved\n",
      "loaded\n",
      "saved\n",
      "loaded\n",
      "saved\n",
      "loaded\n"
     ]
    },
    {
     "name": "stderr",
     "output_type": "stream",
     "text": [
      "  1%|█▏                                                                                                     | 25/2137 [00:01<01:46, 19.78it/s]"
     ]
    },
    {
     "name": "stdout",
     "output_type": "stream",
     "text": [
      "saved\n",
      "loaded\n",
      "saved\n",
      "loaded\n",
      "saved\n",
      "loaded\n",
      "saved\n",
      "loaded\n",
      "saved\n",
      "loaded\n"
     ]
    },
    {
     "name": "stderr",
     "output_type": "stream",
     "text": [
      "\r",
      "  1%|█▎                                                                                                     | 28/2137 [00:01<01:54, 18.49it/s]"
     ]
    },
    {
     "name": "stdout",
     "output_type": "stream",
     "text": [
      "saved\n",
      "loaded\n",
      "saved\n",
      "loaded\n",
      "saved\n",
      "loaded\n",
      "saved\n",
      "loaded\n"
     ]
    },
    {
     "name": "stderr",
     "output_type": "stream",
     "text": [
      "  1%|█▌                                                                                                     | 32/2137 [00:02<01:59, 17.62it/s]"
     ]
    },
    {
     "name": "stdout",
     "output_type": "stream",
     "text": [
      "saved\n",
      "loaded\n",
      "saved\n",
      "loaded\n",
      "saved\n",
      "loaded\n",
      "saved\n",
      "loaded\n"
     ]
    },
    {
     "name": "stderr",
     "output_type": "stream",
     "text": [
      "  2%|█▊                                                                                                     | 37/2137 [00:02<01:54, 18.32it/s]"
     ]
    },
    {
     "name": "stdout",
     "output_type": "stream",
     "text": [
      "saved\n",
      "loaded\n",
      "saved\n",
      "loaded\n",
      "saved\n",
      "loaded\n",
      "saved\n",
      "loaded\n"
     ]
    },
    {
     "name": "stderr",
     "output_type": "stream",
     "text": [
      "  2%|█▉                                                                                                     | 41/2137 [00:02<02:02, 17.06it/s]"
     ]
    },
    {
     "name": "stdout",
     "output_type": "stream",
     "text": [
      "saved\n",
      "loaded\n",
      "saved\n",
      "loaded\n",
      "saved\n",
      "loaded\n",
      "saved\n",
      "loaded\n"
     ]
    },
    {
     "name": "stderr",
     "output_type": "stream",
     "text": [
      "\r",
      "  2%|██                                                                                                     | 43/2137 [00:02<02:06, 16.57it/s]"
     ]
    },
    {
     "name": "stdout",
     "output_type": "stream",
     "text": [
      "saved\n",
      "loaded\n",
      "saved\n",
      "loaded\n",
      "saved\n",
      "loaded\n",
      "saved\n",
      "loaded\n"
     ]
    },
    {
     "name": "stderr",
     "output_type": "stream",
     "text": [
      "  2%|██▎                                                                                                    | 48/2137 [00:03<02:00, 17.29it/s]"
     ]
    },
    {
     "name": "stdout",
     "output_type": "stream",
     "text": [
      "saved\n",
      "loaded\n",
      "saved\n",
      "loaded\n",
      "saved\n",
      "loaded\n",
      "saved\n",
      "loaded\n"
     ]
    },
    {
     "name": "stderr",
     "output_type": "stream",
     "text": [
      "  2%|██▌                                                                                                    | 52/2137 [00:03<02:05, 16.60it/s]"
     ]
    },
    {
     "name": "stdout",
     "output_type": "stream",
     "text": [
      "saved\n",
      "loaded\n",
      "saved\n",
      "loaded\n",
      "saved\n",
      "loaded\n"
     ]
    },
    {
     "name": "stderr",
     "output_type": "stream",
     "text": [
      "\r",
      "  3%|██▌                                                                                                    | 54/2137 [00:03<02:21, 14.71it/s]"
     ]
    },
    {
     "name": "stdout",
     "output_type": "stream",
     "text": [
      "saved\n",
      "loaded\n",
      "saved\n",
      "loaded\n",
      "saved\n",
      "loaded\n"
     ]
    },
    {
     "name": "stderr",
     "output_type": "stream",
     "text": [
      "  3%|██▊                                                                                                    | 58/2137 [00:03<02:10, 15.91it/s]"
     ]
    },
    {
     "name": "stdout",
     "output_type": "stream",
     "text": [
      "saved\n",
      "loaded\n",
      "saved\n",
      "loaded\n",
      "saved\n",
      "loaded\n",
      "saved\n",
      "loaded\n"
     ]
    },
    {
     "name": "stderr",
     "output_type": "stream",
     "text": [
      "  3%|███                                                                                                    | 63/2137 [00:04<02:03, 16.86it/s]"
     ]
    },
    {
     "name": "stdout",
     "output_type": "stream",
     "text": [
      "saved\n",
      "loaded\n",
      "saved\n",
      "loaded\n",
      "saved\n",
      "loaded\n",
      "saved\n",
      "loaded\n"
     ]
    },
    {
     "name": "stderr",
     "output_type": "stream",
     "text": [
      "  3%|███▏                                                                                                   | 67/2137 [00:04<02:08, 16.12it/s]"
     ]
    },
    {
     "name": "stdout",
     "output_type": "stream",
     "text": [
      "saved\n",
      "loaded\n",
      "saved\n",
      "loaded\n",
      "saved\n",
      "loaded\n",
      "saved\n",
      "loaded\n"
     ]
    },
    {
     "name": "stderr",
     "output_type": "stream",
     "text": [
      "\r",
      "  3%|███▎                                                                                                   | 69/2137 [00:04<02:05, 16.46it/s]"
     ]
    },
    {
     "name": "stdout",
     "output_type": "stream",
     "text": [
      "saved\n",
      "loaded\n",
      "saved\n",
      "loaded\n",
      "saved\n",
      "loaded\n",
      "saved\n",
      "loaded\n"
     ]
    },
    {
     "name": "stderr",
     "output_type": "stream",
     "text": [
      "  4%|███▌                                                                                                   | 75/2137 [00:04<01:53, 18.24it/s]"
     ]
    },
    {
     "name": "stdout",
     "output_type": "stream",
     "text": [
      "saved\n",
      "loaded\n",
      "saved\n",
      "loaded\n",
      "saved\n",
      "loaded\n",
      "saved\n",
      "loaded\n"
     ]
    },
    {
     "name": "stderr",
     "output_type": "stream",
     "text": [
      "  4%|███▊                                                                                                   | 79/2137 [00:04<01:50, 18.69it/s]"
     ]
    },
    {
     "name": "stdout",
     "output_type": "stream",
     "text": [
      "saved\n",
      "loaded\n",
      "saved\n",
      "loaded\n",
      "saved\n",
      "loaded\n",
      "saved\n",
      "loaded\n"
     ]
    },
    {
     "name": "stderr",
     "output_type": "stream",
     "text": [
      "\r",
      "  4%|███▉                                                                                                   | 82/2137 [00:05<01:43, 19.94it/s]"
     ]
    },
    {
     "name": "stdout",
     "output_type": "stream",
     "text": [
      "saved\n",
      "loaded\n",
      "saved\n",
      "loaded\n",
      "saved\n",
      "loaded\n",
      "saved\n",
      "loaded\n",
      "saved\n",
      "loaded\n"
     ]
    },
    {
     "name": "stderr",
     "output_type": "stream",
     "text": [
      "  4%|████▏                                                                                                  | 88/2137 [00:05<01:42, 20.08it/s]"
     ]
    },
    {
     "name": "stdout",
     "output_type": "stream",
     "text": [
      "saved\n",
      "loaded\n",
      "saved\n",
      "loaded\n",
      "saved\n",
      "loaded\n",
      "saved\n",
      "loaded\n",
      "saved\n",
      "loaded\n"
     ]
    },
    {
     "name": "stderr",
     "output_type": "stream",
     "text": [
      "  4%|████▌                                                                                                  | 94/2137 [00:05<01:34, 21.60it/s]"
     ]
    },
    {
     "name": "stdout",
     "output_type": "stream",
     "text": [
      "saved\n",
      "loaded\n",
      "saved\n",
      "loaded\n",
      "saved\n",
      "loaded\n",
      "saved\n",
      "loaded\n",
      "saved\n",
      "loaded\n"
     ]
    },
    {
     "name": "stderr",
     "output_type": "stream",
     "text": [
      "\r",
      "  5%|████▋                                                                                                  | 97/2137 [00:05<01:50, 18.51it/s]"
     ]
    },
    {
     "name": "stdout",
     "output_type": "stream",
     "text": [
      "saved\n",
      "loaded\n",
      "saved\n",
      "loaded\n",
      "saved\n",
      "loaded\n",
      "saved\n",
      "loaded\n"
     ]
    },
    {
     "name": "stderr",
     "output_type": "stream",
     "text": [
      "  5%|████▊                                                                                                 | 102/2137 [00:06<01:56, 17.41it/s]"
     ]
    },
    {
     "name": "stdout",
     "output_type": "stream",
     "text": [
      "saved\n",
      "loaded\n",
      "saved\n",
      "loaded\n",
      "saved\n",
      "loaded\n",
      "saved\n",
      "loaded\n"
     ]
    },
    {
     "name": "stderr",
     "output_type": "stream",
     "text": [
      "  5%|█████                                                                                                 | 106/2137 [00:06<01:54, 17.68it/s]"
     ]
    },
    {
     "name": "stdout",
     "output_type": "stream",
     "text": [
      "saved\n",
      "loaded\n",
      "saved\n",
      "loaded\n",
      "saved\n",
      "loaded\n",
      "saved\n",
      "loaded\n",
      "saved\n",
      "loaded\n"
     ]
    },
    {
     "name": "stderr",
     "output_type": "stream",
     "text": [
      "\r",
      "  5%|█████▏                                                                                                | 109/2137 [00:06<01:51, 18.23it/s]"
     ]
    },
    {
     "name": "stdout",
     "output_type": "stream",
     "text": [
      "saved\n",
      "loaded\n",
      "saved\n",
      "loaded\n",
      "saved\n",
      "loaded\n",
      "saved\n",
      "loaded\n"
     ]
    },
    {
     "name": "stderr",
     "output_type": "stream",
     "text": [
      "  5%|█████▍                                                                                                | 115/2137 [00:06<01:49, 18.47it/s]"
     ]
    },
    {
     "name": "stdout",
     "output_type": "stream",
     "text": [
      "saved\n",
      "loaded\n",
      "saved\n",
      "loaded\n",
      "saved\n",
      "loaded\n",
      "saved\n",
      "loaded\n"
     ]
    },
    {
     "name": "stderr",
     "output_type": "stream",
     "text": [
      "  6%|█████▋                                                                                                | 120/2137 [00:07<01:45, 19.04it/s]"
     ]
    },
    {
     "name": "stdout",
     "output_type": "stream",
     "text": [
      "saved\n",
      "loaded\n",
      "saved\n",
      "loaded\n",
      "saved\n",
      "loaded\n",
      "saved\n",
      "loaded\n",
      "saved\n",
      "loaded\n"
     ]
    },
    {
     "name": "stderr",
     "output_type": "stream",
     "text": [
      "\r",
      "  6%|█████▊                                                                                                | 123/2137 [00:07<01:44, 19.21it/s]"
     ]
    },
    {
     "name": "stdout",
     "output_type": "stream",
     "text": [
      "saved\n",
      "loaded\n",
      "saved\n",
      "loaded\n",
      "saved\n",
      "loaded\n",
      "saved\n",
      "loaded\n",
      "saved\n",
      "loaded\n"
     ]
    },
    {
     "name": "stderr",
     "output_type": "stream",
     "text": [
      "  6%|██████                                                                                                | 128/2137 [00:07<01:42, 19.51it/s]"
     ]
    },
    {
     "name": "stdout",
     "output_type": "stream",
     "text": [
      "saved\n",
      "loaded\n",
      "saved\n",
      "loaded\n",
      "saved\n",
      "loaded\n",
      "saved\n",
      "loaded\n"
     ]
    },
    {
     "name": "stderr",
     "output_type": "stream",
     "text": [
      "  6%|██████▎                                                                                               | 132/2137 [00:07<01:44, 19.21it/s]"
     ]
    },
    {
     "name": "stdout",
     "output_type": "stream",
     "text": [
      "saved\n",
      "loaded\n",
      "saved\n",
      "loaded\n",
      "saved\n",
      "loaded\n",
      "saved\n",
      "loaded\n",
      "saved\n",
      "loaded\n"
     ]
    },
    {
     "name": "stderr",
     "output_type": "stream",
     "text": [
      "  6%|██████▌                                                                                               | 138/2137 [00:07<01:42, 19.57it/s]"
     ]
    },
    {
     "name": "stdout",
     "output_type": "stream",
     "text": [
      "saved\n",
      "loaded\n",
      "saved\n",
      "loaded\n",
      "saved\n",
      "loaded\n",
      "saved\n",
      "loaded\n"
     ]
    },
    {
     "name": "stderr",
     "output_type": "stream",
     "text": [
      "  7%|██████▊                                                                                               | 142/2137 [00:08<01:46, 18.73it/s]"
     ]
    },
    {
     "name": "stdout",
     "output_type": "stream",
     "text": [
      "saved\n",
      "loaded\n",
      "saved\n",
      "loaded\n",
      "saved\n",
      "loaded\n",
      "saved\n",
      "loaded\n"
     ]
    },
    {
     "name": "stderr",
     "output_type": "stream",
     "text": [
      "\r",
      "  7%|██████▉                                                                                               | 145/2137 [00:08<01:47, 18.58it/s]"
     ]
    },
    {
     "name": "stdout",
     "output_type": "stream",
     "text": [
      "saved\n",
      "loaded\n",
      "saved\n",
      "loaded\n",
      "saved\n",
      "loaded\n",
      "saved\n",
      "loaded\n"
     ]
    },
    {
     "name": "stderr",
     "output_type": "stream",
     "text": [
      "\r",
      "  7%|███████                                                                                               | 148/2137 [00:08<01:38, 20.20it/s]"
     ]
    },
    {
     "name": "stdout",
     "output_type": "stream",
     "text": [
      "saved\n",
      "loaded\n",
      "saved\n",
      "loaded\n",
      "saved\n",
      "loaded\n",
      "saved\n",
      "loaded\n"
     ]
    },
    {
     "name": "stderr",
     "output_type": "stream",
     "text": [
      "  7%|███████▎                                                                                              | 153/2137 [00:08<01:46, 18.55it/s]"
     ]
    },
    {
     "name": "stdout",
     "output_type": "stream",
     "text": [
      "saved\n",
      "loaded\n",
      "saved\n",
      "loaded\n",
      "saved\n",
      "loaded\n",
      "saved\n",
      "loaded\n"
     ]
    },
    {
     "name": "stderr",
     "output_type": "stream",
     "text": [
      "  7%|███████▌                                                                                              | 158/2137 [00:09<01:40, 19.64it/s]"
     ]
    },
    {
     "name": "stdout",
     "output_type": "stream",
     "text": [
      "saved\n",
      "loaded\n",
      "saved\n",
      "loaded\n",
      "saved\n",
      "loaded\n",
      "saved\n",
      "loaded\n",
      "saved\n",
      "loaded\n"
     ]
    },
    {
     "name": "stderr",
     "output_type": "stream",
     "text": [
      "  8%|███████▊                                                                                              | 164/2137 [00:09<01:37, 20.25it/s]"
     ]
    },
    {
     "name": "stdout",
     "output_type": "stream",
     "text": [
      "saved\n",
      "loaded\n",
      "saved\n",
      "loaded\n",
      "saved\n",
      "loaded\n",
      "saved\n",
      "loaded\n",
      "saved\n",
      "loaded\n"
     ]
    },
    {
     "name": "stderr",
     "output_type": "stream",
     "text": [
      "\r",
      "  8%|███████▉                                                                                              | 167/2137 [00:09<01:42, 19.22it/s]"
     ]
    },
    {
     "name": "stdout",
     "output_type": "stream",
     "text": [
      "saved\n",
      "loaded\n",
      "saved\n",
      "loaded\n",
      "saved\n",
      "loaded\n",
      "saved\n",
      "loaded\n"
     ]
    },
    {
     "name": "stderr",
     "output_type": "stream",
     "text": [
      "  8%|████████▏                                                                                             | 172/2137 [00:09<01:39, 19.69it/s]"
     ]
    },
    {
     "name": "stdout",
     "output_type": "stream",
     "text": [
      "saved\n",
      "loaded\n",
      "saved\n",
      "loaded\n",
      "saved\n",
      "loaded\n",
      "saved\n",
      "loaded\n",
      "saved\n",
      "loaded\n"
     ]
    },
    {
     "name": "stderr",
     "output_type": "stream",
     "text": [
      "  8%|████████▍                                                                                             | 178/2137 [00:10<01:34, 20.64it/s]"
     ]
    },
    {
     "name": "stdout",
     "output_type": "stream",
     "text": [
      "saved\n",
      "loaded\n",
      "saved\n",
      "loaded\n",
      "saved\n",
      "loaded\n",
      "saved\n",
      "loaded\n",
      "saved\n",
      "loaded\n"
     ]
    },
    {
     "name": "stderr",
     "output_type": "stream",
     "text": [
      "\r",
      "  8%|████████▋                                                                                             | 181/2137 [00:10<01:36, 20.37it/s]"
     ]
    },
    {
     "name": "stdout",
     "output_type": "stream",
     "text": [
      "saved\n",
      "loaded\n",
      "saved\n",
      "loaded\n",
      "saved\n",
      "loaded\n",
      "saved\n",
      "loaded\n"
     ]
    },
    {
     "name": "stderr",
     "output_type": "stream",
     "text": [
      "\r",
      "  9%|████████▊                                                                                             | 184/2137 [00:10<01:37, 19.98it/s]"
     ]
    },
    {
     "name": "stdout",
     "output_type": "stream",
     "text": [
      "saved\n",
      "loaded\n",
      "saved\n",
      "loaded\n",
      "saved\n",
      "loaded\n",
      "saved\n",
      "loaded\n"
     ]
    },
    {
     "name": "stderr",
     "output_type": "stream",
     "text": [
      "  9%|█████████                                                                                             | 190/2137 [00:10<01:38, 19.85it/s]"
     ]
    },
    {
     "name": "stdout",
     "output_type": "stream",
     "text": [
      "saved\n",
      "loaded\n",
      "saved\n",
      "loaded\n",
      "saved\n",
      "loaded\n",
      "saved\n",
      "loaded\n",
      "saved\n",
      "loaded\n"
     ]
    },
    {
     "name": "stderr",
     "output_type": "stream",
     "text": [
      "\r",
      "  9%|█████████▏                                                                                            | 193/2137 [00:10<01:37, 19.96it/s]"
     ]
    },
    {
     "name": "stdout",
     "output_type": "stream",
     "text": [
      "saved\n",
      "loaded\n",
      "saved\n",
      "loaded\n",
      "saved\n",
      "loaded\n",
      "saved\n",
      "loaded\n"
     ]
    },
    {
     "name": "stderr",
     "output_type": "stream",
     "text": [
      "  9%|█████████▍                                                                                            | 199/2137 [00:11<01:32, 20.88it/s]"
     ]
    },
    {
     "name": "stdout",
     "output_type": "stream",
     "text": [
      "saved\n",
      "loaded\n",
      "saved\n",
      "loaded\n",
      "saved\n",
      "loaded\n",
      "saved\n",
      "loaded\n",
      "saved\n",
      "loaded\n"
     ]
    },
    {
     "name": "stderr",
     "output_type": "stream",
     "text": [
      " 10%|█████████▋                                                                                            | 204/2137 [00:11<01:41, 19.03it/s]"
     ]
    },
    {
     "name": "stdout",
     "output_type": "stream",
     "text": [
      "saved\n",
      "loaded\n",
      "saved\n",
      "loaded\n",
      "saved\n",
      "loaded\n",
      "saved\n",
      "loaded\n"
     ]
    },
    {
     "name": "stderr",
     "output_type": "stream",
     "text": [
      " 10%|█████████▉                                                                                            | 209/2137 [00:11<01:36, 19.91it/s]"
     ]
    },
    {
     "name": "stdout",
     "output_type": "stream",
     "text": [
      "saved\n",
      "loaded\n",
      "saved\n",
      "loaded\n",
      "saved\n",
      "loaded\n",
      "saved\n",
      "loaded\n",
      "saved\n",
      "loaded\n"
     ]
    },
    {
     "name": "stderr",
     "output_type": "stream",
     "text": [
      "\r",
      " 10%|██████████                                                                                            | 212/2137 [00:11<01:51, 17.29it/s]"
     ]
    },
    {
     "name": "stdout",
     "output_type": "stream",
     "text": [
      "saved\n",
      "loaded\n",
      "saved\n",
      "loaded\n",
      "saved\n",
      "loaded\n",
      "saved\n",
      "loaded\n"
     ]
    },
    {
     "name": "stderr",
     "output_type": "stream",
     "text": [
      " 10%|██████████▎                                                                                           | 217/2137 [00:12<01:51, 17.16it/s]"
     ]
    },
    {
     "name": "stdout",
     "output_type": "stream",
     "text": [
      "saved\n",
      "loaded\n",
      "saved\n",
      "loaded\n",
      "saved\n",
      "loaded\n",
      "saved\n",
      "loaded\n"
     ]
    },
    {
     "name": "stderr",
     "output_type": "stream",
     "text": [
      " 10%|██████████▌                                                                                           | 221/2137 [00:12<01:58, 16.20it/s]"
     ]
    },
    {
     "name": "stdout",
     "output_type": "stream",
     "text": [
      "saved\n",
      "loaded\n",
      "saved\n",
      "loaded\n",
      "saved\n",
      "loaded\n",
      "saved\n",
      "loaded\n"
     ]
    },
    {
     "name": "stderr",
     "output_type": "stream",
     "text": [
      " 11%|██████████▋                                                                                           | 225/2137 [00:12<01:58, 16.13it/s]"
     ]
    },
    {
     "name": "stdout",
     "output_type": "stream",
     "text": [
      "saved\n",
      "loaded\n",
      "saved\n",
      "loaded\n",
      "saved\n",
      "loaded\n",
      "saved\n",
      "loaded\n"
     ]
    },
    {
     "name": "stderr",
     "output_type": "stream",
     "text": [
      "\r",
      " 11%|██████████▉                                                                                           | 228/2137 [00:12<01:55, 16.56it/s]"
     ]
    },
    {
     "name": "stdout",
     "output_type": "stream",
     "text": [
      "saved\n",
      "loaded\n",
      "saved\n",
      "loaded\n",
      "saved\n",
      "loaded\n"
     ]
    },
    {
     "name": "stderr",
     "output_type": "stream",
     "text": [
      " 11%|███████████                                                                                           | 232/2137 [00:13<02:07, 14.96it/s]"
     ]
    },
    {
     "name": "stdout",
     "output_type": "stream",
     "text": [
      "saved\n",
      "loaded\n",
      "saved\n",
      "loaded\n",
      "saved\n",
      "loaded\n",
      "saved\n",
      "loaded\n"
     ]
    },
    {
     "name": "stderr",
     "output_type": "stream",
     "text": [
      "\r",
      " 11%|███████████▏                                                                                          | 235/2137 [00:13<01:56, 16.27it/s]"
     ]
    },
    {
     "name": "stdout",
     "output_type": "stream",
     "text": [
      "saved\n",
      "loaded\n",
      "saved\n",
      "loaded\n",
      "saved\n",
      "loaded\n",
      "saved\n",
      "loaded\n",
      "saved\n",
      "loaded\n"
     ]
    },
    {
     "name": "stderr",
     "output_type": "stream",
     "text": [
      " 11%|███████████▌                                                                                          | 241/2137 [00:13<01:38, 19.34it/s]"
     ]
    },
    {
     "name": "stdout",
     "output_type": "stream",
     "text": [
      "saved\n",
      "loaded\n",
      "saved\n",
      "loaded\n",
      "saved\n",
      "loaded\n",
      "saved\n",
      "loaded\n",
      "saved\n",
      "loaded\n"
     ]
    },
    {
     "name": "stderr",
     "output_type": "stream",
     "text": [
      " 12%|███████████▊                                                                                          | 247/2137 [00:13<01:25, 22.01it/s]"
     ]
    },
    {
     "name": "stdout",
     "output_type": "stream",
     "text": [
      "saved\n",
      "loaded\n",
      "saved\n",
      "loaded\n",
      "saved\n",
      "loaded\n",
      "saved\n",
      "loaded\n",
      "saved\n",
      "loaded\n"
     ]
    },
    {
     "name": "stderr",
     "output_type": "stream",
     "text": [
      "\r",
      " 12%|███████████▉                                                                                          | 250/2137 [00:13<01:21, 23.19it/s]"
     ]
    },
    {
     "name": "stdout",
     "output_type": "stream",
     "text": [
      "saved\n",
      "loaded\n",
      "saved\n",
      "loaded\n",
      "saved\n",
      "loaded\n",
      "saved\n",
      "loaded\n",
      "saved\n",
      "loaded\n"
     ]
    },
    {
     "name": "stderr",
     "output_type": "stream",
     "text": [
      " 12%|████████████▏                                                                                         | 256/2137 [00:14<01:25, 22.07it/s]"
     ]
    },
    {
     "name": "stdout",
     "output_type": "stream",
     "text": [
      "saved\n",
      "loaded\n",
      "saved\n",
      "loaded\n",
      "saved\n",
      "loaded\n",
      "saved\n",
      "loaded\n",
      "saved\n",
      "loaded\n"
     ]
    },
    {
     "name": "stderr",
     "output_type": "stream",
     "text": [
      " 12%|████████████▌                                                                                         | 262/2137 [00:14<01:26, 21.77it/s]"
     ]
    },
    {
     "name": "stdout",
     "output_type": "stream",
     "text": [
      "saved\n",
      "loaded\n",
      "saved\n",
      "loaded\n",
      "saved\n",
      "loaded\n",
      "saved\n",
      "loaded\n",
      "saved\n",
      "loaded\n"
     ]
    },
    {
     "name": "stderr",
     "output_type": "stream",
     "text": [
      "\r",
      " 12%|████████████▋                                                                                         | 265/2137 [00:14<01:23, 22.35it/s]"
     ]
    },
    {
     "name": "stdout",
     "output_type": "stream",
     "text": [
      "saved\n",
      "loaded\n",
      "saved\n",
      "loaded\n",
      "saved\n",
      "loaded\n",
      "saved\n",
      "loaded\n",
      "saved\n",
      "loaded\n"
     ]
    },
    {
     "name": "stderr",
     "output_type": "stream",
     "text": [
      " 13%|████████████▉                                                                                         | 271/2137 [00:14<01:22, 22.59it/s]"
     ]
    },
    {
     "name": "stdout",
     "output_type": "stream",
     "text": [
      "saved\n",
      "loaded\n",
      "saved\n",
      "loaded\n",
      "saved\n",
      "loaded\n",
      "saved\n",
      "loaded\n",
      "saved\n",
      "loaded\n"
     ]
    },
    {
     "name": "stderr",
     "output_type": "stream",
     "text": [
      " 13%|█████████████▏                                                                                        | 277/2137 [00:15<01:22, 22.62it/s]"
     ]
    },
    {
     "name": "stdout",
     "output_type": "stream",
     "text": [
      "saved\n",
      "loaded\n",
      "saved\n",
      "loaded\n",
      "saved\n",
      "loaded\n",
      "saved\n",
      "loaded\n",
      "saved\n",
      "loaded\n"
     ]
    },
    {
     "name": "stderr",
     "output_type": "stream",
     "text": [
      "\r",
      " 13%|█████████████▎                                                                                        | 280/2137 [00:15<01:22, 22.41it/s]"
     ]
    },
    {
     "name": "stdout",
     "output_type": "stream",
     "text": [
      "saved\n",
      "loaded\n",
      "saved\n",
      "loaded\n",
      "saved\n",
      "loaded\n",
      "saved\n",
      "loaded\n",
      "saved\n",
      "loaded\n"
     ]
    },
    {
     "name": "stderr",
     "output_type": "stream",
     "text": [
      " 13%|█████████████▋                                                                                        | 286/2137 [00:15<01:21, 22.59it/s]"
     ]
    },
    {
     "name": "stdout",
     "output_type": "stream",
     "text": [
      "saved\n",
      "loaded\n",
      "saved\n",
      "loaded\n",
      "saved\n",
      "loaded\n",
      "saved\n",
      "loaded\n",
      "saved\n",
      "loaded\n"
     ]
    },
    {
     "name": "stderr",
     "output_type": "stream",
     "text": [
      " 14%|█████████████▉                                                                                        | 292/2137 [00:15<01:18, 23.42it/s]"
     ]
    },
    {
     "name": "stdout",
     "output_type": "stream",
     "text": [
      "saved\n",
      "loaded\n",
      "saved\n",
      "loaded\n",
      "saved\n",
      "loaded\n",
      "saved\n",
      "loaded\n",
      "saved\n",
      "loaded\n"
     ]
    },
    {
     "name": "stderr",
     "output_type": "stream",
     "text": [
      "\r",
      " 14%|██████████████                                                                                        | 295/2137 [00:15<01:20, 22.94it/s]"
     ]
    },
    {
     "name": "stdout",
     "output_type": "stream",
     "text": [
      "saved\n",
      "loaded\n",
      "saved\n",
      "loaded\n",
      "saved\n",
      "loaded\n",
      "saved\n",
      "loaded\n",
      "saved\n",
      "loaded\n"
     ]
    },
    {
     "name": "stderr",
     "output_type": "stream",
     "text": [
      " 14%|██████████████▎                                                                                       | 301/2137 [00:16<01:21, 22.61it/s]"
     ]
    },
    {
     "name": "stdout",
     "output_type": "stream",
     "text": [
      "saved\n",
      "loaded\n",
      "saved\n",
      "loaded\n",
      "saved\n",
      "loaded\n",
      "saved\n",
      "loaded\n",
      "saved\n",
      "loaded\n"
     ]
    },
    {
     "name": "stderr",
     "output_type": "stream",
     "text": [
      " 14%|██████████████▋                                                                                       | 307/2137 [00:16<01:19, 23.01it/s]"
     ]
    },
    {
     "name": "stdout",
     "output_type": "stream",
     "text": [
      "saved\n",
      "loaded\n",
      "saved\n",
      "loaded\n",
      "saved\n",
      "loaded\n",
      "saved\n",
      "loaded\n",
      "saved\n",
      "loaded\n"
     ]
    },
    {
     "name": "stderr",
     "output_type": "stream",
     "text": [
      "\r",
      " 15%|██████████████▊                                                                                       | 310/2137 [00:16<01:20, 22.61it/s]"
     ]
    },
    {
     "name": "stdout",
     "output_type": "stream",
     "text": [
      "saved\n",
      "loaded\n",
      "saved\n",
      "loaded\n",
      "saved\n",
      "loaded\n",
      "saved\n",
      "loaded\n",
      "saved\n",
      "loaded\n"
     ]
    },
    {
     "name": "stderr",
     "output_type": "stream",
     "text": [
      " 15%|███████████████                                                                                       | 316/2137 [00:16<01:20, 22.55it/s]"
     ]
    },
    {
     "name": "stdout",
     "output_type": "stream",
     "text": [
      "saved\n",
      "loaded\n",
      "saved\n",
      "loaded\n",
      "saved\n",
      "loaded\n",
      "saved\n",
      "loaded\n",
      "saved\n",
      "loaded\n"
     ]
    },
    {
     "name": "stderr",
     "output_type": "stream",
     "text": [
      " 15%|███████████████▎                                                                                      | 322/2137 [00:17<01:19, 22.80it/s]"
     ]
    },
    {
     "name": "stdout",
     "output_type": "stream",
     "text": [
      "saved\n",
      "loaded\n",
      "saved\n",
      "loaded\n",
      "saved\n",
      "loaded\n",
      "saved\n",
      "loaded\n",
      "saved\n",
      "loaded\n"
     ]
    },
    {
     "name": "stderr",
     "output_type": "stream",
     "text": [
      "\r",
      " 15%|███████████████▌                                                                                      | 325/2137 [00:17<01:20, 22.44it/s]"
     ]
    },
    {
     "name": "stdout",
     "output_type": "stream",
     "text": [
      "saved\n",
      "loaded\n",
      "saved\n",
      "loaded\n",
      "saved\n",
      "loaded\n",
      "saved\n",
      "loaded\n",
      "saved\n",
      "loaded\n"
     ]
    },
    {
     "name": "stderr",
     "output_type": "stream",
     "text": [
      " 15%|███████████████▊                                                                                      | 331/2137 [00:17<01:21, 22.29it/s]"
     ]
    },
    {
     "name": "stdout",
     "output_type": "stream",
     "text": [
      "saved\n",
      "loaded\n",
      "saved\n",
      "loaded\n",
      "saved\n",
      "loaded\n",
      "saved\n",
      "loaded\n",
      "saved\n",
      "loaded\n"
     ]
    },
    {
     "name": "stderr",
     "output_type": "stream",
     "text": [
      " 16%|████████████████                                                                                      | 337/2137 [00:17<01:21, 22.05it/s]"
     ]
    },
    {
     "name": "stdout",
     "output_type": "stream",
     "text": [
      "saved\n",
      "loaded\n",
      "saved\n",
      "loaded\n",
      "saved\n",
      "loaded\n",
      "saved\n",
      "loaded\n",
      "saved\n",
      "loaded\n"
     ]
    },
    {
     "name": "stderr",
     "output_type": "stream",
     "text": [
      "\r",
      " 16%|████████████████▏                                                                                     | 340/2137 [00:17<01:29, 20.17it/s]"
     ]
    },
    {
     "name": "stdout",
     "output_type": "stream",
     "text": [
      "saved\n",
      "loaded\n",
      "saved\n",
      "loaded\n",
      "saved\n",
      "loaded\n",
      "saved\n",
      "loaded\n"
     ]
    },
    {
     "name": "stderr",
     "output_type": "stream",
     "text": [
      " 16%|████████████████▌                                                                                     | 346/2137 [00:18<01:23, 21.56it/s]"
     ]
    },
    {
     "name": "stdout",
     "output_type": "stream",
     "text": [
      "saved\n",
      "loaded\n",
      "saved\n",
      "loaded\n",
      "saved\n",
      "loaded\n",
      "saved\n",
      "loaded\n",
      "saved\n",
      "loaded\n"
     ]
    },
    {
     "name": "stderr",
     "output_type": "stream",
     "text": [
      "\r",
      " 16%|████████████████▋                                                                                     | 349/2137 [00:18<01:19, 22.43it/s]"
     ]
    },
    {
     "name": "stdout",
     "output_type": "stream",
     "text": [
      "saved\n",
      "loaded\n",
      "saved\n",
      "loaded\n",
      "saved\n",
      "loaded\n",
      "saved\n",
      "loaded\n",
      "saved\n",
      "loaded\n"
     ]
    },
    {
     "name": "stderr",
     "output_type": "stream",
     "text": [
      " 17%|████████████████▉                                                                                     | 355/2137 [00:18<01:18, 22.69it/s]"
     ]
    },
    {
     "name": "stdout",
     "output_type": "stream",
     "text": [
      "saved\n",
      "loaded\n",
      "saved\n",
      "loaded\n",
      "saved\n",
      "loaded\n",
      "saved\n",
      "loaded\n",
      "saved\n",
      "loaded\n"
     ]
    },
    {
     "name": "stderr",
     "output_type": "stream",
     "text": [
      " 17%|█████████████████▏                                                                                    | 361/2137 [00:18<01:18, 22.67it/s]"
     ]
    },
    {
     "name": "stdout",
     "output_type": "stream",
     "text": [
      "saved\n",
      "loaded\n",
      "saved\n",
      "loaded\n",
      "saved\n",
      "loaded\n",
      "saved\n",
      "loaded\n",
      "saved\n",
      "loaded\n"
     ]
    },
    {
     "name": "stderr",
     "output_type": "stream",
     "text": [
      "\r",
      " 17%|█████████████████▎                                                                                    | 364/2137 [00:19<01:25, 20.75it/s]"
     ]
    },
    {
     "name": "stdout",
     "output_type": "stream",
     "text": [
      "saved\n",
      "loaded\n",
      "saved\n",
      "loaded\n",
      "saved\n",
      "loaded\n",
      "saved\n",
      "loaded\n"
     ]
    },
    {
     "name": "stderr",
     "output_type": "stream",
     "text": [
      " 17%|█████████████████▋                                                                                    | 370/2137 [00:19<01:20, 22.02it/s]"
     ]
    },
    {
     "name": "stdout",
     "output_type": "stream",
     "text": [
      "saved\n",
      "loaded\n",
      "saved\n",
      "loaded\n",
      "saved\n",
      "loaded\n",
      "saved\n",
      "loaded\n",
      "saved\n",
      "loaded\n"
     ]
    },
    {
     "name": "stderr",
     "output_type": "stream",
     "text": [
      "\r",
      " 17%|█████████████████▊                                                                                    | 373/2137 [00:19<01:19, 22.10it/s]"
     ]
    },
    {
     "name": "stdout",
     "output_type": "stream",
     "text": [
      "saved\n",
      "loaded\n",
      "saved\n",
      "loaded\n",
      "saved\n",
      "loaded\n",
      "saved\n",
      "loaded\n",
      "saved\n",
      "loaded\n"
     ]
    },
    {
     "name": "stderr",
     "output_type": "stream",
     "text": [
      " 18%|██████████████████                                                                                    | 379/2137 [00:19<01:22, 21.33it/s]"
     ]
    },
    {
     "name": "stdout",
     "output_type": "stream",
     "text": [
      "saved\n",
      "loaded\n",
      "saved\n",
      "loaded\n",
      "saved\n",
      "loaded\n",
      "saved\n",
      "loaded\n",
      "saved\n"
     ]
    },
    {
     "name": "stderr",
     "output_type": "stream",
     "text": [
      "\r",
      " 18%|██████████████████▏                                                                                   | 382/2137 [00:19<01:24, 20.84it/s]"
     ]
    },
    {
     "name": "stdout",
     "output_type": "stream",
     "text": [
      "loaded\n",
      "saved\n",
      "loaded\n",
      "saved\n",
      "loaded\n",
      "saved\n",
      "loaded\n",
      "saved\n",
      "loaded\n"
     ]
    },
    {
     "name": "stderr",
     "output_type": "stream",
     "text": [
      " 18%|██████████████████▌                                                                                   | 388/2137 [00:20<01:24, 20.67it/s]"
     ]
    },
    {
     "name": "stdout",
     "output_type": "stream",
     "text": [
      "saved\n",
      "loaded\n",
      "saved\n",
      "loaded\n",
      "saved\n",
      "loaded\n",
      "saved\n",
      "loaded\n"
     ]
    },
    {
     "name": "stderr",
     "output_type": "stream",
     "text": [
      "\r",
      " 18%|██████████████████▋                                                                                   | 391/2137 [00:20<01:25, 20.51it/s]"
     ]
    },
    {
     "name": "stdout",
     "output_type": "stream",
     "text": [
      "saved\n",
      "loaded\n",
      "saved\n",
      "loaded\n",
      "saved\n",
      "loaded\n",
      "saved\n",
      "loaded\n",
      "saved\n",
      "loaded\n"
     ]
    },
    {
     "name": "stderr",
     "output_type": "stream",
     "text": [
      " 19%|██████████████████▉                                                                                   | 397/2137 [00:20<01:20, 21.73it/s]"
     ]
    },
    {
     "name": "stdout",
     "output_type": "stream",
     "text": [
      "saved\n",
      "loaded\n",
      "saved\n",
      "loaded\n",
      "saved\n",
      "loaded\n",
      "saved\n",
      "loaded\n",
      "saved\n",
      "loaded\n"
     ]
    },
    {
     "name": "stderr",
     "output_type": "stream",
     "text": [
      " 19%|███████████████████▏                                                                                  | 403/2137 [00:20<01:18, 22.21it/s]"
     ]
    },
    {
     "name": "stdout",
     "output_type": "stream",
     "text": [
      "saved\n",
      "loaded\n",
      "saved\n",
      "loaded\n",
      "saved\n",
      "loaded\n",
      "saved\n",
      "loaded\n",
      "saved\n",
      "loaded\n"
     ]
    },
    {
     "name": "stderr",
     "output_type": "stream",
     "text": [
      "\r",
      " 19%|███████████████████▍                                                                                  | 406/2137 [00:20<01:16, 22.53it/s]"
     ]
    },
    {
     "name": "stdout",
     "output_type": "stream",
     "text": [
      "saved\n",
      "loaded\n",
      "saved\n",
      "loaded\n",
      "saved\n",
      "loaded\n",
      "saved\n",
      "loaded\n",
      "saved\n",
      "loaded\n"
     ]
    },
    {
     "name": "stderr",
     "output_type": "stream",
     "text": [
      " 19%|███████████████████▋                                                                                  | 412/2137 [00:21<01:19, 21.61it/s]"
     ]
    },
    {
     "name": "stdout",
     "output_type": "stream",
     "text": [
      "saved\n",
      "loaded\n",
      "saved\n",
      "loaded\n",
      "saved\n",
      "loaded\n",
      "saved\n",
      "loaded\n",
      "saved\n",
      "loaded\n"
     ]
    },
    {
     "name": "stderr",
     "output_type": "stream",
     "text": [
      " 20%|███████████████████▉                                                                                  | 418/2137 [00:21<01:17, 22.11it/s]"
     ]
    },
    {
     "name": "stdout",
     "output_type": "stream",
     "text": [
      "saved\n",
      "loaded\n",
      "saved\n",
      "loaded\n",
      "saved\n",
      "loaded\n",
      "saved\n",
      "loaded\n",
      "saved\n",
      "loaded\n"
     ]
    },
    {
     "name": "stderr",
     "output_type": "stream",
     "text": [
      "\r",
      " 20%|████████████████████                                                                                  | 421/2137 [00:21<01:19, 21.71it/s]"
     ]
    },
    {
     "name": "stdout",
     "output_type": "stream",
     "text": [
      "saved\n",
      "loaded\n",
      "saved\n",
      "loaded\n",
      "saved\n",
      "loaded\n",
      "saved\n",
      "loaded\n",
      "saved\n",
      "loaded\n"
     ]
    },
    {
     "name": "stderr",
     "output_type": "stream",
     "text": [
      " 20%|████████████████████▍                                                                                 | 427/2137 [00:21<01:17, 22.19it/s]"
     ]
    },
    {
     "name": "stdout",
     "output_type": "stream",
     "text": [
      "saved\n",
      "loaded\n",
      "saved\n",
      "loaded\n",
      "saved\n",
      "loaded\n",
      "saved\n",
      "loaded\n",
      "saved\n",
      "loaded\n"
     ]
    },
    {
     "name": "stderr",
     "output_type": "stream",
     "text": [
      " 20%|████████████████████▋                                                                                 | 433/2137 [00:22<01:16, 22.21it/s]"
     ]
    },
    {
     "name": "stdout",
     "output_type": "stream",
     "text": [
      "saved\n",
      "loaded\n",
      "saved\n",
      "loaded\n",
      "saved\n",
      "loaded\n",
      "saved\n",
      "loaded\n",
      "saved\n",
      "loaded\n"
     ]
    },
    {
     "name": "stderr",
     "output_type": "stream",
     "text": [
      "\r",
      " 20%|████████████████████▊                                                                                 | 436/2137 [00:22<01:22, 20.56it/s]"
     ]
    },
    {
     "name": "stdout",
     "output_type": "stream",
     "text": [
      "saved\n",
      "loaded\n",
      "saved\n",
      "loaded\n",
      "saved\n",
      "loaded\n",
      "saved\n",
      "loaded\n",
      "saved\n",
      "loaded\n"
     ]
    },
    {
     "name": "stderr",
     "output_type": "stream",
     "text": [
      " 21%|█████████████████████                                                                                 | 442/2137 [00:22<01:23, 20.28it/s]"
     ]
    },
    {
     "name": "stdout",
     "output_type": "stream",
     "text": [
      "saved\n",
      "loaded\n",
      "saved\n",
      "loaded\n",
      "saved\n",
      "loaded\n",
      "saved\n",
      "loaded\n"
     ]
    },
    {
     "name": "stderr",
     "output_type": "stream",
     "text": [
      "\r",
      " 21%|█████████████████████▏                                                                                | 445/2137 [00:22<01:21, 20.79it/s]"
     ]
    },
    {
     "name": "stdout",
     "output_type": "stream",
     "text": [
      "saved\n",
      "loaded\n",
      "saved\n",
      "loaded\n",
      "saved\n",
      "loaded\n",
      "saved\n",
      "loaded\n",
      "saved\n",
      "loaded\n"
     ]
    },
    {
     "name": "stderr",
     "output_type": "stream",
     "text": [
      " 21%|█████████████████████▌                                                                                | 451/2137 [00:23<01:24, 19.86it/s]"
     ]
    },
    {
     "name": "stdout",
     "output_type": "stream",
     "text": [
      "saved\n",
      "loaded\n",
      "saved\n",
      "loaded\n",
      "saved\n",
      "loaded\n",
      "saved\n",
      "loaded\n"
     ]
    },
    {
     "name": "stderr",
     "output_type": "stream",
     "text": [
      "\r",
      " 21%|█████████████████████▋                                                                                | 454/2137 [00:23<01:27, 19.31it/s]"
     ]
    },
    {
     "name": "stdout",
     "output_type": "stream",
     "text": [
      "saved\n",
      "loaded\n",
      "saved\n",
      "loaded\n",
      "saved\n",
      "loaded\n",
      "saved\n",
      "loaded\n"
     ]
    },
    {
     "name": "stderr",
     "output_type": "stream",
     "text": [
      " 21%|█████████████████████▉                                                                                | 459/2137 [00:23<01:24, 19.79it/s]"
     ]
    },
    {
     "name": "stdout",
     "output_type": "stream",
     "text": [
      "saved\n",
      "loaded\n",
      "saved\n",
      "loaded\n",
      "saved\n",
      "loaded\n",
      "saved\n",
      "loaded\n",
      "saved\n",
      "loaded\n"
     ]
    },
    {
     "name": "stderr",
     "output_type": "stream",
     "text": [
      " 22%|██████████████████████▏                                                                               | 464/2137 [00:23<01:22, 20.22it/s]"
     ]
    },
    {
     "name": "stdout",
     "output_type": "stream",
     "text": [
      "saved\n",
      "loaded\n",
      "saved\n",
      "loaded\n",
      "saved\n",
      "loaded\n",
      "saved\n",
      "loaded\n",
      "saved\n",
      "loaded\n"
     ]
    },
    {
     "name": "stderr",
     "output_type": "stream",
     "text": [
      " 22%|██████████████████████▍                                                                               | 470/2137 [00:24<01:15, 22.01it/s]"
     ]
    },
    {
     "name": "stdout",
     "output_type": "stream",
     "text": [
      "saved\n",
      "loaded\n",
      "saved\n",
      "loaded\n",
      "saved\n",
      "loaded\n",
      "saved\n",
      "loaded\n",
      "saved\n",
      "loaded\n"
     ]
    },
    {
     "name": "stderr",
     "output_type": "stream",
     "text": [
      "\r",
      " 22%|██████████████████████▌                                                                               | 473/2137 [00:24<01:16, 21.79it/s]"
     ]
    },
    {
     "name": "stdout",
     "output_type": "stream",
     "text": [
      "saved\n",
      "loaded\n",
      "saved\n",
      "loaded\n",
      "saved\n",
      "loaded\n",
      "saved\n",
      "loaded\n",
      "saved\n",
      "loaded\n"
     ]
    },
    {
     "name": "stderr",
     "output_type": "stream",
     "text": [
      " 22%|██████████████████████▊                                                                               | 479/2137 [00:24<01:19, 20.74it/s]"
     ]
    },
    {
     "name": "stdout",
     "output_type": "stream",
     "text": [
      "saved\n",
      "loaded\n",
      "saved\n",
      "loaded\n",
      "saved\n",
      "loaded\n",
      "saved\n",
      "loaded\n",
      "saved\n",
      "loaded\n"
     ]
    },
    {
     "name": "stderr",
     "output_type": "stream",
     "text": [
      "\r",
      " 23%|███████████████████████                                                                               | 482/2137 [00:24<01:15, 21.98it/s]"
     ]
    },
    {
     "name": "stdout",
     "output_type": "stream",
     "text": [
      "saved\n",
      "loaded\n",
      "saved\n",
      "loaded\n",
      "saved\n",
      "loaded\n",
      "saved\n",
      "loaded\n"
     ]
    },
    {
     "name": "stderr",
     "output_type": "stream",
     "text": [
      " 23%|███████████████████████▎                                                                              | 488/2137 [00:24<01:19, 20.79it/s]"
     ]
    },
    {
     "name": "stdout",
     "output_type": "stream",
     "text": [
      "saved\n",
      "loaded\n",
      "saved\n",
      "loaded\n",
      "saved\n",
      "loaded\n",
      "saved\n",
      "loaded\n",
      "saved\n",
      "loaded\n"
     ]
    },
    {
     "name": "stderr",
     "output_type": "stream",
     "text": [
      " 23%|███████████████████████▌                                                                              | 494/2137 [00:25<01:13, 22.22it/s]"
     ]
    },
    {
     "name": "stdout",
     "output_type": "stream",
     "text": [
      "saved\n",
      "loaded\n",
      "saved\n",
      "loaded\n",
      "saved\n",
      "loaded\n",
      "saved\n",
      "loaded\n",
      "saved\n",
      "loaded\n"
     ]
    },
    {
     "name": "stderr",
     "output_type": "stream",
     "text": [
      "\r",
      " 23%|███████████████████████▋                                                                              | 497/2137 [00:25<01:14, 22.11it/s]"
     ]
    },
    {
     "name": "stdout",
     "output_type": "stream",
     "text": [
      "saved\n",
      "loaded\n",
      "saved\n",
      "loaded\n",
      "saved\n",
      "loaded\n",
      "saved\n",
      "loaded\n",
      "saved\n",
      "loaded\n"
     ]
    },
    {
     "name": "stderr",
     "output_type": "stream",
     "text": [
      " 24%|████████████████████████                                                                              | 503/2137 [00:25<01:14, 21.81it/s]"
     ]
    },
    {
     "name": "stdout",
     "output_type": "stream",
     "text": [
      "saved\n",
      "loaded\n",
      "saved\n",
      "loaded\n",
      "saved\n",
      "loaded\n",
      "saved\n",
      "loaded\n",
      "saved\n",
      "loaded\n"
     ]
    },
    {
     "name": "stderr",
     "output_type": "stream",
     "text": [
      " 24%|████████████████████████▎                                                                             | 509/2137 [00:25<01:17, 20.95it/s]"
     ]
    },
    {
     "name": "stdout",
     "output_type": "stream",
     "text": [
      "saved\n",
      "loaded\n",
      "saved\n",
      "loaded\n",
      "saved\n",
      "loaded\n",
      "saved\n",
      "loaded\n",
      "saved\n",
      "loaded\n"
     ]
    },
    {
     "name": "stderr",
     "output_type": "stream",
     "text": [
      "\r",
      " 24%|████████████████████████▍                                                                             | 512/2137 [00:25<01:15, 21.46it/s]"
     ]
    },
    {
     "name": "stdout",
     "output_type": "stream",
     "text": [
      "saved\n",
      "loaded\n",
      "saved\n",
      "loaded\n",
      "saved\n",
      "loaded\n",
      "saved\n",
      "loaded\n"
     ]
    },
    {
     "name": "stderr",
     "output_type": "stream",
     "text": [
      " 24%|████████████████████████▋                                                                             | 518/2137 [00:26<01:17, 21.02it/s]"
     ]
    },
    {
     "name": "stdout",
     "output_type": "stream",
     "text": [
      "saved\n",
      "loaded\n",
      "saved\n",
      "loaded\n",
      "saved\n",
      "loaded\n",
      "saved\n",
      "loaded\n",
      "saved\n",
      "loaded\n"
     ]
    },
    {
     "name": "stderr",
     "output_type": "stream",
     "text": [
      "\r",
      " 24%|████████████████████████▊                                                                             | 521/2137 [00:26<01:15, 21.43it/s]"
     ]
    },
    {
     "name": "stdout",
     "output_type": "stream",
     "text": [
      "saved\n",
      "loaded\n",
      "saved\n",
      "loaded\n",
      "saved\n",
      "loaded\n",
      "saved\n",
      "loaded\n",
      "saved\n",
      "loaded\n"
     ]
    },
    {
     "name": "stderr",
     "output_type": "stream",
     "text": [
      " 25%|█████████████████████████▏                                                                            | 527/2137 [00:26<01:12, 22.31it/s]"
     ]
    },
    {
     "name": "stdout",
     "output_type": "stream",
     "text": [
      "saved\n",
      "loaded\n",
      "saved\n",
      "loaded\n",
      "saved\n",
      "loaded\n",
      "saved\n",
      "loaded\n",
      "saved\n",
      "loaded\n"
     ]
    },
    {
     "name": "stderr",
     "output_type": "stream",
     "text": [
      " 25%|█████████████████████████▍                                                                            | 533/2137 [00:26<01:12, 22.18it/s]"
     ]
    },
    {
     "name": "stdout",
     "output_type": "stream",
     "text": [
      "saved\n",
      "loaded\n",
      "saved\n",
      "loaded\n",
      "saved\n",
      "loaded\n",
      "saved\n",
      "loaded\n",
      "saved\n",
      "loaded\n"
     ]
    },
    {
     "name": "stderr",
     "output_type": "stream",
     "text": [
      "\r",
      " 25%|█████████████████████████▌                                                                            | 536/2137 [00:27<01:09, 22.87it/s]"
     ]
    },
    {
     "name": "stdout",
     "output_type": "stream",
     "text": [
      "saved\n",
      "loaded\n",
      "saved\n",
      "loaded\n",
      "saved\n",
      "loaded\n",
      "saved\n",
      "loaded\n",
      "saved\n",
      "loaded\n"
     ]
    },
    {
     "name": "stderr",
     "output_type": "stream",
     "text": [
      " 25%|█████████████████████████▊                                                                            | 542/2137 [00:27<01:13, 21.75it/s]"
     ]
    },
    {
     "name": "stdout",
     "output_type": "stream",
     "text": [
      "saved\n",
      "loaded\n",
      "saved\n",
      "loaded\n",
      "saved\n",
      "loaded\n",
      "saved\n",
      "loaded\n",
      "saved\n",
      "loaded\n"
     ]
    },
    {
     "name": "stderr",
     "output_type": "stream",
     "text": [
      " 26%|██████████████████████████▏                                                                           | 548/2137 [00:27<01:14, 21.33it/s]"
     ]
    },
    {
     "name": "stdout",
     "output_type": "stream",
     "text": [
      "saved\n",
      "loaded\n",
      "saved\n",
      "loaded\n",
      "saved\n",
      "loaded\n",
      "saved\n",
      "loaded\n",
      "saved\n"
     ]
    },
    {
     "name": "stderr",
     "output_type": "stream",
     "text": [
      "\r",
      " 26%|██████████████████████████▎                                                                           | 551/2137 [00:27<01:14, 21.24it/s]"
     ]
    },
    {
     "name": "stdout",
     "output_type": "stream",
     "text": [
      "loaded\n",
      "saved\n",
      "loaded\n",
      "saved\n",
      "loaded\n",
      "saved\n",
      "loaded\n",
      "saved\n",
      "loaded\n"
     ]
    },
    {
     "name": "stderr",
     "output_type": "stream",
     "text": [
      " 26%|██████████████████████████▌                                                                           | 557/2137 [00:28<01:11, 22.04it/s]"
     ]
    },
    {
     "name": "stdout",
     "output_type": "stream",
     "text": [
      "saved\n",
      "loaded\n",
      "saved\n",
      "loaded\n",
      "saved\n",
      "loaded\n",
      "saved\n",
      "loaded\n",
      "saved\n",
      "loaded\n"
     ]
    },
    {
     "name": "stderr",
     "output_type": "stream",
     "text": [
      "\r",
      " 26%|██████████████████████████▋                                                                           | 560/2137 [00:28<01:08, 22.89it/s]"
     ]
    },
    {
     "name": "stdout",
     "output_type": "stream",
     "text": [
      "saved\n",
      "loaded\n",
      "saved\n",
      "loaded\n",
      "saved\n",
      "loaded\n",
      "saved\n",
      "loaded\n",
      "saved\n",
      "loaded\n"
     ]
    },
    {
     "name": "stderr",
     "output_type": "stream",
     "text": [
      " 26%|███████████████████████████                                                                           | 566/2137 [00:28<01:06, 23.54it/s]"
     ]
    },
    {
     "name": "stdout",
     "output_type": "stream",
     "text": [
      "saved\n",
      "loaded\n",
      "saved\n",
      "loaded\n",
      "saved\n",
      "loaded\n",
      "saved\n",
      "loaded\n",
      "saved\n",
      "loaded\n"
     ]
    },
    {
     "name": "stderr",
     "output_type": "stream",
     "text": [
      " 27%|███████████████████████████▎                                                                          | 572/2137 [00:28<01:07, 23.22it/s]"
     ]
    },
    {
     "name": "stdout",
     "output_type": "stream",
     "text": [
      "saved\n",
      "loaded\n",
      "saved\n",
      "loaded\n",
      "saved\n",
      "loaded\n",
      "saved\n",
      "loaded\n",
      "saved\n",
      "loaded\n"
     ]
    },
    {
     "name": "stderr",
     "output_type": "stream",
     "text": [
      "\r",
      " 27%|███████████████████████████▍                                                                          | 575/2137 [00:28<01:09, 22.46it/s]"
     ]
    },
    {
     "name": "stdout",
     "output_type": "stream",
     "text": [
      "saved\n",
      "loaded\n",
      "saved\n",
      "loaded\n",
      "saved\n",
      "loaded\n",
      "saved\n",
      "loaded\n",
      "saved\n",
      "loaded\n"
     ]
    },
    {
     "name": "stderr",
     "output_type": "stream",
     "text": [
      " 27%|███████████████████████████▋                                                                          | 581/2137 [00:29<01:10, 22.21it/s]"
     ]
    },
    {
     "name": "stdout",
     "output_type": "stream",
     "text": [
      "saved\n",
      "loaded\n",
      "saved\n",
      "loaded\n",
      "saved\n",
      "loaded\n",
      "saved\n",
      "loaded\n",
      "saved\n",
      "loaded\n"
     ]
    },
    {
     "name": "stderr",
     "output_type": "stream",
     "text": [
      " 27%|████████████████████████████                                                                          | 587/2137 [00:29<01:11, 21.78it/s]"
     ]
    },
    {
     "name": "stdout",
     "output_type": "stream",
     "text": [
      "saved\n",
      "loaded\n",
      "saved\n",
      "loaded\n",
      "saved\n",
      "loaded\n",
      "saved\n",
      "loaded\n",
      "saved\n",
      "loaded\n"
     ]
    },
    {
     "name": "stderr",
     "output_type": "stream",
     "text": [
      "\r",
      " 28%|████████████████████████████▏                                                                         | 590/2137 [00:29<01:10, 21.86it/s]"
     ]
    },
    {
     "name": "stdout",
     "output_type": "stream",
     "text": [
      "saved\n",
      "loaded\n",
      "saved\n",
      "loaded\n",
      "saved\n",
      "loaded\n",
      "saved\n",
      "loaded\n",
      "saved\n",
      "loaded\n"
     ]
    },
    {
     "name": "stderr",
     "output_type": "stream",
     "text": [
      " 28%|████████████████████████████▍                                                                         | 596/2137 [00:29<01:08, 22.38it/s]"
     ]
    },
    {
     "name": "stdout",
     "output_type": "stream",
     "text": [
      "saved\n",
      "loaded\n",
      "saved\n",
      "loaded\n",
      "saved\n",
      "loaded\n",
      "saved\n",
      "loaded\n",
      "saved\n",
      "loaded\n"
     ]
    },
    {
     "name": "stderr",
     "output_type": "stream",
     "text": [
      " 28%|████████████████████████████▋                                                                         | 602/2137 [00:30<01:10, 21.70it/s]"
     ]
    },
    {
     "name": "stdout",
     "output_type": "stream",
     "text": [
      "saved\n",
      "loaded\n",
      "saved\n",
      "loaded\n",
      "saved\n",
      "loaded\n",
      "saved\n",
      "loaded\n",
      "saved\n",
      "loaded\n"
     ]
    },
    {
     "name": "stderr",
     "output_type": "stream",
     "text": [
      "\r",
      " 28%|████████████████████████████▉                                                                         | 605/2137 [00:30<01:11, 21.54it/s]"
     ]
    },
    {
     "name": "stdout",
     "output_type": "stream",
     "text": [
      "saved\n",
      "loaded\n",
      "saved\n",
      "loaded\n",
      "saved\n",
      "loaded\n",
      "saved\n",
      "loaded\n",
      "saved\n",
      "loaded\n"
     ]
    },
    {
     "name": "stderr",
     "output_type": "stream",
     "text": [
      " 29%|█████████████████████████████▏                                                                        | 611/2137 [00:30<01:12, 21.11it/s]"
     ]
    },
    {
     "name": "stdout",
     "output_type": "stream",
     "text": [
      "saved\n",
      "loaded\n",
      "saved\n",
      "loaded\n",
      "saved\n",
      "loaded\n",
      "saved\n",
      "loaded\n",
      "saved\n",
      "loaded\n"
     ]
    },
    {
     "name": "stderr",
     "output_type": "stream",
     "text": [
      " 29%|█████████████████████████████▍                                                                        | 617/2137 [00:30<01:11, 21.22it/s]"
     ]
    },
    {
     "name": "stdout",
     "output_type": "stream",
     "text": [
      "saved\n",
      "loaded\n",
      "saved\n",
      "loaded\n",
      "saved\n",
      "loaded\n",
      "saved\n",
      "loaded\n",
      "saved\n",
      "loaded\n"
     ]
    },
    {
     "name": "stderr",
     "output_type": "stream",
     "text": [
      "\r",
      " 29%|█████████████████████████████▌                                                                        | 620/2137 [00:30<01:11, 21.21it/s]"
     ]
    },
    {
     "name": "stdout",
     "output_type": "stream",
     "text": [
      "saved\n",
      "loaded\n",
      "saved\n",
      "loaded\n",
      "saved\n",
      "loaded\n",
      "saved\n",
      "loaded\n",
      "saved\n",
      "loaded\n"
     ]
    },
    {
     "name": "stderr",
     "output_type": "stream",
     "text": [
      " 29%|█████████████████████████████▉                                                                        | 626/2137 [00:31<01:11, 21.24it/s]"
     ]
    },
    {
     "name": "stdout",
     "output_type": "stream",
     "text": [
      "saved\n",
      "loaded\n",
      "saved\n",
      "loaded\n",
      "saved\n",
      "loaded\n",
      "saved\n",
      "loaded\n",
      "saved\n",
      "loaded\n"
     ]
    },
    {
     "name": "stderr",
     "output_type": "stream",
     "text": [
      " 30%|██████████████████████████████▏                                                                       | 632/2137 [00:31<01:12, 20.78it/s]"
     ]
    },
    {
     "name": "stdout",
     "output_type": "stream",
     "text": [
      "saved\n",
      "loaded\n",
      "saved\n",
      "loaded\n",
      "saved\n",
      "loaded\n",
      "saved\n",
      "loaded\n",
      "saved\n",
      "loaded\n"
     ]
    },
    {
     "name": "stderr",
     "output_type": "stream",
     "text": [
      "\r",
      " 30%|██████████████████████████████▎                                                                       | 635/2137 [00:31<01:12, 20.85it/s]"
     ]
    },
    {
     "name": "stdout",
     "output_type": "stream",
     "text": [
      "saved\n",
      "loaded\n",
      "saved\n",
      "loaded\n",
      "saved\n",
      "loaded\n",
      "saved\n",
      "loaded\n",
      "saved\n"
     ]
    },
    {
     "name": "stderr",
     "output_type": "stream",
     "text": [
      " 30%|██████████████████████████████▌                                                                       | 641/2137 [00:31<01:11, 20.97it/s]"
     ]
    },
    {
     "name": "stdout",
     "output_type": "stream",
     "text": [
      "loaded\n",
      "saved\n",
      "loaded\n",
      "saved\n",
      "loaded\n",
      "saved\n",
      "loaded\n",
      "saved\n",
      "loaded\n"
     ]
    },
    {
     "name": "stderr",
     "output_type": "stream",
     "text": [
      "\r",
      " 30%|██████████████████████████████▋                                                                       | 644/2137 [00:32<01:09, 21.52it/s]"
     ]
    },
    {
     "name": "stdout",
     "output_type": "stream",
     "text": [
      "saved\n",
      "loaded\n",
      "saved\n",
      "loaded\n",
      "saved\n",
      "loaded\n",
      "saved\n",
      "loaded\n",
      "saved\n",
      "loaded\n"
     ]
    },
    {
     "name": "stderr",
     "output_type": "stream",
     "text": [
      " 30%|███████████████████████████████                                                                       | 650/2137 [00:32<01:11, 20.92it/s]"
     ]
    },
    {
     "name": "stdout",
     "output_type": "stream",
     "text": [
      "saved\n",
      "loaded\n",
      "saved\n",
      "loaded\n",
      "saved\n",
      "loaded\n",
      "saved\n",
      "loaded\n"
     ]
    },
    {
     "name": "stderr",
     "output_type": "stream",
     "text": [
      "\r",
      " 31%|███████████████████████████████▏                                                                      | 653/2137 [00:32<01:09, 21.26it/s]"
     ]
    },
    {
     "name": "stdout",
     "output_type": "stream",
     "text": [
      "saved\n",
      "loaded\n",
      "saved\n",
      "loaded\n",
      "saved\n",
      "loaded\n",
      "saved\n",
      "loaded\n",
      "saved\n",
      "loaded\n"
     ]
    },
    {
     "name": "stderr",
     "output_type": "stream",
     "text": [
      " 31%|███████████████████████████████▍                                                                      | 659/2137 [00:32<01:12, 20.41it/s]"
     ]
    },
    {
     "name": "stdout",
     "output_type": "stream",
     "text": [
      "saved\n",
      "loaded\n",
      "saved\n",
      "loaded\n",
      "saved\n",
      "loaded\n",
      "saved\n",
      "loaded\n"
     ]
    },
    {
     "name": "stderr",
     "output_type": "stream",
     "text": [
      "\r",
      " 31%|███████████████████████████████▌                                                                      | 662/2137 [00:32<01:11, 20.75it/s]"
     ]
    },
    {
     "name": "stdout",
     "output_type": "stream",
     "text": [
      "saved\n",
      "loaded\n",
      "saved\n",
      "loaded\n",
      "saved\n",
      "loaded\n",
      "saved\n",
      "loaded\n",
      "saved\n",
      "loaded\n"
     ]
    },
    {
     "name": "stderr",
     "output_type": "stream",
     "text": [
      " 31%|███████████████████████████████▉                                                                      | 668/2137 [00:33<01:12, 20.40it/s]"
     ]
    },
    {
     "name": "stdout",
     "output_type": "stream",
     "text": [
      "saved\n",
      "loaded\n",
      "saved\n",
      "loaded\n",
      "saved\n",
      "loaded\n",
      "saved\n",
      "loaded\n",
      "saved\n",
      "loaded\n"
     ]
    },
    {
     "name": "stderr",
     "output_type": "stream",
     "text": [
      " 32%|████████████████████████████████▏                                                                     | 674/2137 [00:33<01:11, 20.44it/s]"
     ]
    },
    {
     "name": "stdout",
     "output_type": "stream",
     "text": [
      "saved\n",
      "loaded\n",
      "saved\n",
      "loaded\n",
      "saved\n",
      "loaded\n",
      "saved\n",
      "loaded\n",
      "saved\n"
     ]
    },
    {
     "name": "stderr",
     "output_type": "stream",
     "text": [
      "\r",
      " 32%|████████████████████████████████▎                                                                     | 677/2137 [00:33<01:10, 20.84it/s]"
     ]
    },
    {
     "name": "stdout",
     "output_type": "stream",
     "text": [
      "loaded\n",
      "saved\n",
      "loaded\n",
      "saved\n",
      "loaded\n",
      "saved\n",
      "loaded\n",
      "saved\n",
      "loaded\n"
     ]
    },
    {
     "name": "stderr",
     "output_type": "stream",
     "text": [
      "\r",
      " 32%|████████████████████████████████▍                                                                     | 680/2137 [00:33<01:08, 21.35it/s]"
     ]
    },
    {
     "name": "stdout",
     "output_type": "stream",
     "text": [
      "saved\n",
      "loaded\n",
      "saved\n",
      "loaded\n",
      "saved\n",
      "loaded\n",
      "saved\n",
      "loaded\n"
     ]
    },
    {
     "name": "stderr",
     "output_type": "stream",
     "text": [
      " 32%|████████████████████████████████▋                                                                     | 686/2137 [00:34<01:09, 20.87it/s]"
     ]
    },
    {
     "name": "stdout",
     "output_type": "stream",
     "text": [
      "saved\n",
      "loaded\n",
      "saved\n",
      "loaded\n",
      "saved\n",
      "loaded\n",
      "saved\n",
      "loaded\n",
      "saved\n",
      "loaded\n"
     ]
    },
    {
     "name": "stderr",
     "output_type": "stream",
     "text": [
      " 32%|█████████████████████████████████                                                                     | 692/2137 [00:34<01:04, 22.31it/s]"
     ]
    },
    {
     "name": "stdout",
     "output_type": "stream",
     "text": [
      "saved\n",
      "loaded\n",
      "saved\n",
      "loaded\n",
      "saved\n",
      "loaded\n",
      "saved\n",
      "loaded\n",
      "saved\n",
      "loaded\n"
     ]
    },
    {
     "name": "stderr",
     "output_type": "stream",
     "text": [
      "\r",
      " 33%|█████████████████████████████████▏                                                                    | 695/2137 [00:34<01:03, 22.63it/s]"
     ]
    },
    {
     "name": "stdout",
     "output_type": "stream",
     "text": [
      "saved\n",
      "loaded\n",
      "saved\n",
      "loaded\n",
      "saved\n",
      "loaded\n",
      "saved\n",
      "loaded\n",
      "saved\n",
      "loaded\n"
     ]
    },
    {
     "name": "stderr",
     "output_type": "stream",
     "text": [
      " 33%|█████████████████████████████████▍                                                                    | 701/2137 [00:34<01:04, 22.22it/s]"
     ]
    },
    {
     "name": "stdout",
     "output_type": "stream",
     "text": [
      "saved\n",
      "loaded\n",
      "saved\n",
      "loaded\n",
      "saved\n",
      "loaded\n",
      "saved\n",
      "loaded\n",
      "saved\n",
      "loaded\n"
     ]
    },
    {
     "name": "stderr",
     "output_type": "stream",
     "text": [
      " 33%|█████████████████████████████████▋                                                                    | 707/2137 [00:35<01:03, 22.44it/s]"
     ]
    },
    {
     "name": "stdout",
     "output_type": "stream",
     "text": [
      "saved\n",
      "loaded\n",
      "saved\n",
      "loaded\n",
      "saved\n",
      "loaded\n",
      "saved\n",
      "loaded\n",
      "saved\n",
      "loaded\n"
     ]
    },
    {
     "name": "stderr",
     "output_type": "stream",
     "text": [
      "\r",
      " 33%|█████████████████████████████████▉                                                                    | 710/2137 [00:35<01:05, 21.94it/s]"
     ]
    },
    {
     "name": "stdout",
     "output_type": "stream",
     "text": [
      "saved\n",
      "loaded\n",
      "saved\n",
      "loaded\n",
      "saved\n",
      "loaded\n",
      "saved\n",
      "loaded\n",
      "saved\n",
      "loaded\n"
     ]
    },
    {
     "name": "stderr",
     "output_type": "stream",
     "text": [
      " 34%|██████████████████████████████████▏                                                                   | 716/2137 [00:35<01:13, 19.22it/s]"
     ]
    },
    {
     "name": "stdout",
     "output_type": "stream",
     "text": [
      "saved\n",
      "loaded\n",
      "saved\n",
      "loaded\n",
      "saved\n",
      "loaded\n",
      "saved\n",
      "loaded\n"
     ]
    },
    {
     "name": "stderr",
     "output_type": "stream",
     "text": [
      "\r",
      " 34%|██████████████████████████████████▎                                                                   | 719/2137 [00:35<01:12, 19.64it/s]"
     ]
    },
    {
     "name": "stdout",
     "output_type": "stream",
     "text": [
      "saved\n",
      "loaded\n",
      "saved\n",
      "loaded\n",
      "saved\n",
      "loaded\n",
      "saved\n",
      "loaded\n",
      "saved\n",
      "loaded\n"
     ]
    },
    {
     "name": "stderr",
     "output_type": "stream",
     "text": [
      " 34%|██████████████████████████████████▌                                                                   | 725/2137 [00:35<01:05, 21.43it/s]"
     ]
    },
    {
     "name": "stdout",
     "output_type": "stream",
     "text": [
      "saved\n",
      "loaded\n",
      "saved\n",
      "loaded\n",
      "saved\n",
      "loaded\n",
      "saved\n",
      "loaded\n",
      "saved\n",
      "loaded\n",
      "saved\n",
      "loaded\n"
     ]
    },
    {
     "name": "stderr",
     "output_type": "stream",
     "text": [
      " 34%|██████████████████████████████████▉                                                                   | 731/2137 [00:36<01:03, 22.23it/s]"
     ]
    },
    {
     "name": "stdout",
     "output_type": "stream",
     "text": [
      "saved\n",
      "loaded\n",
      "saved\n",
      "loaded\n",
      "saved\n",
      "loaded\n",
      "saved\n",
      "loaded\n",
      "saved\n",
      "loaded\n"
     ]
    },
    {
     "name": "stderr",
     "output_type": "stream",
     "text": [
      " 34%|███████████████████████████████████▏                                                                  | 737/2137 [00:36<01:05, 21.35it/s]"
     ]
    },
    {
     "name": "stdout",
     "output_type": "stream",
     "text": [
      "saved\n",
      "loaded\n",
      "saved\n",
      "loaded\n",
      "saved\n",
      "loaded\n",
      "saved\n",
      "loaded\n",
      "saved\n",
      "loaded\n"
     ]
    },
    {
     "name": "stderr",
     "output_type": "stream",
     "text": [
      "\r",
      " 35%|███████████████████████████████████▎                                                                  | 740/2137 [00:36<01:06, 21.08it/s]"
     ]
    },
    {
     "name": "stdout",
     "output_type": "stream",
     "text": [
      "saved\n",
      "loaded\n",
      "saved\n",
      "loaded\n",
      "saved\n",
      "loaded\n",
      "saved\n",
      "loaded\n",
      "saved\n",
      "loaded\n"
     ]
    },
    {
     "name": "stderr",
     "output_type": "stream",
     "text": [
      " 35%|███████████████████████████████████▌                                                                  | 746/2137 [00:36<01:07, 20.56it/s]"
     ]
    },
    {
     "name": "stdout",
     "output_type": "stream",
     "text": [
      "saved\n",
      "loaded\n",
      "saved\n",
      "loaded\n",
      "saved\n",
      "loaded\n",
      "saved\n",
      "loaded\n"
     ]
    },
    {
     "name": "stderr",
     "output_type": "stream",
     "text": [
      "\r",
      " 35%|███████████████████████████████████▊                                                                  | 749/2137 [00:37<01:06, 20.87it/s]"
     ]
    },
    {
     "name": "stdout",
     "output_type": "stream",
     "text": [
      "saved\n",
      "loaded\n",
      "saved\n",
      "loaded\n",
      "saved\n",
      "loaded\n",
      "saved\n",
      "loaded\n",
      "saved\n",
      "loaded\n"
     ]
    },
    {
     "name": "stderr",
     "output_type": "stream",
     "text": [
      " 35%|████████████████████████████████████                                                                  | 755/2137 [00:37<01:04, 21.49it/s]"
     ]
    },
    {
     "name": "stdout",
     "output_type": "stream",
     "text": [
      "saved\n",
      "loaded\n",
      "saved\n",
      "loaded\n",
      "saved\n",
      "loaded\n",
      "saved\n",
      "loaded\n",
      "saved\n",
      "loaded\n"
     ]
    },
    {
     "name": "stderr",
     "output_type": "stream",
     "text": [
      " 36%|████████████████████████████████████▎                                                                 | 761/2137 [00:37<01:06, 20.67it/s]"
     ]
    },
    {
     "name": "stdout",
     "output_type": "stream",
     "text": [
      "saved\n",
      "loaded\n",
      "saved\n",
      "loaded\n",
      "saved\n",
      "loaded\n",
      "saved\n",
      "loaded\n",
      "saved\n",
      "loaded\n"
     ]
    },
    {
     "name": "stderr",
     "output_type": "stream",
     "text": [
      "\r",
      " 36%|████████████████████████████████████▍                                                                 | 764/2137 [00:37<01:06, 20.50it/s]"
     ]
    },
    {
     "name": "stdout",
     "output_type": "stream",
     "text": [
      "saved\n",
      "loaded\n",
      "saved\n",
      "loaded\n",
      "saved\n",
      "loaded\n",
      "saved\n",
      "loaded\n",
      "saved\n",
      "loaded\n"
     ]
    },
    {
     "name": "stderr",
     "output_type": "stream",
     "text": [
      " 36%|████████████████████████████████████▊                                                                 | 770/2137 [00:38<01:08, 19.95it/s]"
     ]
    },
    {
     "name": "stdout",
     "output_type": "stream",
     "text": [
      "saved\n",
      "loaded\n",
      "saved\n",
      "loaded\n",
      "saved\n",
      "loaded\n",
      "saved\n",
      "loaded\n"
     ]
    },
    {
     "name": "stderr",
     "output_type": "stream",
     "text": [
      "\r",
      " 36%|████████████████████████████████████▉                                                                 | 773/2137 [00:38<01:09, 19.51it/s]"
     ]
    },
    {
     "name": "stdout",
     "output_type": "stream",
     "text": [
      "saved\n",
      "loaded\n",
      "saved\n",
      "loaded\n",
      "saved\n",
      "loaded\n",
      "saved\n",
      "loaded\n"
     ]
    },
    {
     "name": "stderr",
     "output_type": "stream",
     "text": [
      "\r",
      " 36%|█████████████████████████████████████                                                                 | 776/2137 [00:38<01:09, 19.56it/s]"
     ]
    },
    {
     "name": "stdout",
     "output_type": "stream",
     "text": [
      "saved\n",
      "loaded\n",
      "saved\n",
      "loaded\n",
      "saved\n",
      "loaded\n",
      "saved\n",
      "loaded\n"
     ]
    },
    {
     "name": "stderr",
     "output_type": "stream",
     "text": [
      " 37%|█████████████████████████████████████▎                                                                | 781/2137 [00:38<01:09, 19.60it/s]"
     ]
    },
    {
     "name": "stdout",
     "output_type": "stream",
     "text": [
      "saved\n",
      "loaded\n",
      "saved\n",
      "loaded\n",
      "saved\n",
      "loaded\n",
      "saved\n",
      "loaded\n",
      "saved\n",
      "loaded\n"
     ]
    },
    {
     "name": "stderr",
     "output_type": "stream",
     "text": [
      " 37%|█████████████████████████████████████▌                                                                | 787/2137 [00:38<01:05, 20.52it/s]"
     ]
    },
    {
     "name": "stdout",
     "output_type": "stream",
     "text": [
      "saved\n",
      "loaded\n",
      "saved\n",
      "loaded\n",
      "saved\n",
      "loaded\n",
      "saved\n",
      "loaded\n",
      "saved\n",
      "loaded\n"
     ]
    },
    {
     "name": "stderr",
     "output_type": "stream",
     "text": [
      " 37%|█████████████████████████████████████▊                                                                | 793/2137 [00:39<01:03, 21.15it/s]"
     ]
    },
    {
     "name": "stdout",
     "output_type": "stream",
     "text": [
      "saved\n",
      "loaded\n",
      "saved\n",
      "loaded\n",
      "saved\n",
      "loaded\n",
      "saved\n",
      "loaded\n",
      "saved\n",
      "loaded\n"
     ]
    },
    {
     "name": "stderr",
     "output_type": "stream",
     "text": [
      "\r",
      " 37%|█████████████████████████████████████▉                                                                | 796/2137 [00:39<01:01, 21.81it/s]"
     ]
    },
    {
     "name": "stdout",
     "output_type": "stream",
     "text": [
      "saved\n",
      "loaded\n",
      "saved\n",
      "loaded\n",
      "saved\n",
      "loaded\n",
      "saved\n",
      "loaded\n",
      "saved\n",
      "loaded\n"
     ]
    },
    {
     "name": "stderr",
     "output_type": "stream",
     "text": [
      " 38%|██████████████████████████████████████▎                                                               | 802/2137 [00:39<01:02, 21.36it/s]"
     ]
    },
    {
     "name": "stdout",
     "output_type": "stream",
     "text": [
      "saved\n",
      "loaded\n",
      "saved\n",
      "loaded\n",
      "saved\n",
      "loaded\n",
      "saved\n",
      "loaded\n",
      "saved\n",
      "loaded\n"
     ]
    },
    {
     "name": "stderr",
     "output_type": "stream",
     "text": [
      " 38%|██████████████████████████████████████▌                                                               | 808/2137 [00:39<00:59, 22.46it/s]"
     ]
    },
    {
     "name": "stdout",
     "output_type": "stream",
     "text": [
      "saved\n",
      "loaded\n",
      "saved\n",
      "loaded\n",
      "saved\n",
      "loaded\n",
      "saved\n",
      "loaded\n",
      "saved\n",
      "loaded\n"
     ]
    },
    {
     "name": "stderr",
     "output_type": "stream",
     "text": [
      "\r",
      " 38%|██████████████████████████████████████▋                                                               | 811/2137 [00:39<01:01, 21.47it/s]"
     ]
    },
    {
     "name": "stdout",
     "output_type": "stream",
     "text": [
      "saved\n",
      "loaded\n",
      "saved\n",
      "loaded\n",
      "saved\n",
      "loaded\n",
      "saved\n",
      "loaded\n",
      "saved\n",
      "loaded\n"
     ]
    },
    {
     "name": "stderr",
     "output_type": "stream",
     "text": [
      " 38%|██████████████████████████████████████▉                                                               | 817/2137 [00:40<01:02, 21.01it/s]"
     ]
    },
    {
     "name": "stdout",
     "output_type": "stream",
     "text": [
      "saved\n",
      "loaded\n",
      "saved\n",
      "loaded\n",
      "saved\n",
      "loaded\n",
      "saved\n",
      "loaded\n"
     ]
    },
    {
     "name": "stderr",
     "output_type": "stream",
     "text": [
      "\r",
      " 38%|███████████████████████████████████████▏                                                              | 820/2137 [00:40<01:17, 16.98it/s]"
     ]
    },
    {
     "name": "stdout",
     "output_type": "stream",
     "text": [
      "saved\n",
      "loaded\n",
      "saved\n",
      "loaded\n",
      "saved\n",
      "loaded\n"
     ]
    },
    {
     "name": "stderr",
     "output_type": "stream",
     "text": [
      "\r",
      " 38%|███████████████████████████████████████▏                                                              | 822/2137 [00:40<01:29, 14.73it/s]"
     ]
    },
    {
     "name": "stdout",
     "output_type": "stream",
     "text": [
      "saved\n",
      "loaded\n",
      "saved\n",
      "loaded\n",
      "saved\n",
      "loaded\n"
     ]
    },
    {
     "name": "stderr",
     "output_type": "stream",
     "text": [
      " 39%|███████████████████████████████████████▍                                                              | 826/2137 [00:40<01:22, 15.83it/s]"
     ]
    },
    {
     "name": "stdout",
     "output_type": "stream",
     "text": [
      "saved\n",
      "loaded\n",
      "saved\n",
      "loaded\n",
      "saved\n",
      "loaded\n",
      "saved\n",
      "loaded\n"
     ]
    },
    {
     "name": "stderr",
     "output_type": "stream",
     "text": [
      " 39%|███████████████████████████████████████▌                                                              | 830/2137 [00:41<01:22, 15.81it/s]"
     ]
    },
    {
     "name": "stdout",
     "output_type": "stream",
     "text": [
      "saved\n",
      "loaded\n",
      "saved\n",
      "loaded\n",
      "saved\n",
      "loaded\n"
     ]
    },
    {
     "name": "stderr",
     "output_type": "stream",
     "text": [
      "\r",
      " 39%|███████████████████████████████████████▋                                                              | 832/2137 [00:41<01:21, 15.97it/s]"
     ]
    },
    {
     "name": "stdout",
     "output_type": "stream",
     "text": [
      "saved\n",
      "loaded\n",
      "saved\n",
      "loaded\n",
      "saved\n",
      "loaded\n",
      "saved\n",
      "loaded\n"
     ]
    },
    {
     "name": "stderr",
     "output_type": "stream",
     "text": [
      " 39%|███████████████████████████████████████▉                                                              | 837/2137 [00:41<01:14, 17.51it/s]"
     ]
    },
    {
     "name": "stdout",
     "output_type": "stream",
     "text": [
      "saved\n",
      "loaded\n",
      "saved\n",
      "loaded\n",
      "saved\n",
      "loaded\n",
      "saved\n",
      "loaded\n",
      "saved\n",
      "loaded\n"
     ]
    },
    {
     "name": "stderr",
     "output_type": "stream",
     "text": [
      " 39%|████████████████████████████████████████▏                                                             | 843/2137 [00:41<01:08, 18.86it/s]"
     ]
    },
    {
     "name": "stdout",
     "output_type": "stream",
     "text": [
      "saved\n",
      "loaded\n",
      "saved\n",
      "loaded\n",
      "saved\n",
      "loaded\n",
      "saved\n",
      "loaded\n",
      "saved\n",
      "loaded\n"
     ]
    },
    {
     "name": "stderr",
     "output_type": "stream",
     "text": [
      " 40%|████████████████████████████████████████▍                                                             | 847/2137 [00:42<01:12, 17.89it/s]"
     ]
    },
    {
     "name": "stdout",
     "output_type": "stream",
     "text": [
      "saved\n",
      "loaded\n",
      "saved\n",
      "loaded\n",
      "saved\n",
      "loaded\n"
     ]
    },
    {
     "name": "stderr",
     "output_type": "stream",
     "text": [
      "\r",
      " 40%|████████████████████████████████████████▌                                                             | 849/2137 [00:42<01:19, 16.22it/s]"
     ]
    },
    {
     "name": "stdout",
     "output_type": "stream",
     "text": [
      "saved\n",
      "loaded\n",
      "saved\n",
      "loaded\n",
      "saved\n",
      "loaded\n"
     ]
    },
    {
     "name": "stderr",
     "output_type": "stream",
     "text": [
      " 40%|████████████████████████████████████████▋                                                             | 853/2137 [00:42<01:33, 13.79it/s]"
     ]
    },
    {
     "name": "stdout",
     "output_type": "stream",
     "text": [
      "saved\n",
      "loaded\n",
      "saved\n",
      "loaded\n",
      "saved\n",
      "loaded\n"
     ]
    },
    {
     "name": "stderr",
     "output_type": "stream",
     "text": [
      "\r",
      " 40%|████████████████████████████████████████▊                                                             | 855/2137 [00:42<01:29, 14.35it/s]"
     ]
    },
    {
     "name": "stdout",
     "output_type": "stream",
     "text": [
      "saved\n",
      "loaded\n",
      "saved\n",
      "loaded\n",
      "saved\n",
      "loaded\n"
     ]
    },
    {
     "name": "stderr",
     "output_type": "stream",
     "text": [
      " 40%|█████████████████████████████████████████                                                             | 859/2137 [00:42<01:23, 15.38it/s]"
     ]
    },
    {
     "name": "stdout",
     "output_type": "stream",
     "text": [
      "saved\n",
      "loaded\n",
      "saved\n",
      "loaded\n",
      "saved\n",
      "loaded\n"
     ]
    },
    {
     "name": "stderr",
     "output_type": "stream",
     "text": [
      " 40%|█████████████████████████████████████████▏                                                            | 863/2137 [00:43<01:21, 15.72it/s]"
     ]
    },
    {
     "name": "stdout",
     "output_type": "stream",
     "text": [
      "saved\n",
      "loaded\n",
      "saved\n",
      "loaded\n",
      "saved\n",
      "loaded\n",
      "saved\n",
      "loaded\n"
     ]
    },
    {
     "name": "stderr",
     "output_type": "stream",
     "text": [
      "\r",
      " 40%|█████████████████████████████████████████▎                                                            | 865/2137 [00:43<01:23, 15.26it/s]"
     ]
    },
    {
     "name": "stdout",
     "output_type": "stream",
     "text": [
      "saved\n",
      "loaded\n",
      "saved\n",
      "loaded\n",
      "saved\n",
      "loaded\n"
     ]
    },
    {
     "name": "stderr",
     "output_type": "stream",
     "text": [
      " 41%|█████████████████████████████████████████▍                                                            | 869/2137 [00:43<01:27, 14.41it/s]"
     ]
    },
    {
     "name": "stdout",
     "output_type": "stream",
     "text": [
      "saved\n",
      "loaded\n",
      "saved\n",
      "loaded\n",
      "saved\n",
      "loaded\n",
      "saved\n",
      "loaded\n"
     ]
    },
    {
     "name": "stderr",
     "output_type": "stream",
     "text": [
      " 41%|█████████████████████████████████████████▋                                                            | 873/2137 [00:43<01:18, 16.18it/s]"
     ]
    },
    {
     "name": "stdout",
     "output_type": "stream",
     "text": [
      "saved\n",
      "loaded\n",
      "saved\n",
      "loaded\n",
      "saved\n",
      "loaded\n"
     ]
    },
    {
     "name": "stderr",
     "output_type": "stream",
     "text": [
      " 41%|█████████████████████████████████████████▊                                                            | 877/2137 [00:44<01:25, 14.71it/s]"
     ]
    },
    {
     "name": "stdout",
     "output_type": "stream",
     "text": [
      "saved\n",
      "loaded\n",
      "saved\n",
      "loaded\n",
      "saved\n",
      "loaded\n",
      "saved\n"
     ]
    },
    {
     "name": "stderr",
     "output_type": "stream",
     "text": [
      "\r",
      " 41%|█████████████████████████████████████████▉                                                            | 879/2137 [00:44<01:25, 14.77it/s]"
     ]
    },
    {
     "name": "stdout",
     "output_type": "stream",
     "text": [
      "loaded\n",
      "saved\n",
      "loaded\n",
      "saved\n",
      "loaded\n",
      "saved\n",
      "loaded\n"
     ]
    },
    {
     "name": "stderr",
     "output_type": "stream",
     "text": [
      " 41%|██████████████████████████████████████████▏                                                           | 883/2137 [00:44<01:20, 15.58it/s]"
     ]
    },
    {
     "name": "stdout",
     "output_type": "stream",
     "text": [
      "saved\n",
      "loaded\n",
      "saved\n",
      "loaded\n",
      "saved\n",
      "loaded\n",
      "saved\n",
      "loaded\n"
     ]
    },
    {
     "name": "stderr",
     "output_type": "stream",
     "text": [
      " 42%|██████████████████████████████████████████▎                                                           | 887/2137 [00:44<01:26, 14.51it/s]"
     ]
    },
    {
     "name": "stdout",
     "output_type": "stream",
     "text": [
      "saved\n",
      "loaded\n",
      "saved\n",
      "loaded\n",
      "saved\n",
      "loaded\n"
     ]
    },
    {
     "name": "stderr",
     "output_type": "stream",
     "text": [
      " 42%|██████████████████████████████████████████▌                                                           | 891/2137 [00:45<01:20, 15.55it/s]"
     ]
    },
    {
     "name": "stdout",
     "output_type": "stream",
     "text": [
      "saved\n",
      "loaded\n",
      "saved\n",
      "loaded\n",
      "saved\n",
      "loaded\n",
      "saved\n",
      "loaded\n"
     ]
    },
    {
     "name": "stderr",
     "output_type": "stream",
     "text": [
      "\r",
      " 42%|██████████████████████████████████████████▋                                                           | 894/2137 [00:45<01:11, 17.32it/s]"
     ]
    },
    {
     "name": "stdout",
     "output_type": "stream",
     "text": [
      "saved\n",
      "loaded\n",
      "saved\n",
      "loaded\n",
      "saved\n",
      "loaded\n",
      "saved\n",
      "loaded\n",
      "saved\n",
      "loaded\n"
     ]
    },
    {
     "name": "stderr",
     "output_type": "stream",
     "text": [
      " 42%|██████████████████████████████████████████▉                                                           | 899/2137 [00:45<01:11, 17.34it/s]"
     ]
    },
    {
     "name": "stdout",
     "output_type": "stream",
     "text": [
      "saved\n",
      "loaded\n",
      "saved\n",
      "loaded\n",
      "saved\n",
      "loaded\n",
      "saved\n",
      "loaded\n"
     ]
    },
    {
     "name": "stderr",
     "output_type": "stream",
     "text": [
      " 42%|███████████████████████████████████████████                                                           | 903/2137 [00:45<01:13, 16.90it/s]"
     ]
    },
    {
     "name": "stdout",
     "output_type": "stream",
     "text": [
      "saved\n",
      "loaded\n",
      "saved\n",
      "loaded\n",
      "saved\n",
      "loaded\n"
     ]
    },
    {
     "name": "stderr",
     "output_type": "stream",
     "text": [
      " 42%|███████████████████████████████████████████▎                                                          | 908/2137 [00:46<01:09, 17.60it/s]"
     ]
    },
    {
     "name": "stdout",
     "output_type": "stream",
     "text": [
      "saved\n",
      "loaded\n",
      "saved\n",
      "loaded\n",
      "saved\n",
      "loaded\n",
      "saved\n",
      "loaded\n",
      "saved\n",
      "loaded\n"
     ]
    },
    {
     "name": "stderr",
     "output_type": "stream",
     "text": [
      " 43%|███████████████████████████████████████████▌                                                          | 912/2137 [00:46<01:09, 17.52it/s]"
     ]
    },
    {
     "name": "stdout",
     "output_type": "stream",
     "text": [
      "saved\n",
      "loaded\n",
      "saved\n",
      "loaded\n",
      "saved\n",
      "loaded\n",
      "saved\n",
      "loaded\n"
     ]
    },
    {
     "name": "stderr",
     "output_type": "stream",
     "text": [
      "\r",
      " 43%|███████████████████████████████████████████▋                                                          | 915/2137 [00:46<01:04, 18.85it/s]"
     ]
    },
    {
     "name": "stdout",
     "output_type": "stream",
     "text": [
      "saved\n",
      "loaded\n",
      "saved\n",
      "loaded\n",
      "saved\n",
      "loaded\n",
      "saved\n",
      "loaded\n",
      "saved\n",
      "loaded\n"
     ]
    },
    {
     "name": "stderr",
     "output_type": "stream",
     "text": [
      " 43%|███████████████████████████████████████████▉                                                          | 920/2137 [00:46<01:07, 17.94it/s]"
     ]
    },
    {
     "name": "stdout",
     "output_type": "stream",
     "text": [
      "saved\n",
      "loaded\n",
      "saved\n",
      "loaded\n",
      "saved\n",
      "loaded\n",
      "saved\n",
      "loaded\n"
     ]
    },
    {
     "name": "stderr",
     "output_type": "stream",
     "text": [
      " 43%|████████████████████████████████████████████                                                          | 924/2137 [00:46<01:13, 16.60it/s]"
     ]
    },
    {
     "name": "stdout",
     "output_type": "stream",
     "text": [
      "saved\n",
      "loaded\n",
      "saved\n",
      "loaded\n",
      "saved\n",
      "loaded\n",
      "saved\n"
     ]
    },
    {
     "name": "stderr",
     "output_type": "stream",
     "text": [
      " 43%|████████████████████████████████████████████▎                                                         | 928/2137 [00:47<01:10, 17.09it/s]"
     ]
    },
    {
     "name": "stdout",
     "output_type": "stream",
     "text": [
      "loaded\n",
      "saved\n",
      "loaded\n",
      "saved\n",
      "loaded\n",
      "saved\n",
      "loaded\n"
     ]
    },
    {
     "name": "stderr",
     "output_type": "stream",
     "text": [
      " 44%|████████████████████████████████████████████▌                                                         | 933/2137 [00:47<01:05, 18.35it/s]"
     ]
    },
    {
     "name": "stdout",
     "output_type": "stream",
     "text": [
      "saved\n",
      "loaded\n",
      "saved\n",
      "loaded\n",
      "saved\n",
      "loaded\n",
      "saved\n",
      "loaded\n",
      "saved\n",
      "loaded\n"
     ]
    },
    {
     "name": "stderr",
     "output_type": "stream",
     "text": [
      "\r",
      " 44%|████████████████████████████████████████████▋                                                         | 935/2137 [00:47<01:06, 18.11it/s]"
     ]
    },
    {
     "name": "stdout",
     "output_type": "stream",
     "text": [
      "saved\n",
      "loaded\n",
      "saved\n",
      "loaded\n",
      "saved\n",
      "loaded\n",
      "saved\n",
      "loaded\n"
     ]
    },
    {
     "name": "stderr",
     "output_type": "stream",
     "text": [
      " 44%|████████████████████████████████████████████▊                                                         | 940/2137 [00:47<01:03, 18.84it/s]"
     ]
    },
    {
     "name": "stdout",
     "output_type": "stream",
     "text": [
      "saved\n",
      "loaded\n",
      "saved\n",
      "loaded\n",
      "saved\n",
      "loaded\n",
      "saved\n",
      "loaded\n"
     ]
    },
    {
     "name": "stderr",
     "output_type": "stream",
     "text": [
      " 44%|█████████████████████████████████████████████                                                         | 944/2137 [00:48<01:09, 17.16it/s]"
     ]
    },
    {
     "name": "stdout",
     "output_type": "stream",
     "text": [
      "saved\n",
      "loaded\n",
      "saved\n",
      "loaded\n",
      "saved\n",
      "loaded\n"
     ]
    },
    {
     "name": "stderr",
     "output_type": "stream",
     "text": [
      " 44%|█████████████████████████████████████████████▏                                                        | 948/2137 [00:48<01:06, 17.94it/s]"
     ]
    },
    {
     "name": "stdout",
     "output_type": "stream",
     "text": [
      "saved\n",
      "loaded\n",
      "saved\n",
      "loaded\n",
      "saved\n",
      "loaded\n",
      "saved\n",
      "loaded\n"
     ]
    },
    {
     "name": "stderr",
     "output_type": "stream",
     "text": [
      " 45%|█████████████████████████████████████████████▍                                                        | 952/2137 [00:48<01:09, 17.16it/s]"
     ]
    },
    {
     "name": "stdout",
     "output_type": "stream",
     "text": [
      "saved\n",
      "loaded\n",
      "saved\n",
      "loaded\n",
      "saved\n",
      "loaded\n",
      "saved\n",
      "loaded\n"
     ]
    },
    {
     "name": "stderr",
     "output_type": "stream",
     "text": [
      " 45%|█████████████████████████████████████████████▋                                                        | 956/2137 [00:48<01:11, 16.51it/s]"
     ]
    },
    {
     "name": "stdout",
     "output_type": "stream",
     "text": [
      "saved\n",
      "loaded\n",
      "saved\n",
      "loaded\n",
      "saved\n",
      "loaded\n",
      "saved\n",
      "loaded\n"
     ]
    },
    {
     "name": "stderr",
     "output_type": "stream",
     "text": [
      "\r",
      " 45%|█████████████████████████████████████████████▋                                                        | 958/2137 [00:48<01:28, 13.25it/s]"
     ]
    },
    {
     "name": "stdout",
     "output_type": "stream",
     "text": [
      "saved\n",
      "loaded\n",
      "saved\n",
      "loaded\n",
      "saved\n",
      "loaded\n",
      "saved\n",
      "loaded\n"
     ]
    },
    {
     "name": "stderr",
     "output_type": "stream",
     "text": [
      " 45%|█████████████████████████████████████████████▉                                                        | 963/2137 [00:49<01:11, 16.48it/s]"
     ]
    },
    {
     "name": "stdout",
     "output_type": "stream",
     "text": [
      "saved\n",
      "loaded\n",
      "saved\n",
      "loaded\n",
      "saved\n",
      "loaded\n",
      "saved\n",
      "loaded\n",
      "saved\n",
      "loaded\n"
     ]
    },
    {
     "name": "stderr",
     "output_type": "stream",
     "text": [
      " 45%|██████████████████████████████████████████████▎                                                       | 969/2137 [00:49<01:04, 18.19it/s]"
     ]
    },
    {
     "name": "stdout",
     "output_type": "stream",
     "text": [
      "saved\n",
      "loaded\n",
      "saved\n",
      "loaded\n",
      "saved\n",
      "loaded\n",
      "saved\n",
      "loaded\n"
     ]
    },
    {
     "name": "stderr",
     "output_type": "stream",
     "text": [
      " 46%|██████████████████████████████████████████████▍                                                       | 973/2137 [00:49<01:06, 17.46it/s]"
     ]
    },
    {
     "name": "stdout",
     "output_type": "stream",
     "text": [
      "saved\n",
      "loaded\n",
      "saved\n",
      "loaded\n",
      "saved\n",
      "loaded\n",
      "saved\n",
      "loaded\n"
     ]
    },
    {
     "name": "stderr",
     "output_type": "stream",
     "text": [
      " 46%|██████████████████████████████████████████████▋                                                       | 977/2137 [00:50<01:10, 16.51it/s]"
     ]
    },
    {
     "name": "stdout",
     "output_type": "stream",
     "text": [
      "saved\n",
      "loaded\n",
      "saved\n",
      "loaded\n",
      "saved\n",
      "loaded\n",
      "saved\n",
      "loaded\n"
     ]
    },
    {
     "name": "stderr",
     "output_type": "stream",
     "text": [
      " 46%|██████████████████████████████████████████████▊                                                       | 981/2137 [00:50<01:15, 15.29it/s]"
     ]
    },
    {
     "name": "stdout",
     "output_type": "stream",
     "text": [
      "saved\n",
      "loaded\n",
      "saved\n",
      "loaded\n",
      "saved\n",
      "loaded\n",
      "saved\n",
      "loaded\n"
     ]
    },
    {
     "name": "stderr",
     "output_type": "stream",
     "text": [
      " 46%|███████████████████████████████████████████████                                                       | 985/2137 [00:50<01:10, 16.43it/s]"
     ]
    },
    {
     "name": "stdout",
     "output_type": "stream",
     "text": [
      "saved\n",
      "loaded\n",
      "saved\n",
      "loaded\n",
      "saved\n",
      "loaded\n",
      "saved\n",
      "loaded\n"
     ]
    },
    {
     "name": "stderr",
     "output_type": "stream",
     "text": [
      "\r",
      " 46%|███████████████████████████████████████████████                                                       | 987/2137 [00:50<01:10, 16.38it/s]"
     ]
    },
    {
     "name": "stdout",
     "output_type": "stream",
     "text": [
      "saved\n",
      "loaded\n",
      "saved\n",
      "loaded\n",
      "saved\n",
      "loaded\n",
      "saved\n",
      "loaded\n"
     ]
    },
    {
     "name": "stderr",
     "output_type": "stream",
     "text": [
      " 46%|███████████████████████████████████████████████▎                                                      | 992/2137 [00:50<01:03, 17.95it/s]"
     ]
    },
    {
     "name": "stdout",
     "output_type": "stream",
     "text": [
      "saved\n",
      "loaded\n",
      "saved\n",
      "loaded\n",
      "saved\n",
      "loaded\n",
      "saved\n",
      "loaded\n"
     ]
    },
    {
     "name": "stderr",
     "output_type": "stream",
     "text": [
      " 47%|███████████████████████████████████████████████▌                                                      | 997/2137 [00:51<00:59, 19.08it/s]"
     ]
    },
    {
     "name": "stdout",
     "output_type": "stream",
     "text": [
      "saved\n",
      "loaded\n",
      "saved\n",
      "loaded\n",
      "saved\n",
      "loaded\n",
      "saved\n",
      "loaded\n",
      "saved\n",
      "loaded\n"
     ]
    },
    {
     "name": "stderr",
     "output_type": "stream",
     "text": [
      "\r",
      " 47%|███████████████████████████████████████████████▎                                                     | 1000/2137 [00:51<00:58, 19.51it/s]"
     ]
    },
    {
     "name": "stdout",
     "output_type": "stream",
     "text": [
      "saved\n",
      "loaded\n",
      "saved\n",
      "loaded\n",
      "saved\n",
      "loaded\n",
      "saved\n",
      "loaded\n"
     ]
    },
    {
     "name": "stderr",
     "output_type": "stream",
     "text": [
      " 47%|███████████████████████████████████████████████▍                                                     | 1005/2137 [00:51<00:59, 19.07it/s]"
     ]
    },
    {
     "name": "stdout",
     "output_type": "stream",
     "text": [
      "saved\n",
      "loaded\n",
      "saved\n",
      "loaded\n",
      "saved\n",
      "loaded\n",
      "saved\n",
      "loaded\n"
     ]
    },
    {
     "name": "stderr",
     "output_type": "stream",
     "text": [
      " 47%|███████████████████████████████████████████████▋                                                     | 1009/2137 [00:51<00:59, 18.98it/s]"
     ]
    },
    {
     "name": "stdout",
     "output_type": "stream",
     "text": [
      "saved\n",
      "loaded\n",
      "saved\n",
      "loaded\n",
      "saved\n",
      "loaded\n",
      "saved\n",
      "loaded\n"
     ]
    },
    {
     "name": "stderr",
     "output_type": "stream",
     "text": [
      " 47%|███████████████████████████████████████████████▉                                                     | 1013/2137 [00:52<01:09, 16.19it/s]"
     ]
    },
    {
     "name": "stdout",
     "output_type": "stream",
     "text": [
      "saved\n",
      "loaded\n",
      "saved\n",
      "loaded\n",
      "saved\n",
      "loaded\n"
     ]
    },
    {
     "name": "stderr",
     "output_type": "stream",
     "text": [
      "\r",
      " 47%|███████████████████████████████████████████████▉                                                     | 1015/2137 [00:52<01:08, 16.34it/s]"
     ]
    },
    {
     "name": "stdout",
     "output_type": "stream",
     "text": [
      "saved\n",
      "loaded\n",
      "saved\n",
      "loaded\n",
      "saved\n",
      "loaded\n"
     ]
    },
    {
     "name": "stderr",
     "output_type": "stream",
     "text": [
      " 48%|████████████████████████████████████████████████▏                                                    | 1019/2137 [00:52<01:23, 13.39it/s]"
     ]
    },
    {
     "name": "stdout",
     "output_type": "stream",
     "text": [
      "saved\n",
      "loaded\n",
      "saved\n",
      "loaded\n",
      "saved\n",
      "loaded\n",
      "saved\n",
      "loaded\n"
     ]
    },
    {
     "name": "stderr",
     "output_type": "stream",
     "text": [
      " 48%|████████████████████████████████████████████████▎                                                    | 1023/2137 [00:52<01:13, 15.14it/s]"
     ]
    },
    {
     "name": "stdout",
     "output_type": "stream",
     "text": [
      "saved\n",
      "loaded\n",
      "saved\n",
      "loaded\n",
      "saved\n",
      "loaded\n",
      "saved\n",
      "loaded\n"
     ]
    },
    {
     "name": "stderr",
     "output_type": "stream",
     "text": [
      " 48%|████████████████████████████████████████████████▌                                                    | 1027/2137 [00:53<01:12, 15.35it/s]"
     ]
    },
    {
     "name": "stdout",
     "output_type": "stream",
     "text": [
      "saved\n",
      "loaded\n",
      "saved\n",
      "loaded\n",
      "saved\n",
      "loaded\n"
     ]
    },
    {
     "name": "stderr",
     "output_type": "stream",
     "text": [
      " 48%|████████████████████████████████████████████████▋                                                    | 1031/2137 [00:53<01:09, 15.84it/s]"
     ]
    },
    {
     "name": "stdout",
     "output_type": "stream",
     "text": [
      "saved\n",
      "loaded\n",
      "saved\n",
      "loaded\n",
      "saved\n",
      "loaded\n",
      "saved\n",
      "loaded\n"
     ]
    },
    {
     "name": "stderr",
     "output_type": "stream",
     "text": [
      " 48%|████████████████████████████████████████████████▉                                                    | 1035/2137 [00:53<01:09, 15.80it/s]"
     ]
    },
    {
     "name": "stdout",
     "output_type": "stream",
     "text": [
      "saved\n",
      "loaded\n",
      "saved\n",
      "loaded\n",
      "saved\n",
      "loaded\n",
      "saved\n",
      "loaded\n"
     ]
    },
    {
     "name": "stderr",
     "output_type": "stream",
     "text": [
      " 49%|█████████████████████████████████████████████████                                                    | 1039/2137 [00:53<01:09, 15.88it/s]"
     ]
    },
    {
     "name": "stdout",
     "output_type": "stream",
     "text": [
      "saved\n",
      "loaded\n",
      "saved\n",
      "loaded\n",
      "saved\n",
      "loaded\n",
      "saved\n",
      "loaded\n"
     ]
    },
    {
     "name": "stderr",
     "output_type": "stream",
     "text": [
      "\r",
      " 49%|█████████████████████████████████████████████████▏                                                   | 1041/2137 [00:53<01:08, 16.04it/s]"
     ]
    },
    {
     "name": "stdout",
     "output_type": "stream",
     "text": [
      "saved\n",
      "loaded\n",
      "saved\n",
      "loaded\n",
      "saved\n",
      "loaded\n"
     ]
    },
    {
     "name": "stderr",
     "output_type": "stream",
     "text": [
      " 49%|█████████████████████████████████████████████████▍                                                   | 1045/2137 [00:54<01:12, 14.97it/s]"
     ]
    },
    {
     "name": "stdout",
     "output_type": "stream",
     "text": [
      "saved\n",
      "loaded\n",
      "saved\n",
      "loaded\n",
      "saved\n",
      "loaded\n"
     ]
    },
    {
     "name": "stderr",
     "output_type": "stream",
     "text": [
      " 49%|█████████████████████████████████████████████████▌                                                   | 1049/2137 [00:54<01:11, 15.19it/s]"
     ]
    },
    {
     "name": "stdout",
     "output_type": "stream",
     "text": [
      "saved\n",
      "loaded\n",
      "saved\n",
      "loaded\n",
      "saved\n",
      "loaded\n",
      "saved\n",
      "loaded\n"
     ]
    },
    {
     "name": "stderr",
     "output_type": "stream",
     "text": [
      "\r",
      " 49%|█████████████████████████████████████████████████▋                                                   | 1052/2137 [00:54<01:07, 16.13it/s]"
     ]
    },
    {
     "name": "stdout",
     "output_type": "stream",
     "text": [
      "saved\n",
      "loaded\n",
      "saved\n",
      "loaded\n",
      "saved\n",
      "loaded\n",
      "saved\n",
      "loaded\n"
     ]
    },
    {
     "name": "stderr",
     "output_type": "stream",
     "text": [
      " 49%|█████████████████████████████████████████████████▉                                                   | 1056/2137 [00:54<01:04, 16.78it/s]"
     ]
    },
    {
     "name": "stdout",
     "output_type": "stream",
     "text": [
      "saved\n",
      "loaded\n",
      "saved\n",
      "loaded\n",
      "saved\n",
      "loaded\n",
      "saved\n",
      "loaded\n"
     ]
    },
    {
     "name": "stderr",
     "output_type": "stream",
     "text": [
      " 50%|██████████████████████████████████████████████████                                                   | 1060/2137 [00:55<01:08, 15.71it/s]"
     ]
    },
    {
     "name": "stdout",
     "output_type": "stream",
     "text": [
      "saved\n",
      "loaded\n",
      "saved\n",
      "loaded\n",
      "saved\n",
      "loaded\n",
      "saved\n",
      "loaded\n"
     ]
    },
    {
     "name": "stderr",
     "output_type": "stream",
     "text": [
      "\r",
      " 50%|██████████████████████████████████████████████████▏                                                  | 1063/2137 [00:55<01:04, 16.53it/s]"
     ]
    },
    {
     "name": "stdout",
     "output_type": "stream",
     "text": [
      "saved\n",
      "loaded\n",
      "saved\n",
      "loaded\n",
      "saved\n",
      "loaded\n"
     ]
    },
    {
     "name": "stderr",
     "output_type": "stream",
     "text": [
      " 50%|██████████████████████████████████████████████████▍                                                  | 1067/2137 [00:55<01:09, 15.46it/s]"
     ]
    },
    {
     "name": "stdout",
     "output_type": "stream",
     "text": [
      "saved\n",
      "loaded\n",
      "saved\n",
      "loaded\n",
      "saved\n",
      "loaded\n",
      "saved\n",
      "loaded\n"
     ]
    },
    {
     "name": "stderr",
     "output_type": "stream",
     "text": [
      "\r",
      " 50%|██████████████████████████████████████████████████▌                                                  | 1070/2137 [00:55<01:19, 13.36it/s]"
     ]
    },
    {
     "name": "stdout",
     "output_type": "stream",
     "text": [
      "saved\n",
      "loaded\n",
      "saved\n",
      "loaded\n"
     ]
    },
    {
     "name": "stderr",
     "output_type": "stream",
     "text": [
      "\r",
      " 50%|██████████████████████████████████████████████████▋                                                  | 1072/2137 [00:56<01:17, 13.70it/s]"
     ]
    },
    {
     "name": "stdout",
     "output_type": "stream",
     "text": [
      "saved\n",
      "loaded\n",
      "saved\n",
      "loaded\n",
      "saved\n",
      "loaded\n"
     ]
    },
    {
     "name": "stderr",
     "output_type": "stream",
     "text": [
      " 50%|██████████████████████████████████████████████████▊                                                  | 1076/2137 [00:56<01:21, 13.03it/s]"
     ]
    },
    {
     "name": "stdout",
     "output_type": "stream",
     "text": [
      "saved\n",
      "loaded\n",
      "saved\n",
      "loaded\n",
      "saved\n",
      "loaded\n",
      "saved\n",
      "loaded\n"
     ]
    },
    {
     "name": "stderr",
     "output_type": "stream",
     "text": [
      " 51%|███████████████████████████████████████████████████                                                  | 1081/2137 [00:56<01:12, 14.62it/s]"
     ]
    },
    {
     "name": "stdout",
     "output_type": "stream",
     "text": [
      "saved\n",
      "loaded\n",
      "saved\n",
      "loaded\n",
      "saved\n",
      "loaded\n",
      "saved\n",
      "loaded\n"
     ]
    },
    {
     "name": "stderr",
     "output_type": "stream",
     "text": [
      " 51%|███████████████████████████████████████████████████▎                                                 | 1086/2137 [00:56<01:00, 17.24it/s]"
     ]
    },
    {
     "name": "stdout",
     "output_type": "stream",
     "text": [
      "saved\n",
      "loaded\n",
      "saved\n",
      "loaded\n",
      "saved\n",
      "loaded\n",
      "saved\n",
      "loaded\n",
      "saved\n",
      "loaded\n"
     ]
    },
    {
     "name": "stderr",
     "output_type": "stream",
     "text": [
      "\r",
      " 51%|███████████████████████████████████████████████████▍                                                 | 1088/2137 [00:57<01:07, 15.58it/s]"
     ]
    },
    {
     "name": "stdout",
     "output_type": "stream",
     "text": [
      "saved\n",
      "loaded\n",
      "saved\n",
      "loaded\n",
      "saved\n",
      "loaded\n"
     ]
    },
    {
     "name": "stderr",
     "output_type": "stream",
     "text": [
      "\r",
      " 51%|███████████████████████████████████████████████████▌                                                 | 1090/2137 [00:57<01:11, 14.63it/s]"
     ]
    },
    {
     "name": "stdout",
     "output_type": "stream",
     "text": [
      "saved\n",
      "loaded\n",
      "saved\n",
      "loaded\n"
     ]
    },
    {
     "name": "stderr",
     "output_type": "stream",
     "text": [
      " 51%|███████████████████████████████████████████████████▋                                                 | 1094/2137 [00:57<01:19, 13.10it/s]"
     ]
    },
    {
     "name": "stdout",
     "output_type": "stream",
     "text": [
      "saved\n",
      "loaded\n",
      "saved\n",
      "loaded\n",
      "saved\n",
      "loaded\n"
     ]
    },
    {
     "name": "stderr",
     "output_type": "stream",
     "text": [
      "\r",
      " 51%|███████████████████████████████████████████████████▊                                                 | 1096/2137 [00:57<01:17, 13.52it/s]"
     ]
    },
    {
     "name": "stdout",
     "output_type": "stream",
     "text": [
      "saved\n",
      "loaded\n",
      "saved\n",
      "loaded\n",
      "saved\n",
      "loaded\n"
     ]
    },
    {
     "name": "stderr",
     "output_type": "stream",
     "text": [
      " 51%|███████████████████████████████████████████████████▉                                                 | 1100/2137 [00:57<01:09, 14.93it/s]"
     ]
    },
    {
     "name": "stdout",
     "output_type": "stream",
     "text": [
      "saved\n",
      "loaded\n",
      "saved\n",
      "loaded\n",
      "saved\n",
      "loaded\n"
     ]
    },
    {
     "name": "stderr",
     "output_type": "stream",
     "text": [
      " 52%|████████████████████████████████████████████████████▏                                                | 1104/2137 [00:58<01:14, 13.91it/s]"
     ]
    },
    {
     "name": "stdout",
     "output_type": "stream",
     "text": [
      "saved\n",
      "loaded\n",
      "saved\n",
      "loaded\n",
      "saved\n",
      "loaded\n",
      "saved\n",
      "loaded\n"
     ]
    },
    {
     "name": "stderr",
     "output_type": "stream",
     "text": [
      "\r",
      " 52%|████████████████████████████████████████████████████▎                                                | 1106/2137 [00:58<01:09, 14.76it/s]"
     ]
    },
    {
     "name": "stdout",
     "output_type": "stream",
     "text": [
      "saved\n",
      "loaded\n",
      "saved\n",
      "loaded\n",
      "saved\n",
      "loaded\n"
     ]
    },
    {
     "name": "stderr",
     "output_type": "stream",
     "text": [
      " 52%|████████████████████████████████████████████████████▍                                                | 1110/2137 [00:58<01:13, 13.90it/s]"
     ]
    },
    {
     "name": "stdout",
     "output_type": "stream",
     "text": [
      "saved\n",
      "loaded\n",
      "saved\n",
      "loaded\n",
      "saved\n",
      "loaded\n"
     ]
    },
    {
     "name": "stderr",
     "output_type": "stream",
     "text": [
      "\r",
      " 52%|████████████████████████████████████████████████████▌                                                | 1112/2137 [00:58<01:12, 14.17it/s]"
     ]
    },
    {
     "name": "stdout",
     "output_type": "stream",
     "text": [
      "saved\n",
      "loaded\n",
      "saved\n",
      "loaded\n",
      "saved\n",
      "loaded\n"
     ]
    },
    {
     "name": "stderr",
     "output_type": "stream",
     "text": [
      " 52%|████████████████████████████████████████████████████▋                                                | 1116/2137 [00:59<01:09, 14.67it/s]"
     ]
    },
    {
     "name": "stdout",
     "output_type": "stream",
     "text": [
      "saved\n",
      "loaded\n",
      "saved\n",
      "loaded\n",
      "saved\n",
      "loaded\n",
      "saved\n",
      "loaded\n"
     ]
    },
    {
     "name": "stderr",
     "output_type": "stream",
     "text": [
      " 52%|████████████████████████████████████████████████████▉                                                | 1120/2137 [00:59<01:01, 16.54it/s]"
     ]
    },
    {
     "name": "stdout",
     "output_type": "stream",
     "text": [
      "saved\n",
      "loaded\n",
      "saved\n",
      "loaded\n",
      "saved\n",
      "loaded\n",
      "saved\n",
      "loaded\n"
     ]
    },
    {
     "name": "stderr",
     "output_type": "stream",
     "text": [
      " 53%|█████████████████████████████████████████████████████                                                | 1124/2137 [00:59<00:59, 17.01it/s]"
     ]
    },
    {
     "name": "stdout",
     "output_type": "stream",
     "text": [
      "saved\n",
      "loaded\n",
      "saved\n",
      "loaded\n",
      "saved\n",
      "loaded\n"
     ]
    },
    {
     "name": "stderr",
     "output_type": "stream",
     "text": [
      "\r",
      " 53%|█████████████████████████████████████████████████████▏                                               | 1126/2137 [00:59<01:25, 11.81it/s]"
     ]
    },
    {
     "name": "stdout",
     "output_type": "stream",
     "text": [
      "saved\n",
      "loaded\n",
      "saved\n",
      "loaded\n",
      "saved\n",
      "loaded\n",
      "saved\n",
      "loaded\n"
     ]
    },
    {
     "name": "stderr",
     "output_type": "stream",
     "text": [
      " 53%|█████████████████████████████████████████████████████▍                                               | 1131/2137 [01:00<01:08, 14.58it/s]"
     ]
    },
    {
     "name": "stdout",
     "output_type": "stream",
     "text": [
      "saved\n",
      "loaded\n",
      "saved\n",
      "loaded\n",
      "saved\n",
      "loaded\n",
      "saved\n",
      "loaded\n"
     ]
    },
    {
     "name": "stderr",
     "output_type": "stream",
     "text": [
      "\r",
      " 53%|█████████████████████████████████████████████████████▌                                               | 1134/2137 [01:00<01:03, 15.79it/s]"
     ]
    },
    {
     "name": "stdout",
     "output_type": "stream",
     "text": [
      "saved\n",
      "loaded\n",
      "saved\n",
      "loaded\n",
      "saved\n",
      "loaded\n",
      "saved\n",
      "loaded\n"
     ]
    },
    {
     "name": "stderr",
     "output_type": "stream",
     "text": [
      " 53%|█████████████████████████████████████████████████████▉                                               | 1140/2137 [01:00<00:55, 17.93it/s]"
     ]
    },
    {
     "name": "stdout",
     "output_type": "stream",
     "text": [
      "saved\n",
      "loaded\n",
      "saved\n",
      "loaded\n",
      "saved\n",
      "loaded\n",
      "saved\n",
      "loaded\n"
     ]
    },
    {
     "name": "stderr",
     "output_type": "stream",
     "text": [
      "\r",
      " 53%|██████████████████████████████████████████████████████                                               | 1143/2137 [01:00<00:52, 18.90it/s]"
     ]
    },
    {
     "name": "stdout",
     "output_type": "stream",
     "text": [
      "saved\n",
      "loaded\n",
      "saved\n",
      "loaded\n",
      "saved\n",
      "loaded\n",
      "saved\n",
      "loaded\n",
      "saved\n",
      "loaded\n"
     ]
    },
    {
     "name": "stderr",
     "output_type": "stream",
     "text": [
      " 54%|██████████████████████████████████████████████████████▎                                              | 1149/2137 [01:01<00:51, 19.02it/s]"
     ]
    },
    {
     "name": "stdout",
     "output_type": "stream",
     "text": [
      "saved\n",
      "loaded\n",
      "saved\n",
      "loaded\n",
      "saved\n",
      "loaded\n",
      "saved\n",
      "loaded\n"
     ]
    },
    {
     "name": "stderr",
     "output_type": "stream",
     "text": [
      "\r",
      " 54%|██████████████████████████████████████████████████████▍                                              | 1151/2137 [01:01<00:57, 17.05it/s]"
     ]
    },
    {
     "name": "stdout",
     "output_type": "stream",
     "text": [
      "saved\n",
      "loaded\n",
      "saved\n",
      "loaded\n",
      "saved\n",
      "loaded\n",
      "saved\n",
      "loaded\n"
     ]
    },
    {
     "name": "stderr",
     "output_type": "stream",
     "text": [
      " 54%|██████████████████████████████████████████████████████▋                                              | 1156/2137 [01:01<00:52, 18.54it/s]"
     ]
    },
    {
     "name": "stdout",
     "output_type": "stream",
     "text": [
      "saved\n",
      "loaded\n",
      "saved\n",
      "loaded\n",
      "saved\n",
      "loaded\n",
      "saved\n",
      "loaded\n"
     ]
    },
    {
     "name": "stderr",
     "output_type": "stream",
     "text": [
      " 54%|██████████████████████████████████████████████████████▊                                              | 1160/2137 [01:01<00:57, 16.90it/s]"
     ]
    },
    {
     "name": "stdout",
     "output_type": "stream",
     "text": [
      "saved\n",
      "loaded\n",
      "saved\n",
      "loaded\n",
      "saved\n",
      "loaded\n",
      "saved\n",
      "loaded\n"
     ]
    },
    {
     "name": "stderr",
     "output_type": "stream",
     "text": [
      " 55%|███████████████████████████████████████████████████████                                              | 1166/2137 [01:01<00:50, 19.37it/s]"
     ]
    },
    {
     "name": "stdout",
     "output_type": "stream",
     "text": [
      "saved\n",
      "loaded\n",
      "saved\n",
      "loaded\n",
      "saved\n",
      "loaded\n",
      "saved\n",
      "loaded\n",
      "saved\n",
      "loaded\n"
     ]
    },
    {
     "name": "stderr",
     "output_type": "stream",
     "text": [
      " 55%|███████████████████████████████████████████████████████▎                                             | 1170/2137 [01:02<00:50, 19.21it/s]"
     ]
    },
    {
     "name": "stdout",
     "output_type": "stream",
     "text": [
      "saved\n",
      "loaded\n",
      "saved\n",
      "loaded\n",
      "saved\n",
      "loaded\n",
      "saved\n",
      "loaded\n",
      "saved\n",
      "loaded\n"
     ]
    },
    {
     "name": "stderr",
     "output_type": "stream",
     "text": [
      " 55%|███████████████████████████████████████████████████████▍                                             | 1174/2137 [01:02<00:54, 17.68it/s]"
     ]
    },
    {
     "name": "stdout",
     "output_type": "stream",
     "text": [
      "saved\n",
      "loaded\n",
      "saved\n",
      "loaded\n",
      "saved\n",
      "loaded\n",
      "saved\n",
      "loaded\n"
     ]
    },
    {
     "name": "stderr",
     "output_type": "stream",
     "text": [
      " 55%|███████████████████████████████████████████████████████▋                                             | 1179/2137 [01:02<00:52, 18.34it/s]"
     ]
    },
    {
     "name": "stdout",
     "output_type": "stream",
     "text": [
      "saved\n",
      "loaded\n",
      "saved\n",
      "loaded\n",
      "saved\n",
      "loaded\n",
      "saved\n",
      "loaded\n"
     ]
    },
    {
     "name": "stderr",
     "output_type": "stream",
     "text": [
      "\r",
      " 55%|███████████████████████████████████████████████████████▊                                             | 1181/2137 [01:02<00:55, 17.32it/s]"
     ]
    },
    {
     "name": "stdout",
     "output_type": "stream",
     "text": [
      "saved\n",
      "loaded\n",
      "saved\n",
      "loaded\n",
      "saved\n",
      "loaded\n"
     ]
    },
    {
     "name": "stderr",
     "output_type": "stream",
     "text": [
      "\r",
      " 55%|███████████████████████████████████████████████████████▉                                             | 1183/2137 [01:02<00:58, 16.19it/s]"
     ]
    },
    {
     "name": "stdout",
     "output_type": "stream",
     "text": [
      "saved\n",
      "loaded\n",
      "saved\n",
      "loaded\n"
     ]
    },
    {
     "name": "stderr",
     "output_type": "stream",
     "text": [
      " 56%|████████████████████████████████████████████████████████                                             | 1187/2137 [01:03<01:14, 12.68it/s]"
     ]
    },
    {
     "name": "stdout",
     "output_type": "stream",
     "text": [
      "saved\n",
      "loaded\n",
      "saved\n",
      "loaded\n",
      "saved\n",
      "loaded\n"
     ]
    },
    {
     "name": "stderr",
     "output_type": "stream",
     "text": [
      " 56%|████████████████████████████████████████████████████████▎                                            | 1191/2137 [01:03<01:07, 13.94it/s]"
     ]
    },
    {
     "name": "stdout",
     "output_type": "stream",
     "text": [
      "saved\n",
      "loaded\n",
      "saved\n",
      "loaded\n",
      "saved\n",
      "loaded\n",
      "saved\n",
      "loaded\n"
     ]
    },
    {
     "name": "stderr",
     "output_type": "stream",
     "text": [
      " 56%|████████████████████████████████████████████████████████▍                                            | 1195/2137 [01:03<01:00, 15.58it/s]"
     ]
    },
    {
     "name": "stdout",
     "output_type": "stream",
     "text": [
      "saved\n",
      "loaded\n",
      "saved\n",
      "loaded\n",
      "saved\n",
      "loaded\n",
      "saved\n",
      "loaded\n"
     ]
    },
    {
     "name": "stderr",
     "output_type": "stream",
     "text": [
      " 56%|████████████████████████████████████████████████████████▋                                            | 1199/2137 [01:04<00:56, 16.53it/s]"
     ]
    },
    {
     "name": "stdout",
     "output_type": "stream",
     "text": [
      "saved\n",
      "loaded\n",
      "saved\n",
      "loaded\n",
      "saved\n",
      "loaded\n",
      "saved\n",
      "loaded\n"
     ]
    },
    {
     "name": "stderr",
     "output_type": "stream",
     "text": [
      " 56%|████████████████████████████████████████████████████████▊                                            | 1203/2137 [01:04<00:58, 16.00it/s]"
     ]
    },
    {
     "name": "stdout",
     "output_type": "stream",
     "text": [
      "saved\n",
      "loaded\n",
      "saved\n",
      "loaded\n",
      "saved\n",
      "loaded\n",
      "saved\n",
      "loaded\n"
     ]
    },
    {
     "name": "stderr",
     "output_type": "stream",
     "text": [
      "\r",
      " 56%|████████████████████████████████████████████████████████▉                                            | 1205/2137 [01:04<01:01, 15.26it/s]"
     ]
    },
    {
     "name": "stdout",
     "output_type": "stream",
     "text": [
      "saved\n",
      "loaded\n",
      "saved\n",
      "loaded\n",
      "saved\n",
      "loaded\n",
      "saved\n",
      "loaded\n"
     ]
    },
    {
     "name": "stderr",
     "output_type": "stream",
     "text": [
      " 57%|█████████████████████████████████████████████████████████▏                                           | 1210/2137 [01:04<00:57, 16.18it/s]"
     ]
    },
    {
     "name": "stdout",
     "output_type": "stream",
     "text": [
      "saved\n",
      "loaded\n",
      "saved\n",
      "loaded\n",
      "saved\n",
      "loaded\n",
      "saved\n",
      "loaded\n"
     ]
    },
    {
     "name": "stderr",
     "output_type": "stream",
     "text": [
      " 57%|█████████████████████████████████████████████████████████▍                                           | 1214/2137 [01:05<00:59, 15.46it/s]"
     ]
    },
    {
     "name": "stdout",
     "output_type": "stream",
     "text": [
      "saved\n",
      "loaded\n",
      "saved\n",
      "loaded\n",
      "saved\n",
      "loaded\n"
     ]
    },
    {
     "name": "stderr",
     "output_type": "stream",
     "text": [
      " 57%|█████████████████████████████████████████████████████████▌                                           | 1218/2137 [01:05<01:01, 15.05it/s]"
     ]
    },
    {
     "name": "stdout",
     "output_type": "stream",
     "text": [
      "saved\n",
      "loaded\n",
      "saved\n",
      "loaded\n",
      "saved\n",
      "loaded\n",
      "saved\n",
      "loaded\n"
     ]
    },
    {
     "name": "stderr",
     "output_type": "stream",
     "text": [
      " 57%|█████████████████████████████████████████████████████████▊                                           | 1223/2137 [01:05<00:52, 17.34it/s]"
     ]
    },
    {
     "name": "stdout",
     "output_type": "stream",
     "text": [
      "saved\n",
      "loaded\n",
      "saved\n",
      "loaded\n",
      "saved\n",
      "loaded\n",
      "saved\n",
      "loaded\n",
      "saved\n",
      "loaded\n"
     ]
    },
    {
     "name": "stderr",
     "output_type": "stream",
     "text": [
      " 57%|█████████████████████████████████████████████████████████▉                                           | 1227/2137 [01:05<00:49, 18.27it/s]"
     ]
    },
    {
     "name": "stdout",
     "output_type": "stream",
     "text": [
      "saved\n",
      "loaded\n",
      "saved\n",
      "loaded\n",
      "saved\n",
      "loaded\n",
      "saved\n",
      "loaded\n",
      "saved\n",
      "loaded\n"
     ]
    },
    {
     "name": "stderr",
     "output_type": "stream",
     "text": [
      " 58%|██████████████████████████████████████████████████████████▏                                          | 1231/2137 [01:06<00:53, 16.87it/s]"
     ]
    },
    {
     "name": "stdout",
     "output_type": "stream",
     "text": [
      "saved\n",
      "loaded\n",
      "saved\n",
      "loaded\n",
      "saved\n",
      "loaded\n"
     ]
    },
    {
     "name": "stderr",
     "output_type": "stream",
     "text": [
      " 58%|██████████████████████████████████████████████████████████▎                                          | 1235/2137 [01:06<00:57, 15.68it/s]"
     ]
    },
    {
     "name": "stdout",
     "output_type": "stream",
     "text": [
      "saved\n",
      "loaded\n",
      "saved\n",
      "loaded\n",
      "saved\n",
      "loaded\n",
      "saved\n",
      "loaded\n"
     ]
    },
    {
     "name": "stderr",
     "output_type": "stream",
     "text": [
      " 58%|██████████████████████████████████████████████████████████▌                                          | 1239/2137 [01:06<01:00, 14.86it/s]"
     ]
    },
    {
     "name": "stdout",
     "output_type": "stream",
     "text": [
      "saved\n",
      "loaded\n",
      "saved\n",
      "loaded\n",
      "saved\n",
      "loaded\n",
      "saved\n",
      "loaded\n"
     ]
    },
    {
     "name": "stderr",
     "output_type": "stream",
     "text": [
      "\r",
      " 58%|██████████████████████████████████████████████████████████▋                                          | 1241/2137 [01:06<01:00, 14.78it/s]"
     ]
    },
    {
     "name": "stdout",
     "output_type": "stream",
     "text": [
      "saved\n",
      "loaded\n",
      "saved\n",
      "loaded\n",
      "saved\n",
      "loaded\n"
     ]
    },
    {
     "name": "stderr",
     "output_type": "stream",
     "text": [
      "\r",
      " 58%|██████████████████████████████████████████████████████████▋                                          | 1243/2137 [01:06<01:01, 14.54it/s]"
     ]
    },
    {
     "name": "stdout",
     "output_type": "stream",
     "text": [
      "saved\n",
      "loaded\n",
      "saved\n",
      "loaded\n"
     ]
    },
    {
     "name": "stderr",
     "output_type": "stream",
     "text": [
      " 58%|██████████████████████████████████████████████████████████▉                                          | 1247/2137 [01:07<01:03, 13.92it/s]"
     ]
    },
    {
     "name": "stdout",
     "output_type": "stream",
     "text": [
      "saved\n",
      "loaded\n",
      "saved\n",
      "loaded\n",
      "saved\n",
      "loaded\n",
      "saved\n",
      "loaded\n"
     ]
    },
    {
     "name": "stderr",
     "output_type": "stream",
     "text": [
      " 59%|███████████████████████████████████████████████████████████▏                                         | 1252/2137 [01:07<00:51, 17.09it/s]"
     ]
    },
    {
     "name": "stdout",
     "output_type": "stream",
     "text": [
      "saved\n",
      "loaded\n",
      "saved\n",
      "loaded\n",
      "saved\n",
      "loaded\n",
      "saved\n",
      "loaded\n",
      "saved\n",
      "loaded\n"
     ]
    },
    {
     "name": "stderr",
     "output_type": "stream",
     "text": [
      "\r",
      " 59%|███████████████████████████████████████████████████████████▎                                         | 1255/2137 [01:07<00:47, 18.55it/s]"
     ]
    },
    {
     "name": "stdout",
     "output_type": "stream",
     "text": [
      "saved\n",
      "loaded\n",
      "saved\n",
      "loaded\n",
      "saved\n",
      "loaded\n",
      "saved\n",
      "loaded\n"
     ]
    },
    {
     "name": "stderr",
     "output_type": "stream",
     "text": [
      " 59%|███████████████████████████████████████████████████████████▌                                         | 1260/2137 [01:07<00:49, 17.90it/s]"
     ]
    },
    {
     "name": "stdout",
     "output_type": "stream",
     "text": [
      "saved\n",
      "loaded\n",
      "saved\n",
      "loaded\n",
      "saved\n",
      "loaded\n",
      "saved\n",
      "loaded\n"
     ]
    },
    {
     "name": "stderr",
     "output_type": "stream",
     "text": [
      " 59%|███████████████████████████████████████████████████████████▋                                         | 1264/2137 [01:08<00:49, 17.66it/s]"
     ]
    },
    {
     "name": "stdout",
     "output_type": "stream",
     "text": [
      "saved\n",
      "loaded\n",
      "saved\n",
      "loaded\n",
      "saved\n",
      "loaded\n",
      "saved\n",
      "loaded\n"
     ]
    },
    {
     "name": "stderr",
     "output_type": "stream",
     "text": [
      " 59%|███████████████████████████████████████████████████████████▉                                         | 1268/2137 [01:08<00:50, 17.23it/s]"
     ]
    },
    {
     "name": "stdout",
     "output_type": "stream",
     "text": [
      "saved\n",
      "loaded\n",
      "saved\n",
      "loaded\n",
      "saved\n",
      "loaded\n",
      "saved\n"
     ]
    },
    {
     "name": "stderr",
     "output_type": "stream",
     "text": [
      "\r",
      " 59%|████████████████████████████████████████████████████████████                                         | 1270/2137 [01:08<00:51, 16.69it/s]"
     ]
    },
    {
     "name": "stdout",
     "output_type": "stream",
     "text": [
      "loaded\n",
      "saved\n",
      "loaded\n",
      "saved\n",
      "loaded\n"
     ]
    },
    {
     "name": "stderr",
     "output_type": "stream",
     "text": [
      " 60%|████████████████████████████████████████████████████████████▏                                        | 1274/2137 [01:08<00:59, 14.40it/s]"
     ]
    },
    {
     "name": "stdout",
     "output_type": "stream",
     "text": [
      "saved\n",
      "loaded\n",
      "saved\n",
      "loaded\n",
      "saved\n",
      "loaded\n"
     ]
    },
    {
     "name": "stderr",
     "output_type": "stream",
     "text": [
      "\r",
      " 60%|████████████████████████████████████████████████████████████▎                                        | 1276/2137 [01:08<01:04, 13.45it/s]"
     ]
    },
    {
     "name": "stdout",
     "output_type": "stream",
     "text": [
      "saved\n",
      "loaded\n",
      "saved\n",
      "loaded\n",
      "saved\n",
      "loaded\n"
     ]
    },
    {
     "name": "stderr",
     "output_type": "stream",
     "text": [
      " 60%|████████████████████████████████████████████████████████████▍                                        | 1280/2137 [01:09<01:03, 13.57it/s]"
     ]
    },
    {
     "name": "stdout",
     "output_type": "stream",
     "text": [
      "saved\n",
      "loaded\n",
      "saved\n",
      "loaded\n",
      "saved\n",
      "loaded\n",
      "saved\n",
      "loaded\n"
     ]
    },
    {
     "name": "stderr",
     "output_type": "stream",
     "text": [
      " 60%|████████████████████████████████████████████████████████████▋                                        | 1284/2137 [01:09<00:55, 15.49it/s]"
     ]
    },
    {
     "name": "stdout",
     "output_type": "stream",
     "text": [
      "saved\n",
      "loaded\n",
      "saved\n",
      "loaded\n",
      "saved\n",
      "loaded\n",
      "saved\n",
      "loaded\n"
     ]
    },
    {
     "name": "stderr",
     "output_type": "stream",
     "text": [
      " 60%|████████████████████████████████████████████████████████████▊                                        | 1288/2137 [01:09<00:54, 15.46it/s]"
     ]
    },
    {
     "name": "stdout",
     "output_type": "stream",
     "text": [
      "saved\n",
      "loaded\n",
      "saved\n",
      "loaded\n",
      "saved\n",
      "loaded\n"
     ]
    },
    {
     "name": "stderr",
     "output_type": "stream",
     "text": [
      "\r",
      " 60%|████████████████████████████████████████████████████████████▉                                        | 1290/2137 [01:09<00:57, 14.77it/s]"
     ]
    },
    {
     "name": "stdout",
     "output_type": "stream",
     "text": [
      "saved\n",
      "loaded\n",
      "saved\n",
      "loaded\n",
      "saved\n",
      "loaded\n"
     ]
    },
    {
     "name": "stderr",
     "output_type": "stream",
     "text": [
      " 61%|█████████████████████████████████████████████████████████████▏                                       | 1294/2137 [01:10<01:00, 13.85it/s]"
     ]
    },
    {
     "name": "stdout",
     "output_type": "stream",
     "text": [
      "saved\n",
      "loaded\n",
      "saved\n",
      "loaded\n",
      "saved\n",
      "loaded\n"
     ]
    },
    {
     "name": "stderr",
     "output_type": "stream",
     "text": [
      " 61%|█████████████████████████████████████████████████████████████▎                                       | 1298/2137 [01:10<00:56, 14.83it/s]"
     ]
    },
    {
     "name": "stdout",
     "output_type": "stream",
     "text": [
      "saved\n",
      "loaded\n",
      "saved\n",
      "loaded\n",
      "saved\n",
      "loaded\n",
      "saved\n",
      "loaded\n"
     ]
    },
    {
     "name": "stderr",
     "output_type": "stream",
     "text": [
      " 61%|█████████████████████████████████████████████████████████████▌                                       | 1302/2137 [01:10<00:50, 16.45it/s]"
     ]
    },
    {
     "name": "stdout",
     "output_type": "stream",
     "text": [
      "saved\n",
      "loaded\n",
      "saved\n",
      "loaded\n",
      "saved\n",
      "loaded\n",
      "saved\n",
      "loaded\n"
     ]
    },
    {
     "name": "stderr",
     "output_type": "stream",
     "text": [
      " 61%|█████████████████████████████████████████████████████████████▋                                       | 1306/2137 [01:10<00:47, 17.63it/s]"
     ]
    },
    {
     "name": "stdout",
     "output_type": "stream",
     "text": [
      "saved\n",
      "loaded\n",
      "saved\n",
      "loaded\n",
      "saved\n",
      "loaded\n",
      "saved\n",
      "loaded\n"
     ]
    },
    {
     "name": "stderr",
     "output_type": "stream",
     "text": [
      "\r",
      " 61%|█████████████████████████████████████████████████████████████▊                                       | 1308/2137 [01:11<00:46, 17.68it/s]"
     ]
    },
    {
     "name": "stdout",
     "output_type": "stream",
     "text": [
      "saved\n",
      "loaded\n",
      "saved\n",
      "loaded\n",
      "saved\n",
      "loaded\n"
     ]
    },
    {
     "name": "stderr",
     "output_type": "stream",
     "text": [
      " 61%|██████████████████████████████████████████████████████████████                                       | 1312/2137 [01:11<00:49, 16.70it/s]"
     ]
    },
    {
     "name": "stdout",
     "output_type": "stream",
     "text": [
      "saved\n",
      "loaded\n",
      "saved\n",
      "loaded\n",
      "saved\n",
      "loaded\n",
      "saved\n",
      "loaded\n"
     ]
    },
    {
     "name": "stderr",
     "output_type": "stream",
     "text": [
      " 62%|██████████████████████████████████████████████████████████████▏                                      | 1316/2137 [01:11<00:46, 17.60it/s]"
     ]
    },
    {
     "name": "stdout",
     "output_type": "stream",
     "text": [
      "saved\n",
      "loaded\n",
      "saved\n",
      "loaded\n",
      "saved\n",
      "loaded\n",
      "saved\n",
      "loaded\n"
     ]
    },
    {
     "name": "stderr",
     "output_type": "stream",
     "text": [
      " 62%|██████████████████████████████████████████████████████████████▍                                      | 1320/2137 [01:11<00:48, 16.88it/s]"
     ]
    },
    {
     "name": "stdout",
     "output_type": "stream",
     "text": [
      "saved\n",
      "loaded\n",
      "saved\n",
      "loaded\n",
      "saved\n",
      "loaded\n"
     ]
    },
    {
     "name": "stderr",
     "output_type": "stream",
     "text": [
      " 62%|██████████████████████████████████████████████████████████████▌                                      | 1324/2137 [01:11<00:51, 15.90it/s]"
     ]
    },
    {
     "name": "stdout",
     "output_type": "stream",
     "text": [
      "saved\n",
      "loaded\n",
      "saved\n",
      "loaded\n",
      "saved\n",
      "loaded\n",
      "saved\n",
      "loaded\n"
     ]
    },
    {
     "name": "stderr",
     "output_type": "stream",
     "text": [
      " 62%|██████████████████████████████████████████████████████████████▊                                      | 1328/2137 [01:12<00:49, 16.20it/s]"
     ]
    },
    {
     "name": "stdout",
     "output_type": "stream",
     "text": [
      "saved\n",
      "loaded\n",
      "saved\n",
      "loaded\n",
      "saved\n",
      "loaded\n",
      "saved\n",
      "loaded\n"
     ]
    },
    {
     "name": "stderr",
     "output_type": "stream",
     "text": [
      " 62%|██████████████████████████████████████████████████████████████▉                                      | 1332/2137 [01:12<00:50, 15.94it/s]"
     ]
    },
    {
     "name": "stdout",
     "output_type": "stream",
     "text": [
      "saved\n",
      "loaded\n",
      "saved\n",
      "loaded\n",
      "saved\n",
      "loaded\n",
      "saved\n",
      "loaded\n"
     ]
    },
    {
     "name": "stderr",
     "output_type": "stream",
     "text": [
      "\r",
      " 62%|███████████████████████████████████████████████████████████████                                      | 1334/2137 [01:12<00:48, 16.58it/s]"
     ]
    },
    {
     "name": "stdout",
     "output_type": "stream",
     "text": [
      "saved\n",
      "loaded\n",
      "saved\n",
      "loaded\n",
      "saved\n",
      "loaded\n"
     ]
    },
    {
     "name": "stderr",
     "output_type": "stream",
     "text": [
      " 63%|███████████████████████████████████████████████████████████████▏                                     | 1338/2137 [01:12<00:50, 15.67it/s]"
     ]
    },
    {
     "name": "stdout",
     "output_type": "stream",
     "text": [
      "saved\n",
      "loaded\n",
      "saved\n",
      "loaded\n",
      "saved\n",
      "loaded\n",
      "saved\n",
      "loaded\n"
     ]
    },
    {
     "name": "stderr",
     "output_type": "stream",
     "text": [
      " 63%|███████████████████████████████████████████████████████████████▍                                     | 1342/2137 [01:13<00:50, 15.67it/s]"
     ]
    },
    {
     "name": "stdout",
     "output_type": "stream",
     "text": [
      "saved\n",
      "loaded\n",
      "saved\n",
      "loaded\n",
      "saved\n",
      "loaded\n",
      "saved\n",
      "loaded\n"
     ]
    },
    {
     "name": "stderr",
     "output_type": "stream",
     "text": [
      " 63%|███████████████████████████████████████████████████████████████▌                                     | 1346/2137 [01:13<00:51, 15.50it/s]"
     ]
    },
    {
     "name": "stdout",
     "output_type": "stream",
     "text": [
      "saved\n",
      "loaded\n",
      "saved\n",
      "loaded\n",
      "saved\n",
      "loaded\n",
      "saved\n",
      "loaded\n"
     ]
    },
    {
     "name": "stderr",
     "output_type": "stream",
     "text": [
      " 63%|███████████████████████████████████████████████████████████████▊                                     | 1350/2137 [01:13<00:49, 15.84it/s]"
     ]
    },
    {
     "name": "stdout",
     "output_type": "stream",
     "text": [
      "saved\n",
      "loaded\n",
      "saved\n",
      "loaded\n",
      "saved\n",
      "loaded\n",
      "saved\n",
      "loaded\n"
     ]
    },
    {
     "name": "stderr",
     "output_type": "stream",
     "text": [
      " 63%|████████████████████████████████████████████████████████████████                                     | 1355/2137 [01:13<00:47, 16.57it/s]"
     ]
    },
    {
     "name": "stdout",
     "output_type": "stream",
     "text": [
      "saved\n",
      "loaded\n",
      "saved\n",
      "loaded\n",
      "saved\n",
      "loaded\n",
      "saved\n",
      "loaded\n"
     ]
    },
    {
     "name": "stderr",
     "output_type": "stream",
     "text": [
      "\r",
      " 64%|████████████████████████████████████████████████████████████████▏                                    | 1358/2137 [01:14<00:43, 18.08it/s]"
     ]
    },
    {
     "name": "stdout",
     "output_type": "stream",
     "text": [
      "saved\n",
      "loaded\n",
      "saved\n",
      "loaded\n",
      "saved\n",
      "loaded\n",
      "saved\n",
      "loaded\n"
     ]
    },
    {
     "name": "stderr",
     "output_type": "stream",
     "text": [
      " 64%|████████████████████████████████████████████████████████████████▎                                    | 1362/2137 [01:14<00:47, 16.49it/s]"
     ]
    },
    {
     "name": "stdout",
     "output_type": "stream",
     "text": [
      "saved\n",
      "loaded\n",
      "saved\n",
      "loaded\n",
      "saved\n",
      "loaded\n",
      "saved\n",
      "loaded\n"
     ]
    },
    {
     "name": "stderr",
     "output_type": "stream",
     "text": [
      " 64%|████████████████████████████████████████████████████████████████▌                                    | 1366/2137 [01:14<00:44, 17.35it/s]"
     ]
    },
    {
     "name": "stdout",
     "output_type": "stream",
     "text": [
      "saved\n",
      "loaded\n",
      "saved\n",
      "loaded\n",
      "saved\n",
      "loaded\n"
     ]
    },
    {
     "name": "stderr",
     "output_type": "stream",
     "text": [
      "\r",
      " 64%|████████████████████████████████████████████████████████████████▋                                    | 1368/2137 [01:14<00:55, 13.74it/s]"
     ]
    },
    {
     "name": "stdout",
     "output_type": "stream",
     "text": [
      "saved\n",
      "loaded\n",
      "saved\n",
      "loaded\n",
      "saved\n",
      "loaded\n"
     ]
    },
    {
     "name": "stderr",
     "output_type": "stream",
     "text": [
      " 64%|████████████████████████████████████████████████████████████████▉                                    | 1373/2137 [01:15<00:49, 15.45it/s]"
     ]
    },
    {
     "name": "stdout",
     "output_type": "stream",
     "text": [
      "saved\n",
      "loaded\n",
      "saved\n",
      "loaded\n",
      "saved\n",
      "loaded\n",
      "saved\n",
      "loaded\n"
     ]
    },
    {
     "name": "stderr",
     "output_type": "stream",
     "text": [
      "\r",
      " 64%|████████████████████████████████████████████████████████████████▉                                    | 1375/2137 [01:15<00:49, 15.40it/s]"
     ]
    },
    {
     "name": "stdout",
     "output_type": "stream",
     "text": [
      "saved\n",
      "loaded\n",
      "saved\n",
      "loaded\n",
      "saved\n",
      "loaded\n",
      "saved\n"
     ]
    },
    {
     "name": "stderr",
     "output_type": "stream",
     "text": [
      " 65%|█████████████████████████████████████████████████████████████████▏                                   | 1380/2137 [01:15<00:43, 17.33it/s]"
     ]
    },
    {
     "name": "stdout",
     "output_type": "stream",
     "text": [
      "loaded\n",
      "saved\n",
      "loaded\n",
      "saved\n",
      "loaded\n",
      "saved\n",
      "loaded\n",
      "saved\n"
     ]
    },
    {
     "name": "stderr",
     "output_type": "stream",
     "text": [
      " 65%|█████████████████████████████████████████████████████████████████▍                                   | 1384/2137 [01:15<00:44, 16.84it/s]"
     ]
    },
    {
     "name": "stdout",
     "output_type": "stream",
     "text": [
      "loaded\n",
      "saved\n",
      "loaded\n",
      "saved\n",
      "loaded\n",
      "saved\n",
      "loaded\n"
     ]
    },
    {
     "name": "stderr",
     "output_type": "stream",
     "text": [
      " 65%|█████████████████████████████████████████████████████████████████▌                                   | 1388/2137 [01:15<00:47, 15.82it/s]"
     ]
    },
    {
     "name": "stdout",
     "output_type": "stream",
     "text": [
      "saved\n",
      "loaded\n",
      "saved\n",
      "loaded\n",
      "saved\n",
      "loaded\n",
      "saved\n",
      "loaded\n"
     ]
    },
    {
     "name": "stderr",
     "output_type": "stream",
     "text": [
      "\r",
      " 65%|█████████████████████████████████████████████████████████████████▋                                   | 1390/2137 [01:16<00:46, 15.94it/s]"
     ]
    },
    {
     "name": "stdout",
     "output_type": "stream",
     "text": [
      "saved\n",
      "loaded\n",
      "saved\n",
      "loaded\n",
      "saved\n",
      "loaded\n"
     ]
    },
    {
     "name": "stderr",
     "output_type": "stream",
     "text": [
      " 65%|█████████████████████████████████████████████████████████████████▉                                   | 1394/2137 [01:16<00:46, 16.03it/s]"
     ]
    },
    {
     "name": "stdout",
     "output_type": "stream",
     "text": [
      "saved\n",
      "loaded\n",
      "saved\n",
      "loaded\n",
      "saved\n",
      "loaded\n",
      "saved\n",
      "loaded\n"
     ]
    },
    {
     "name": "stderr",
     "output_type": "stream",
     "text": [
      " 65%|██████████████████████████████████████████████████████████████████                                   | 1398/2137 [01:16<00:43, 16.89it/s]"
     ]
    },
    {
     "name": "stdout",
     "output_type": "stream",
     "text": [
      "saved\n",
      "loaded\n",
      "saved\n",
      "loaded\n",
      "saved\n",
      "loaded\n",
      "saved\n",
      "loaded\n"
     ]
    },
    {
     "name": "stderr",
     "output_type": "stream",
     "text": [
      " 66%|██████████████████████████████████████████████████████████████████▎                                  | 1402/2137 [01:16<00:41, 17.90it/s]"
     ]
    },
    {
     "name": "stdout",
     "output_type": "stream",
     "text": [
      "saved\n",
      "loaded\n",
      "saved\n",
      "loaded\n",
      "saved\n",
      "loaded\n",
      "saved\n",
      "loaded\n"
     ]
    },
    {
     "name": "stderr",
     "output_type": "stream",
     "text": [
      " 66%|██████████████████████████████████████████████████████████████████▍                                  | 1407/2137 [01:17<00:43, 16.85it/s]"
     ]
    },
    {
     "name": "stdout",
     "output_type": "stream",
     "text": [
      "saved\n",
      "loaded\n",
      "saved\n",
      "loaded\n",
      "saved\n",
      "loaded\n",
      "saved\n",
      "loaded\n"
     ]
    },
    {
     "name": "stderr",
     "output_type": "stream",
     "text": [
      " 66%|██████████████████████████████████████████████████████████████████▋                                  | 1411/2137 [01:17<00:44, 16.28it/s]"
     ]
    },
    {
     "name": "stdout",
     "output_type": "stream",
     "text": [
      "saved\n",
      "loaded\n",
      "saved\n",
      "loaded\n",
      "saved\n",
      "loaded\n",
      "saved\n",
      "loaded\n"
     ]
    },
    {
     "name": "stderr",
     "output_type": "stream",
     "text": [
      " 66%|██████████████████████████████████████████████████████████████████▉                                  | 1415/2137 [01:17<00:43, 16.50it/s]"
     ]
    },
    {
     "name": "stdout",
     "output_type": "stream",
     "text": [
      "saved\n",
      "loaded\n",
      "saved\n",
      "loaded\n",
      "saved\n",
      "loaded\n",
      "saved\n",
      "loaded\n"
     ]
    },
    {
     "name": "stderr",
     "output_type": "stream",
     "text": [
      "\r",
      " 66%|██████████████████████████████████████████████████████████████████▉                                  | 1417/2137 [01:17<00:45, 15.79it/s]"
     ]
    },
    {
     "name": "stdout",
     "output_type": "stream",
     "text": [
      "saved\n",
      "loaded\n",
      "saved\n",
      "loaded\n",
      "saved\n",
      "loaded\n",
      "saved\n",
      "loaded\n"
     ]
    },
    {
     "name": "stderr",
     "output_type": "stream",
     "text": [
      " 67%|███████████████████████████████████████████████████████████████████▏                                 | 1422/2137 [01:17<00:40, 17.85it/s]"
     ]
    },
    {
     "name": "stdout",
     "output_type": "stream",
     "text": [
      "saved\n",
      "loaded\n",
      "saved\n",
      "loaded\n",
      "saved\n",
      "loaded\n",
      "saved\n",
      "loaded\n"
     ]
    },
    {
     "name": "stderr",
     "output_type": "stream",
     "text": [
      " 67%|███████████████████████████████████████████████████████████████████▍                                 | 1426/2137 [01:18<00:48, 14.58it/s]"
     ]
    },
    {
     "name": "stdout",
     "output_type": "stream",
     "text": [
      "saved\n",
      "loaded\n",
      "saved\n",
      "loaded\n",
      "saved\n",
      "loaded\n"
     ]
    },
    {
     "name": "stderr",
     "output_type": "stream",
     "text": [
      " 67%|███████████████████████████████████████████████████████████████████▋                                 | 1431/2137 [01:18<00:40, 17.25it/s]"
     ]
    },
    {
     "name": "stdout",
     "output_type": "stream",
     "text": [
      "saved\n",
      "loaded\n",
      "saved\n",
      "loaded\n",
      "saved\n",
      "loaded\n",
      "saved\n",
      "loaded\n",
      "saved\n",
      "loaded\n"
     ]
    },
    {
     "name": "stderr",
     "output_type": "stream",
     "text": [
      " 67%|███████████████████████████████████████████████████████████████████▊                                 | 1435/2137 [01:18<00:41, 16.89it/s]"
     ]
    },
    {
     "name": "stdout",
     "output_type": "stream",
     "text": [
      "saved\n",
      "loaded\n",
      "saved\n",
      "loaded\n",
      "saved\n",
      "loaded\n",
      "saved\n",
      "loaded\n"
     ]
    },
    {
     "name": "stderr",
     "output_type": "stream",
     "text": [
      " 67%|████████████████████████████████████████████████████████████████████                                 | 1439/2137 [01:19<00:42, 16.34it/s]"
     ]
    },
    {
     "name": "stdout",
     "output_type": "stream",
     "text": [
      "saved\n",
      "loaded\n",
      "saved\n",
      "loaded\n",
      "saved\n",
      "loaded\n",
      "saved\n",
      "loaded\n"
     ]
    },
    {
     "name": "stderr",
     "output_type": "stream",
     "text": [
      "\r",
      " 67%|████████████████████████████████████████████████████████████████████                                 | 1441/2137 [01:19<00:43, 15.83it/s]"
     ]
    },
    {
     "name": "stdout",
     "output_type": "stream",
     "text": [
      "saved\n",
      "loaded\n",
      "saved\n",
      "loaded\n",
      "saved\n",
      "loaded\n",
      "saved\n",
      "loaded\n"
     ]
    },
    {
     "name": "stderr",
     "output_type": "stream",
     "text": [
      " 68%|████████████████████████████████████████████████████████████████████▎                                | 1446/2137 [01:19<00:44, 15.67it/s]"
     ]
    },
    {
     "name": "stdout",
     "output_type": "stream",
     "text": [
      "saved\n",
      "loaded\n",
      "saved\n",
      "loaded\n",
      "saved\n",
      "loaded\n"
     ]
    },
    {
     "name": "stderr",
     "output_type": "stream",
     "text": [
      "\r",
      " 68%|████████████████████████████████████████████████████████████████████▍                                | 1448/2137 [01:19<00:45, 15.17it/s]"
     ]
    },
    {
     "name": "stdout",
     "output_type": "stream",
     "text": [
      "saved\n",
      "loaded\n",
      "saved\n",
      "loaded\n",
      "saved\n",
      "loaded\n",
      "saved\n",
      "loaded\n"
     ]
    },
    {
     "name": "stderr",
     "output_type": "stream",
     "text": [
      " 68%|████████████████████████████████████████████████████████████████████▋                                | 1453/2137 [01:19<00:41, 16.61it/s]"
     ]
    },
    {
     "name": "stdout",
     "output_type": "stream",
     "text": [
      "saved\n",
      "loaded\n",
      "saved\n",
      "loaded\n",
      "saved\n",
      "loaded\n",
      "saved\n",
      "loaded\n",
      "saved\n",
      "loaded\n"
     ]
    },
    {
     "name": "stderr",
     "output_type": "stream",
     "text": [
      " 68%|████████████████████████████████████████████████████████████████████▉                                | 1459/2137 [01:20<00:37, 18.26it/s]"
     ]
    },
    {
     "name": "stdout",
     "output_type": "stream",
     "text": [
      "saved\n",
      "loaded\n",
      "saved\n",
      "loaded\n",
      "saved\n",
      "loaded\n",
      "saved\n",
      "loaded\n",
      "saved\n",
      "loaded\n"
     ]
    },
    {
     "name": "stderr",
     "output_type": "stream",
     "text": [
      " 68%|█████████████████████████████████████████████████████████████████████▏                               | 1463/2137 [01:20<00:37, 18.03it/s]"
     ]
    },
    {
     "name": "stdout",
     "output_type": "stream",
     "text": [
      "saved\n",
      "loaded\n",
      "saved\n",
      "loaded\n",
      "saved\n",
      "loaded\n",
      "saved\n",
      "loaded\n"
     ]
    },
    {
     "name": "stderr",
     "output_type": "stream",
     "text": [
      " 69%|█████████████████████████████████████████████████████████████████████▎                               | 1467/2137 [01:20<00:36, 18.41it/s]"
     ]
    },
    {
     "name": "stdout",
     "output_type": "stream",
     "text": [
      "saved\n",
      "loaded\n",
      "saved\n",
      "loaded\n",
      "saved\n",
      "loaded\n",
      "saved\n",
      "loaded\n"
     ]
    },
    {
     "name": "stderr",
     "output_type": "stream",
     "text": [
      " 69%|█████████████████████████████████████████████████████████████████████▌                               | 1471/2137 [01:20<00:40, 16.45it/s]"
     ]
    },
    {
     "name": "stdout",
     "output_type": "stream",
     "text": [
      "saved\n",
      "loaded\n",
      "saved\n",
      "loaded\n",
      "saved\n",
      "loaded\n"
     ]
    },
    {
     "name": "stderr",
     "output_type": "stream",
     "text": [
      "\r",
      " 69%|█████████████████████████████████████████████████████████████████████▌                               | 1473/2137 [01:21<00:42, 15.77it/s]"
     ]
    },
    {
     "name": "stdout",
     "output_type": "stream",
     "text": [
      "saved\n",
      "loaded\n",
      "saved\n",
      "loaded\n",
      "saved\n",
      "loaded\n"
     ]
    },
    {
     "name": "stderr",
     "output_type": "stream",
     "text": [
      " 69%|█████████████████████████████████████████████████████████████████████▊                               | 1478/2137 [01:21<00:43, 15.10it/s]"
     ]
    },
    {
     "name": "stdout",
     "output_type": "stream",
     "text": [
      "saved\n",
      "loaded\n",
      "saved\n",
      "loaded\n",
      "saved\n",
      "loaded\n",
      "saved\n",
      "loaded\n"
     ]
    },
    {
     "name": "stderr",
     "output_type": "stream",
     "text": [
      "\r",
      " 69%|█████████████████████████████████████████████████████████████████████▉                               | 1481/2137 [01:21<00:38, 16.92it/s]"
     ]
    },
    {
     "name": "stdout",
     "output_type": "stream",
     "text": [
      "saved\n",
      "loaded\n",
      "saved\n",
      "loaded\n",
      "saved\n",
      "loaded\n",
      "saved\n",
      "loaded\n",
      "saved\n",
      "loaded\n"
     ]
    },
    {
     "name": "stderr",
     "output_type": "stream",
     "text": [
      " 70%|██████████████████████████████████████████████████████████████████████▏                              | 1486/2137 [01:21<00:37, 17.59it/s]"
     ]
    },
    {
     "name": "stdout",
     "output_type": "stream",
     "text": [
      "saved\n",
      "loaded\n",
      "saved\n",
      "loaded\n",
      "saved\n",
      "loaded\n",
      "saved\n",
      "loaded\n"
     ]
    },
    {
     "name": "stderr",
     "output_type": "stream",
     "text": [
      " 70%|██████████████████████████████████████████████████████████████████████▍                              | 1490/2137 [01:22<00:35, 18.08it/s]"
     ]
    },
    {
     "name": "stdout",
     "output_type": "stream",
     "text": [
      "saved\n",
      "loaded\n",
      "saved\n",
      "loaded\n",
      "saved\n",
      "loaded\n",
      "saved\n",
      "loaded\n",
      "saved\n",
      "loaded\n"
     ]
    },
    {
     "name": "stderr",
     "output_type": "stream",
     "text": [
      " 70%|██████████████████████████████████████████████████████████████████████▋                              | 1495/2137 [01:22<00:33, 19.09it/s]"
     ]
    },
    {
     "name": "stdout",
     "output_type": "stream",
     "text": [
      "saved\n",
      "loaded\n",
      "saved\n",
      "loaded\n",
      "saved\n",
      "loaded\n",
      "saved\n",
      "loaded\n"
     ]
    },
    {
     "name": "stderr",
     "output_type": "stream",
     "text": [
      " 70%|██████████████████████████████████████████████████████████████████████▊                              | 1499/2137 [01:22<00:38, 16.50it/s]"
     ]
    },
    {
     "name": "stdout",
     "output_type": "stream",
     "text": [
      "saved\n",
      "loaded\n",
      "saved\n",
      "loaded\n",
      "saved\n",
      "loaded\n",
      "saved\n",
      "loaded\n"
     ]
    },
    {
     "name": "stderr",
     "output_type": "stream",
     "text": [
      " 70%|███████████████████████████████████████████████████████████████████████                              | 1503/2137 [01:22<00:36, 17.20it/s]"
     ]
    },
    {
     "name": "stdout",
     "output_type": "stream",
     "text": [
      "saved\n",
      "loaded\n",
      "saved\n",
      "loaded\n",
      "saved\n",
      "loaded\n",
      "saved\n",
      "loaded\n"
     ]
    },
    {
     "name": "stderr",
     "output_type": "stream",
     "text": [
      " 71%|███████████████████████████████████████████████████████████████████████▏                             | 1507/2137 [01:22<00:35, 17.60it/s]"
     ]
    },
    {
     "name": "stdout",
     "output_type": "stream",
     "text": [
      "saved\n",
      "loaded\n",
      "saved\n",
      "loaded\n",
      "saved\n",
      "loaded\n",
      "saved\n",
      "loaded\n"
     ]
    },
    {
     "name": "stderr",
     "output_type": "stream",
     "text": [
      " 71%|███████████████████████████████████████████████████████████████████████▌                             | 1513/2137 [01:23<00:31, 19.52it/s]"
     ]
    },
    {
     "name": "stdout",
     "output_type": "stream",
     "text": [
      "saved\n",
      "loaded\n",
      "saved\n",
      "loaded\n",
      "saved\n",
      "loaded\n",
      "saved\n",
      "loaded\n",
      "saved\n",
      "loaded\n"
     ]
    },
    {
     "name": "stderr",
     "output_type": "stream",
     "text": [
      " 71%|███████████████████████████████████████████████████████████████████████▋                             | 1517/2137 [01:23<00:34, 18.16it/s]"
     ]
    },
    {
     "name": "stdout",
     "output_type": "stream",
     "text": [
      "saved\n",
      "loaded\n",
      "saved\n",
      "loaded\n",
      "saved\n",
      "loaded\n",
      "saved\n",
      "loaded\n"
     ]
    },
    {
     "name": "stderr",
     "output_type": "stream",
     "text": [
      " 71%|███████████████████████████████████████████████████████████████████████▉                             | 1521/2137 [01:23<00:35, 17.28it/s]"
     ]
    },
    {
     "name": "stdout",
     "output_type": "stream",
     "text": [
      "saved\n",
      "loaded\n",
      "saved\n",
      "loaded\n",
      "saved\n",
      "loaded\n",
      "saved\n",
      "loaded\n"
     ]
    },
    {
     "name": "stderr",
     "output_type": "stream",
     "text": [
      " 71%|████████████████████████████████████████████████████████████████████████                             | 1525/2137 [01:24<00:37, 16.31it/s]"
     ]
    },
    {
     "name": "stdout",
     "output_type": "stream",
     "text": [
      "saved\n",
      "loaded\n",
      "saved\n",
      "loaded\n",
      "saved\n",
      "loaded\n",
      "saved\n",
      "loaded\n"
     ]
    },
    {
     "name": "stderr",
     "output_type": "stream",
     "text": [
      " 72%|████████████████████████████████████████████████████████████████████████▎                            | 1529/2137 [01:24<00:36, 16.59it/s]"
     ]
    },
    {
     "name": "stdout",
     "output_type": "stream",
     "text": [
      "saved\n",
      "loaded\n",
      "saved\n",
      "loaded\n",
      "saved\n",
      "loaded\n",
      "saved\n",
      "loaded\n"
     ]
    },
    {
     "name": "stderr",
     "output_type": "stream",
     "text": [
      "\r",
      " 72%|████████████████████████████████████████████████████████████████████████▎                            | 1531/2137 [01:24<00:38, 15.94it/s]"
     ]
    },
    {
     "name": "stdout",
     "output_type": "stream",
     "text": [
      "saved\n",
      "loaded\n",
      "saved\n",
      "loaded\n",
      "saved\n",
      "loaded\n"
     ]
    },
    {
     "name": "stderr",
     "output_type": "stream",
     "text": [
      " 72%|████████████████████████████████████████████████████████████████████████▌                            | 1535/2137 [01:24<00:37, 16.10it/s]"
     ]
    },
    {
     "name": "stdout",
     "output_type": "stream",
     "text": [
      "saved\n",
      "loaded\n",
      "saved\n",
      "loaded\n",
      "saved\n",
      "loaded\n",
      "saved\n",
      "loaded\n"
     ]
    },
    {
     "name": "stderr",
     "output_type": "stream",
     "text": [
      " 72%|████████████████████████████████████████████████████████████████████████▋                            | 1539/2137 [01:24<00:35, 16.70it/s]"
     ]
    },
    {
     "name": "stdout",
     "output_type": "stream",
     "text": [
      "saved\n",
      "loaded\n",
      "saved\n",
      "loaded\n",
      "saved\n",
      "loaded\n",
      "saved\n",
      "loaded\n"
     ]
    },
    {
     "name": "stderr",
     "output_type": "stream",
     "text": [
      " 72%|████████████████████████████████████████████████████████████████████████▉                            | 1544/2137 [01:25<00:32, 18.10it/s]"
     ]
    },
    {
     "name": "stdout",
     "output_type": "stream",
     "text": [
      "saved\n",
      "loaded\n",
      "saved\n",
      "loaded\n",
      "saved\n",
      "loaded\n",
      "saved\n",
      "loaded\n"
     ]
    },
    {
     "name": "stderr",
     "output_type": "stream",
     "text": [
      "\r",
      " 72%|█████████████████████████████████████████████████████████████████████████                            | 1546/2137 [01:25<00:36, 16.19it/s]"
     ]
    },
    {
     "name": "stdout",
     "output_type": "stream",
     "text": [
      "saved\n",
      "loaded\n",
      "saved\n",
      "loaded\n",
      "saved\n",
      "loaded\n",
      "saved\n",
      "loaded\n"
     ]
    },
    {
     "name": "stderr",
     "output_type": "stream",
     "text": [
      " 73%|█████████████████████████████████████████████████████████████████████████▎                           | 1551/2137 [01:25<00:35, 16.31it/s]"
     ]
    },
    {
     "name": "stdout",
     "output_type": "stream",
     "text": [
      "saved\n",
      "loaded\n",
      "saved\n",
      "loaded\n",
      "saved\n",
      "loaded\n",
      "saved\n",
      "loaded\n"
     ]
    },
    {
     "name": "stderr",
     "output_type": "stream",
     "text": [
      " 73%|█████████████████████████████████████████████████████████████████████████▍                           | 1555/2137 [01:25<00:35, 16.61it/s]"
     ]
    },
    {
     "name": "stdout",
     "output_type": "stream",
     "text": [
      "saved\n",
      "loaded\n",
      "saved\n",
      "loaded\n",
      "saved\n",
      "loaded\n",
      "saved\n",
      "loaded\n"
     ]
    },
    {
     "name": "stderr",
     "output_type": "stream",
     "text": [
      " 73%|█████████████████████████████████████████████████████████████████████████▋                           | 1559/2137 [01:26<00:34, 16.93it/s]"
     ]
    },
    {
     "name": "stdout",
     "output_type": "stream",
     "text": [
      "saved\n",
      "loaded\n",
      "saved\n",
      "loaded\n",
      "saved\n",
      "loaded\n",
      "saved\n",
      "loaded\n"
     ]
    },
    {
     "name": "stderr",
     "output_type": "stream",
     "text": [
      " 73%|█████████████████████████████████████████████████████████████████████████▊                           | 1563/2137 [01:26<00:32, 17.43it/s]"
     ]
    },
    {
     "name": "stdout",
     "output_type": "stream",
     "text": [
      "saved\n",
      "loaded\n",
      "saved\n",
      "loaded\n",
      "saved\n",
      "loaded\n",
      "saved\n",
      "loaded\n"
     ]
    },
    {
     "name": "stderr",
     "output_type": "stream",
     "text": [
      " 73%|██████████████████████████████████████████████████████████████████████████                           | 1567/2137 [01:26<00:33, 16.88it/s]"
     ]
    },
    {
     "name": "stdout",
     "output_type": "stream",
     "text": [
      "saved\n",
      "loaded\n",
      "saved\n",
      "loaded\n",
      "saved\n",
      "loaded\n",
      "saved\n",
      "loaded\n"
     ]
    },
    {
     "name": "stderr",
     "output_type": "stream",
     "text": [
      " 74%|██████████████████████████████████████████████████████████████████████████▎                          | 1572/2137 [01:26<00:32, 17.37it/s]"
     ]
    },
    {
     "name": "stdout",
     "output_type": "stream",
     "text": [
      "saved\n",
      "loaded\n",
      "saved\n",
      "loaded\n",
      "saved\n",
      "loaded\n",
      "saved\n",
      "loaded\n"
     ]
    },
    {
     "name": "stderr",
     "output_type": "stream",
     "text": [
      " 74%|██████████████████████████████████████████████████████████████████████████▍                          | 1576/2137 [01:27<00:34, 16.49it/s]"
     ]
    },
    {
     "name": "stdout",
     "output_type": "stream",
     "text": [
      "saved\n",
      "loaded\n",
      "saved\n",
      "loaded\n",
      "saved\n",
      "loaded\n",
      "saved\n",
      "loaded\n"
     ]
    },
    {
     "name": "stderr",
     "output_type": "stream",
     "text": [
      " 74%|██████████████████████████████████████████████████████████████████████████▋                          | 1580/2137 [01:27<00:33, 16.76it/s]"
     ]
    },
    {
     "name": "stdout",
     "output_type": "stream",
     "text": [
      "saved\n",
      "loaded\n",
      "saved\n",
      "loaded\n",
      "saved\n",
      "loaded\n",
      "saved\n",
      "loaded\n"
     ]
    },
    {
     "name": "stderr",
     "output_type": "stream",
     "text": [
      "\r",
      " 74%|██████████████████████████████████████████████████████████████████████████▊                          | 1582/2137 [01:27<00:32, 17.30it/s]"
     ]
    },
    {
     "name": "stdout",
     "output_type": "stream",
     "text": [
      "saved\n",
      "loaded\n",
      "saved\n",
      "loaded\n",
      "saved\n",
      "loaded\n"
     ]
    },
    {
     "name": "stderr",
     "output_type": "stream",
     "text": [
      " 74%|██████████████████████████████████████████████████████████████████████████▉                          | 1586/2137 [01:27<00:35, 15.38it/s]"
     ]
    },
    {
     "name": "stdout",
     "output_type": "stream",
     "text": [
      "saved\n",
      "loaded\n",
      "saved\n",
      "loaded\n",
      "saved\n",
      "loaded\n"
     ]
    },
    {
     "name": "stderr",
     "output_type": "stream",
     "text": [
      " 74%|███████████████████████████████████████████████████████████████████████████▏                         | 1590/2137 [01:28<00:38, 14.25it/s]"
     ]
    },
    {
     "name": "stdout",
     "output_type": "stream",
     "text": [
      "saved\n",
      "loaded\n",
      "saved\n",
      "loaded\n",
      "saved\n",
      "loaded\n",
      "saved\n",
      "loaded\n"
     ]
    },
    {
     "name": "stderr",
     "output_type": "stream",
     "text": [
      "\r",
      " 74%|███████████████████████████████████████████████████████████████████████████▏                         | 1592/2137 [01:28<00:37, 14.72it/s]"
     ]
    },
    {
     "name": "stdout",
     "output_type": "stream",
     "text": [
      "saved\n",
      "loaded\n",
      "saved\n",
      "loaded\n",
      "saved\n",
      "loaded\n"
     ]
    },
    {
     "name": "stderr",
     "output_type": "stream",
     "text": [
      " 75%|███████████████████████████████████████████████████████████████████████████▍                         | 1597/2137 [01:28<00:36, 14.78it/s]"
     ]
    },
    {
     "name": "stdout",
     "output_type": "stream",
     "text": [
      "saved\n",
      "loaded\n",
      "saved\n",
      "loaded\n",
      "saved\n",
      "loaded\n",
      "saved\n",
      "loaded\n"
     ]
    },
    {
     "name": "stderr",
     "output_type": "stream",
     "text": [
      " 75%|███████████████████████████████████████████████████████████████████████████▋                         | 1601/2137 [01:28<00:33, 15.89it/s]"
     ]
    },
    {
     "name": "stdout",
     "output_type": "stream",
     "text": [
      "saved\n",
      "loaded\n",
      "saved\n",
      "loaded\n",
      "saved\n",
      "loaded\n",
      "saved\n",
      "loaded\n"
     ]
    },
    {
     "name": "stderr",
     "output_type": "stream",
     "text": [
      " 75%|███████████████████████████████████████████████████████████████████████████▊                         | 1605/2137 [01:28<00:33, 15.99it/s]"
     ]
    },
    {
     "name": "stdout",
     "output_type": "stream",
     "text": [
      "saved\n",
      "loaded\n",
      "saved\n",
      "loaded\n",
      "saved\n",
      "loaded\n",
      "saved\n",
      "loaded\n"
     ]
    },
    {
     "name": "stderr",
     "output_type": "stream",
     "text": [
      " 75%|████████████████████████████████████████████████████████████████████████████                         | 1609/2137 [01:29<00:31, 16.98it/s]"
     ]
    },
    {
     "name": "stdout",
     "output_type": "stream",
     "text": [
      "saved\n",
      "loaded\n",
      "saved\n",
      "loaded\n",
      "saved\n",
      "loaded\n",
      "saved\n",
      "loaded\n",
      "saved\n",
      "loaded\n"
     ]
    },
    {
     "name": "stderr",
     "output_type": "stream",
     "text": [
      " 76%|████████████████████████████████████████████████████████████████████████████▎                        | 1614/2137 [01:29<00:28, 18.54it/s]"
     ]
    },
    {
     "name": "stdout",
     "output_type": "stream",
     "text": [
      "saved\n",
      "loaded\n",
      "saved\n",
      "loaded\n",
      "saved\n",
      "loaded\n",
      "saved\n",
      "loaded\n"
     ]
    },
    {
     "name": "stderr",
     "output_type": "stream",
     "text": [
      " 76%|████████████████████████████████████████████████████████████████████████████▍                        | 1618/2137 [01:29<00:30, 17.00it/s]"
     ]
    },
    {
     "name": "stdout",
     "output_type": "stream",
     "text": [
      "saved\n",
      "loaded\n",
      "saved\n",
      "loaded\n",
      "saved\n",
      "loaded\n",
      "saved\n",
      "loaded\n"
     ]
    },
    {
     "name": "stderr",
     "output_type": "stream",
     "text": [
      " 76%|████████████████████████████████████████████████████████████████████████████▋                        | 1622/2137 [01:29<00:29, 17.43it/s]"
     ]
    },
    {
     "name": "stdout",
     "output_type": "stream",
     "text": [
      "saved\n",
      "loaded\n",
      "saved\n",
      "loaded\n",
      "saved\n",
      "loaded\n",
      "saved\n",
      "loaded\n"
     ]
    },
    {
     "name": "stderr",
     "output_type": "stream",
     "text": [
      "\r",
      " 76%|████████████████████████████████████████████████████████████████████████████▊                        | 1625/2137 [01:30<00:27, 18.59it/s]"
     ]
    },
    {
     "name": "stdout",
     "output_type": "stream",
     "text": [
      "saved\n",
      "loaded\n",
      "saved\n",
      "loaded\n",
      "saved\n",
      "loaded\n",
      "saved\n",
      "loaded\n"
     ]
    },
    {
     "name": "stderr",
     "output_type": "stream",
     "text": [
      " 76%|████████████████████████████████████████████████████████████████████████████▉                        | 1629/2137 [01:30<00:31, 16.09it/s]"
     ]
    },
    {
     "name": "stdout",
     "output_type": "stream",
     "text": [
      "saved\n",
      "loaded\n",
      "saved\n",
      "loaded\n",
      "saved\n",
      "loaded\n"
     ]
    },
    {
     "name": "stderr",
     "output_type": "stream",
     "text": [
      " 76%|█████████████████████████████████████████████████████████████████████████████▏                       | 1633/2137 [01:30<00:29, 16.82it/s]"
     ]
    },
    {
     "name": "stdout",
     "output_type": "stream",
     "text": [
      "saved\n",
      "loaded\n",
      "saved\n",
      "loaded\n",
      "saved\n",
      "loaded\n",
      "saved\n",
      "loaded\n"
     ]
    },
    {
     "name": "stderr",
     "output_type": "stream",
     "text": [
      "\r",
      " 77%|█████████████████████████████████████████████████████████████████████████████▎                       | 1635/2137 [01:30<00:28, 17.61it/s]"
     ]
    },
    {
     "name": "stdout",
     "output_type": "stream",
     "text": [
      "saved\n",
      "loaded\n",
      "saved\n",
      "loaded\n",
      "saved\n",
      "loaded\n",
      "saved\n",
      "loaded\n"
     ]
    },
    {
     "name": "stderr",
     "output_type": "stream",
     "text": [
      " 77%|█████████████████████████████████████████████████████████████████████████████▌                       | 1640/2137 [01:30<00:27, 18.23it/s]"
     ]
    },
    {
     "name": "stdout",
     "output_type": "stream",
     "text": [
      "saved\n",
      "loaded\n",
      "saved\n",
      "loaded\n",
      "saved\n",
      "loaded\n",
      "saved\n",
      "loaded\n"
     ]
    },
    {
     "name": "stderr",
     "output_type": "stream",
     "text": [
      " 77%|█████████████████████████████████████████████████████████████████████████████▋                       | 1645/2137 [01:31<00:27, 17.96it/s]"
     ]
    },
    {
     "name": "stdout",
     "output_type": "stream",
     "text": [
      "saved\n",
      "loaded\n",
      "saved\n",
      "loaded\n",
      "saved\n",
      "loaded\n",
      "saved\n",
      "loaded\n"
     ]
    },
    {
     "name": "stderr",
     "output_type": "stream",
     "text": [
      "\r",
      " 77%|█████████████████████████████████████████████████████████████████████████████▉                       | 1648/2137 [01:31<00:27, 17.78it/s]"
     ]
    },
    {
     "name": "stdout",
     "output_type": "stream",
     "text": [
      "saved\n",
      "loaded\n",
      "saved\n",
      "loaded\n",
      "saved\n",
      "loaded\n",
      "saved\n",
      "loaded\n"
     ]
    },
    {
     "name": "stderr",
     "output_type": "stream",
     "text": [
      " 77%|██████████████████████████████████████████████████████████████████████████████                       | 1652/2137 [01:31<00:27, 17.55it/s]"
     ]
    },
    {
     "name": "stdout",
     "output_type": "stream",
     "text": [
      "saved\n",
      "loaded\n",
      "saved\n",
      "loaded\n",
      "saved\n",
      "loaded\n",
      "saved\n",
      "loaded\n"
     ]
    },
    {
     "name": "stderr",
     "output_type": "stream",
     "text": [
      " 77%|██████████████████████████████████████████████████████████████████████████████▎                      | 1656/2137 [01:31<00:27, 17.25it/s]"
     ]
    },
    {
     "name": "stdout",
     "output_type": "stream",
     "text": [
      "saved\n",
      "loaded\n",
      "saved\n",
      "loaded\n",
      "saved\n",
      "loaded\n",
      "saved\n",
      "loaded\n"
     ]
    },
    {
     "name": "stderr",
     "output_type": "stream",
     "text": [
      "\r",
      " 78%|██████████████████████████████████████████████████████████████████████████████▎                      | 1658/2137 [01:32<00:29, 16.29it/s]"
     ]
    },
    {
     "name": "stdout",
     "output_type": "stream",
     "text": [
      "saved\n",
      "loaded\n",
      "saved\n",
      "loaded\n"
     ]
    },
    {
     "name": "stderr",
     "output_type": "stream",
     "text": [
      " 78%|██████████████████████████████████████████████████████████████████████████████▌                      | 1662/2137 [01:32<00:34, 13.67it/s]"
     ]
    },
    {
     "name": "stdout",
     "output_type": "stream",
     "text": [
      "saved\n",
      "loaded\n",
      "saved\n",
      "loaded\n",
      "saved\n",
      "loaded\n"
     ]
    },
    {
     "name": "stderr",
     "output_type": "stream",
     "text": [
      " 78%|██████████████████████████████████████████████████████████████████████████████▋                      | 1666/2137 [01:32<00:30, 15.24it/s]"
     ]
    },
    {
     "name": "stdout",
     "output_type": "stream",
     "text": [
      "saved\n",
      "loaded\n",
      "saved\n",
      "loaded\n",
      "saved\n",
      "loaded\n",
      "saved\n",
      "loaded\n"
     ]
    },
    {
     "name": "stderr",
     "output_type": "stream",
     "text": [
      " 78%|██████████████████████████████████████████████████████████████████████████████▉                      | 1670/2137 [01:32<00:29, 15.65it/s]"
     ]
    },
    {
     "name": "stdout",
     "output_type": "stream",
     "text": [
      "saved\n",
      "loaded\n",
      "saved\n",
      "loaded\n",
      "saved\n",
      "loaded\n",
      "saved\n",
      "loaded\n"
     ]
    },
    {
     "name": "stderr",
     "output_type": "stream",
     "text": [
      " 78%|███████████████████████████████████████████████████████████████████████████████                      | 1674/2137 [01:33<00:29, 15.79it/s]"
     ]
    },
    {
     "name": "stdout",
     "output_type": "stream",
     "text": [
      "saved\n",
      "loaded\n",
      "saved\n",
      "loaded\n",
      "saved\n",
      "loaded\n",
      "saved\n",
      "loaded\n"
     ]
    },
    {
     "name": "stderr",
     "output_type": "stream",
     "text": [
      " 79%|███████████████████████████████████████████████████████████████████████████████▎                     | 1678/2137 [01:33<00:30, 14.93it/s]"
     ]
    },
    {
     "name": "stdout",
     "output_type": "stream",
     "text": [
      "saved\n",
      "loaded\n",
      "saved\n",
      "loaded\n",
      "saved\n",
      "loaded\n",
      "saved\n",
      "loaded\n"
     ]
    },
    {
     "name": "stderr",
     "output_type": "stream",
     "text": [
      "\r",
      " 79%|███████████████████████████████████████████████████████████████████████████████▍                     | 1681/2137 [01:33<00:28, 16.04it/s]"
     ]
    },
    {
     "name": "stdout",
     "output_type": "stream",
     "text": [
      "saved\n",
      "loaded\n",
      "saved\n",
      "loaded\n",
      "saved\n",
      "loaded\n",
      "saved\n",
      "loaded\n"
     ]
    },
    {
     "name": "stderr",
     "output_type": "stream",
     "text": [
      " 79%|███████████████████████████████████████████████████████████████████████████████▋                     | 1686/2137 [01:33<00:25, 17.76it/s]"
     ]
    },
    {
     "name": "stdout",
     "output_type": "stream",
     "text": [
      "saved\n",
      "loaded\n",
      "saved\n",
      "loaded\n",
      "saved\n",
      "loaded\n",
      "saved\n",
      "loaded\n",
      "saved\n",
      "loaded\n"
     ]
    },
    {
     "name": "stderr",
     "output_type": "stream",
     "text": [
      " 79%|███████████████████████████████████████████████████████████████████████████████▉                     | 1691/2137 [01:34<00:24, 18.51it/s]"
     ]
    },
    {
     "name": "stdout",
     "output_type": "stream",
     "text": [
      "saved\n",
      "loaded\n",
      "saved\n",
      "loaded\n",
      "saved\n",
      "loaded\n",
      "saved\n",
      "loaded\n"
     ]
    },
    {
     "name": "stderr",
     "output_type": "stream",
     "text": [
      "\r",
      " 79%|████████████████████████████████████████████████████████████████████████████████                     | 1694/2137 [01:34<00:23, 19.21it/s]"
     ]
    },
    {
     "name": "stdout",
     "output_type": "stream",
     "text": [
      "saved\n",
      "loaded\n",
      "saved\n",
      "loaded\n",
      "saved\n",
      "loaded\n",
      "saved\n",
      "loaded\n",
      "saved\n",
      "loaded\n"
     ]
    },
    {
     "name": "stderr",
     "output_type": "stream",
     "text": [
      " 80%|████████████████████████████████████████████████████████████████████████████████▎                    | 1700/2137 [01:34<00:22, 19.28it/s]"
     ]
    },
    {
     "name": "stdout",
     "output_type": "stream",
     "text": [
      "saved\n",
      "loaded\n",
      "saved\n",
      "loaded\n",
      "saved\n",
      "loaded\n",
      "saved\n",
      "loaded\n"
     ]
    },
    {
     "name": "stderr",
     "output_type": "stream",
     "text": [
      "\r",
      " 80%|████████████████████████████████████████████████████████████████████████████████▍                    | 1703/2137 [01:34<00:22, 19.67it/s]"
     ]
    },
    {
     "name": "stdout",
     "output_type": "stream",
     "text": [
      "saved\n",
      "loaded\n",
      "saved\n",
      "loaded\n",
      "saved\n",
      "loaded\n",
      "saved\n",
      "loaded\n"
     ]
    },
    {
     "name": "stderr",
     "output_type": "stream",
     "text": [
      " 80%|████████████████████████████████████████████████████████████████████████████████▋                    | 1707/2137 [01:34<00:22, 19.26it/s]"
     ]
    },
    {
     "name": "stdout",
     "output_type": "stream",
     "text": [
      "saved\n",
      "loaded\n",
      "saved\n",
      "loaded\n",
      "saved\n",
      "loaded\n",
      "saved\n",
      "loaded\n",
      "saved\n",
      "loaded\n"
     ]
    },
    {
     "name": "stderr",
     "output_type": "stream",
     "text": [
      " 80%|████████████████████████████████████████████████████████████████████████████████▉                    | 1712/2137 [01:35<00:21, 19.47it/s]"
     ]
    },
    {
     "name": "stdout",
     "output_type": "stream",
     "text": [
      "saved\n",
      "loaded\n",
      "saved\n",
      "loaded\n",
      "saved\n",
      "loaded\n",
      "saved\n",
      "loaded\n"
     ]
    },
    {
     "name": "stderr",
     "output_type": "stream",
     "text": [
      " 80%|█████████████████████████████████████████████████████████████████████████████████                    | 1716/2137 [01:35<00:21, 19.42it/s]"
     ]
    },
    {
     "name": "stdout",
     "output_type": "stream",
     "text": [
      "saved\n",
      "loaded\n",
      "saved\n",
      "loaded\n",
      "saved\n",
      "loaded\n",
      "saved\n",
      "loaded\n"
     ]
    },
    {
     "name": "stderr",
     "output_type": "stream",
     "text": [
      " 81%|█████████████████████████████████████████████████████████████████████████████████▎                   | 1721/2137 [01:35<00:22, 18.89it/s]"
     ]
    },
    {
     "name": "stdout",
     "output_type": "stream",
     "text": [
      "saved\n",
      "loaded\n",
      "saved\n",
      "loaded\n",
      "saved\n",
      "loaded\n",
      "saved\n",
      "loaded\n"
     ]
    },
    {
     "name": "stderr",
     "output_type": "stream",
     "text": [
      "\r",
      " 81%|█████████████████████████████████████████████████████████████████████████████████▍                   | 1723/2137 [01:35<00:22, 18.26it/s]"
     ]
    },
    {
     "name": "stdout",
     "output_type": "stream",
     "text": [
      "saved\n",
      "loaded\n",
      "saved\n",
      "loaded\n",
      "saved\n",
      "loaded\n",
      "saved\n",
      "loaded\n"
     ]
    },
    {
     "name": "stderr",
     "output_type": "stream",
     "text": [
      " 81%|█████████████████████████████████████████████████████████████████████████████████▋                   | 1728/2137 [01:35<00:21, 18.73it/s]"
     ]
    },
    {
     "name": "stdout",
     "output_type": "stream",
     "text": [
      "saved\n",
      "loaded\n",
      "saved\n",
      "loaded\n",
      "saved\n",
      "loaded\n",
      "saved\n",
      "loaded\n"
     ]
    },
    {
     "name": "stderr",
     "output_type": "stream",
     "text": [
      " 81%|█████████████████████████████████████████████████████████████████████████████████▊                   | 1732/2137 [01:36<00:24, 16.42it/s]"
     ]
    },
    {
     "name": "stdout",
     "output_type": "stream",
     "text": [
      "saved\n",
      "loaded\n",
      "saved\n",
      "loaded\n",
      "saved\n",
      "loaded\n",
      "saved\n",
      "loaded\n"
     ]
    },
    {
     "name": "stderr",
     "output_type": "stream",
     "text": [
      "\r",
      " 81%|█████████████████████████████████████████████████████████████████████████████████▉                   | 1734/2137 [01:36<00:23, 17.18it/s]"
     ]
    },
    {
     "name": "stdout",
     "output_type": "stream",
     "text": [
      "saved\n",
      "loaded\n",
      "saved\n",
      "loaded\n"
     ]
    },
    {
     "name": "stderr",
     "output_type": "stream",
     "text": [
      " 81%|██████████████████████████████████████████████████████████████████████████████████▏                  | 1738/2137 [01:36<00:27, 14.32it/s]"
     ]
    },
    {
     "name": "stdout",
     "output_type": "stream",
     "text": [
      "saved\n",
      "loaded\n",
      "saved\n",
      "loaded\n",
      "saved\n",
      "loaded\n",
      "saved\n",
      "loaded\n"
     ]
    },
    {
     "name": "stderr",
     "output_type": "stream",
     "text": [
      " 82%|██████████████████████████████████████████████████████████████████████████████████▎                  | 1742/2137 [01:36<00:25, 15.78it/s]"
     ]
    },
    {
     "name": "stdout",
     "output_type": "stream",
     "text": [
      "saved\n",
      "loaded\n",
      "saved\n",
      "loaded\n",
      "saved\n",
      "loaded\n",
      "saved\n",
      "loaded\n"
     ]
    },
    {
     "name": "stderr",
     "output_type": "stream",
     "text": [
      " 82%|██████████████████████████████████████████████████████████████████████████████████▌                  | 1746/2137 [01:37<00:23, 16.63it/s]"
     ]
    },
    {
     "name": "stdout",
     "output_type": "stream",
     "text": [
      "saved\n",
      "loaded\n",
      "saved\n",
      "loaded\n",
      "saved\n",
      "loaded\n",
      "saved\n",
      "loaded\n"
     ]
    },
    {
     "name": "stderr",
     "output_type": "stream",
     "text": [
      " 82%|██████████████████████████████████████████████████████████████████████████████████▋                  | 1750/2137 [01:37<00:22, 17.06it/s]"
     ]
    },
    {
     "name": "stdout",
     "output_type": "stream",
     "text": [
      "saved\n",
      "loaded\n",
      "saved\n",
      "loaded\n",
      "saved\n",
      "loaded\n",
      "saved\n",
      "loaded\n"
     ]
    },
    {
     "name": "stderr",
     "output_type": "stream",
     "text": [
      "\r",
      " 82%|██████████████████████████████████████████████████████████████████████████████████▊                  | 1753/2137 [01:37<00:20, 18.30it/s]"
     ]
    },
    {
     "name": "stdout",
     "output_type": "stream",
     "text": [
      "saved\n",
      "loaded\n",
      "saved\n",
      "loaded\n",
      "saved\n",
      "loaded\n"
     ]
    },
    {
     "name": "stderr",
     "output_type": "stream",
     "text": [
      " 82%|███████████████████████████████████████████████████████████████████████████████████                  | 1757/2137 [01:37<00:26, 14.34it/s]"
     ]
    },
    {
     "name": "stdout",
     "output_type": "stream",
     "text": [
      "saved\n",
      "loaded\n",
      "saved\n",
      "loaded\n",
      "saved\n",
      "loaded\n"
     ]
    },
    {
     "name": "stderr",
     "output_type": "stream",
     "text": [
      "\r",
      " 82%|███████████████████████████████████████████████████████████████████████████████████▏                 | 1759/2137 [01:38<00:26, 14.48it/s]"
     ]
    },
    {
     "name": "stdout",
     "output_type": "stream",
     "text": [
      "saved\n",
      "loaded\n",
      "saved\n",
      "loaded\n",
      "saved\n",
      "loaded\n"
     ]
    },
    {
     "name": "stderr",
     "output_type": "stream",
     "text": [
      " 82%|███████████████████████████████████████████████████████████████████████████████████▎                 | 1763/2137 [01:38<00:25, 14.92it/s]"
     ]
    },
    {
     "name": "stdout",
     "output_type": "stream",
     "text": [
      "saved\n",
      "loaded\n",
      "saved\n",
      "loaded\n",
      "saved\n",
      "loaded\n",
      "saved\n",
      "loaded\n"
     ]
    },
    {
     "name": "stderr",
     "output_type": "stream",
     "text": [
      " 83%|███████████████████████████████████████████████████████████████████████████████████▌                 | 1768/2137 [01:38<00:23, 15.91it/s]"
     ]
    },
    {
     "name": "stdout",
     "output_type": "stream",
     "text": [
      "saved\n",
      "loaded\n",
      "saved\n",
      "loaded\n",
      "saved\n",
      "loaded\n",
      "saved\n",
      "loaded\n"
     ]
    },
    {
     "name": "stderr",
     "output_type": "stream",
     "text": [
      "\r",
      " 83%|███████████████████████████████████████████████████████████████████████████████████▋                 | 1770/2137 [01:38<00:24, 14.95it/s]"
     ]
    },
    {
     "name": "stdout",
     "output_type": "stream",
     "text": [
      "saved\n",
      "loaded\n",
      "saved\n",
      "loaded\n",
      "saved\n",
      "loaded\n"
     ]
    },
    {
     "name": "stderr",
     "output_type": "stream",
     "text": [
      " 83%|███████████████████████████████████████████████████████████████████████████████████▊                 | 1774/2137 [01:39<00:24, 14.68it/s]"
     ]
    },
    {
     "name": "stdout",
     "output_type": "stream",
     "text": [
      "saved\n",
      "loaded\n",
      "saved\n",
      "loaded\n",
      "saved\n",
      "loaded\n"
     ]
    },
    {
     "name": "stderr",
     "output_type": "stream",
     "text": [
      " 83%|████████████████████████████████████████████████████████████████████████████████████                 | 1778/2137 [01:39<00:24, 14.36it/s]"
     ]
    },
    {
     "name": "stdout",
     "output_type": "stream",
     "text": [
      "saved\n",
      "loaded\n",
      "saved\n",
      "loaded\n",
      "saved\n",
      "loaded\n",
      "saved\n",
      "loaded\n"
     ]
    },
    {
     "name": "stderr",
     "output_type": "stream",
     "text": [
      "\r",
      " 83%|████████████████████████████████████████████████████████████████████████████████████▏                | 1780/2137 [01:39<00:24, 14.78it/s]"
     ]
    },
    {
     "name": "stdout",
     "output_type": "stream",
     "text": [
      "saved\n",
      "loaded\n",
      "saved\n",
      "loaded\n",
      "saved\n",
      "loaded\n"
     ]
    },
    {
     "name": "stderr",
     "output_type": "stream",
     "text": [
      " 83%|████████████████████████████████████████████████████████████████████████████████████▎                | 1784/2137 [01:39<00:24, 14.26it/s]"
     ]
    },
    {
     "name": "stdout",
     "output_type": "stream",
     "text": [
      "saved\n",
      "loaded\n",
      "saved\n",
      "loaded\n",
      "saved\n",
      "loaded\n",
      "saved\n",
      "loaded\n"
     ]
    },
    {
     "name": "stderr",
     "output_type": "stream",
     "text": [
      " 84%|████████████████████████████████████████████████████████████████████████████████████▌                | 1788/2137 [01:39<00:23, 14.55it/s]"
     ]
    },
    {
     "name": "stdout",
     "output_type": "stream",
     "text": [
      "saved\n",
      "loaded\n",
      "saved\n",
      "loaded\n",
      "saved\n",
      "loaded\n"
     ]
    },
    {
     "name": "stderr",
     "output_type": "stream",
     "text": [
      "\r",
      " 84%|████████████████████████████████████████████████████████████████████████████████████▌                | 1790/2137 [01:40<00:26, 13.06it/s]"
     ]
    },
    {
     "name": "stdout",
     "output_type": "stream",
     "text": [
      "saved\n",
      "loaded\n",
      "saved\n",
      "loaded\n"
     ]
    },
    {
     "name": "stderr",
     "output_type": "stream",
     "text": [
      " 84%|████████████████████████████████████████████████████████████████████████████████████▊                | 1794/2137 [01:40<00:24, 14.06it/s]"
     ]
    },
    {
     "name": "stdout",
     "output_type": "stream",
     "text": [
      "saved\n",
      "loaded\n",
      "saved\n",
      "loaded\n",
      "saved\n",
      "loaded\n",
      "saved\n",
      "loaded\n"
     ]
    },
    {
     "name": "stderr",
     "output_type": "stream",
     "text": [
      " 84%|████████████████████████████████████████████████████████████████████████████████████▉                | 1798/2137 [01:40<00:22, 14.86it/s]"
     ]
    },
    {
     "name": "stdout",
     "output_type": "stream",
     "text": [
      "saved\n",
      "loaded\n",
      "saved\n",
      "loaded\n",
      "saved\n",
      "loaded\n",
      "saved\n",
      "loaded\n"
     ]
    },
    {
     "name": "stderr",
     "output_type": "stream",
     "text": [
      " 84%|█████████████████████████████████████████████████████████████████████████████████████▏               | 1802/2137 [01:40<00:22, 15.05it/s]"
     ]
    },
    {
     "name": "stdout",
     "output_type": "stream",
     "text": [
      "saved\n",
      "loaded\n",
      "saved\n",
      "loaded\n",
      "saved\n",
      "loaded\n",
      "saved\n",
      "loaded\n"
     ]
    },
    {
     "name": "stderr",
     "output_type": "stream",
     "text": [
      "\r",
      " 84%|█████████████████████████████████████████████████████████████████████████████████████▎               | 1804/2137 [01:41<00:24, 13.83it/s]"
     ]
    },
    {
     "name": "stdout",
     "output_type": "stream",
     "text": [
      "saved\n",
      "loaded\n",
      "saved\n",
      "loaded\n",
      "saved\n",
      "loaded\n"
     ]
    },
    {
     "name": "stderr",
     "output_type": "stream",
     "text": [
      " 85%|█████████████████████████████████████████████████████████████████████████████████████▍               | 1808/2137 [01:41<00:22, 14.91it/s]"
     ]
    },
    {
     "name": "stdout",
     "output_type": "stream",
     "text": [
      "saved\n",
      "loaded\n",
      "saved\n",
      "loaded\n",
      "saved\n",
      "loaded\n",
      "saved\n",
      "loaded\n"
     ]
    },
    {
     "name": "stderr",
     "output_type": "stream",
     "text": [
      " 85%|█████████████████████████████████████████████████████████████████████████████████████▋               | 1812/2137 [01:41<00:21, 15.34it/s]"
     ]
    },
    {
     "name": "stdout",
     "output_type": "stream",
     "text": [
      "saved\n",
      "loaded\n",
      "saved\n",
      "loaded\n",
      "saved\n",
      "loaded\n"
     ]
    },
    {
     "name": "stderr",
     "output_type": "stream",
     "text": [
      " 85%|█████████████████████████████████████████████████████████████████████████████████████▊               | 1816/2137 [01:41<00:20, 15.89it/s]"
     ]
    },
    {
     "name": "stdout",
     "output_type": "stream",
     "text": [
      "saved\n",
      "loaded\n",
      "saved\n",
      "loaded\n",
      "saved\n",
      "loaded\n",
      "saved\n",
      "loaded\n"
     ]
    },
    {
     "name": "stderr",
     "output_type": "stream",
     "text": [
      "\r",
      " 85%|█████████████████████████████████████████████████████████████████████████████████████▉               | 1818/2137 [01:42<00:20, 15.35it/s]"
     ]
    },
    {
     "name": "stdout",
     "output_type": "stream",
     "text": [
      "saved\n",
      "loaded\n",
      "saved\n",
      "loaded\n",
      "saved\n",
      "loaded\n"
     ]
    },
    {
     "name": "stderr",
     "output_type": "stream",
     "text": [
      " 85%|██████████████████████████████████████████████████████████████████████████████████████               | 1822/2137 [01:42<00:19, 16.36it/s]"
     ]
    },
    {
     "name": "stdout",
     "output_type": "stream",
     "text": [
      "saved\n",
      "loaded\n",
      "saved\n",
      "loaded\n",
      "saved\n",
      "loaded\n",
      "saved\n",
      "loaded\n"
     ]
    },
    {
     "name": "stderr",
     "output_type": "stream",
     "text": [
      " 85%|██████████████████████████████████████████████████████████████████████████████████████▎              | 1826/2137 [01:42<00:19, 16.16it/s]"
     ]
    },
    {
     "name": "stdout",
     "output_type": "stream",
     "text": [
      "saved\n",
      "loaded\n",
      "saved\n",
      "loaded\n",
      "saved\n",
      "loaded\n",
      "saved\n",
      "loaded\n"
     ]
    },
    {
     "name": "stderr",
     "output_type": "stream",
     "text": [
      " 86%|██████████████████████████████████████████████████████████████████████████████████████▍              | 1830/2137 [01:42<00:19, 15.88it/s]"
     ]
    },
    {
     "name": "stdout",
     "output_type": "stream",
     "text": [
      "saved\n",
      "loaded\n",
      "saved\n",
      "loaded\n",
      "saved\n",
      "loaded\n",
      "saved\n",
      "loaded\n"
     ]
    },
    {
     "name": "stderr",
     "output_type": "stream",
     "text": [
      " 86%|██████████████████████████████████████████████████████████████████████████████████████▋              | 1834/2137 [01:42<00:18, 16.63it/s]"
     ]
    },
    {
     "name": "stdout",
     "output_type": "stream",
     "text": [
      "saved\n",
      "loaded\n",
      "saved\n",
      "loaded\n",
      "saved\n",
      "loaded\n",
      "saved\n",
      "loaded\n"
     ]
    },
    {
     "name": "stderr",
     "output_type": "stream",
     "text": [
      " 86%|██████████████████████████████████████████████████████████████████████████████████████▊              | 1838/2137 [01:43<00:18, 16.05it/s]"
     ]
    },
    {
     "name": "stdout",
     "output_type": "stream",
     "text": [
      "saved\n",
      "loaded\n",
      "saved\n",
      "loaded\n",
      "saved\n",
      "loaded\n",
      "saved\n",
      "loaded\n"
     ]
    },
    {
     "name": "stderr",
     "output_type": "stream",
     "text": [
      " 86%|███████████████████████████████████████████████████████████████████████████████████████              | 1842/2137 [01:43<00:17, 16.57it/s]"
     ]
    },
    {
     "name": "stdout",
     "output_type": "stream",
     "text": [
      "saved\n",
      "loaded\n",
      "saved\n",
      "loaded\n",
      "saved\n",
      "loaded\n",
      "saved\n",
      "loaded\n"
     ]
    },
    {
     "name": "stderr",
     "output_type": "stream",
     "text": [
      " 86%|███████████████████████████████████████████████████████████████████████████████████████▏             | 1846/2137 [01:43<00:17, 16.50it/s]"
     ]
    },
    {
     "name": "stdout",
     "output_type": "stream",
     "text": [
      "saved\n",
      "loaded\n",
      "saved\n",
      "loaded\n",
      "saved\n",
      "loaded\n",
      "saved\n",
      "loaded\n"
     ]
    },
    {
     "name": "stderr",
     "output_type": "stream",
     "text": [
      "\r",
      " 87%|███████████████████████████████████████████████████████████████████████████████████████▍             | 1849/2137 [01:43<00:17, 16.59it/s]"
     ]
    },
    {
     "name": "stdout",
     "output_type": "stream",
     "text": [
      "saved\n",
      "loaded\n",
      "saved\n",
      "loaded\n",
      "saved\n",
      "loaded\n"
     ]
    },
    {
     "name": "stderr",
     "output_type": "stream",
     "text": [
      " 87%|███████████████████████████████████████████████████████████████████████████████████████▌             | 1853/2137 [01:44<00:18, 15.62it/s]"
     ]
    },
    {
     "name": "stdout",
     "output_type": "stream",
     "text": [
      "saved\n",
      "loaded\n",
      "saved\n",
      "loaded\n",
      "saved\n",
      "loaded\n",
      "saved\n",
      "loaded\n"
     ]
    },
    {
     "name": "stderr",
     "output_type": "stream",
     "text": [
      " 87%|███████████████████████████████████████████████████████████████████████████████████████▊             | 1857/2137 [01:44<00:19, 14.21it/s]"
     ]
    },
    {
     "name": "stdout",
     "output_type": "stream",
     "text": [
      "saved\n",
      "loaded\n",
      "saved\n",
      "loaded\n",
      "saved\n",
      "loaded\n"
     ]
    },
    {
     "name": "stderr",
     "output_type": "stream",
     "text": [
      " 87%|███████████████████████████████████████████████████████████████████████████████████████▉             | 1861/2137 [01:44<00:18, 15.12it/s]"
     ]
    },
    {
     "name": "stdout",
     "output_type": "stream",
     "text": [
      "saved\n",
      "loaded\n",
      "saved\n",
      "loaded\n",
      "saved\n",
      "loaded\n",
      "saved\n",
      "loaded\n"
     ]
    },
    {
     "name": "stderr",
     "output_type": "stream",
     "text": [
      "\r",
      " 87%|████████████████████████████████████████████████████████████████████████████████████████             | 1863/2137 [01:44<00:18, 15.18it/s]"
     ]
    },
    {
     "name": "stdout",
     "output_type": "stream",
     "text": [
      "saved\n",
      "loaded\n",
      "saved\n",
      "loaded\n",
      "saved\n",
      "loaded\n"
     ]
    },
    {
     "name": "stderr",
     "output_type": "stream",
     "text": [
      " 87%|████████████████████████████████████████████████████████████████████████████████████████▏            | 1867/2137 [01:45<00:19, 13.68it/s]"
     ]
    },
    {
     "name": "stdout",
     "output_type": "stream",
     "text": [
      "saved\n",
      "loaded\n",
      "saved\n",
      "loaded\n",
      "saved\n",
      "loaded\n"
     ]
    },
    {
     "name": "stderr",
     "output_type": "stream",
     "text": [
      " 88%|████████████████████████████████████████████████████████████████████████████████████████▍            | 1871/2137 [01:45<00:17, 15.44it/s]"
     ]
    },
    {
     "name": "stdout",
     "output_type": "stream",
     "text": [
      "saved\n",
      "loaded\n",
      "saved\n",
      "loaded\n",
      "saved\n",
      "loaded\n",
      "saved\n",
      "loaded\n"
     ]
    },
    {
     "name": "stderr",
     "output_type": "stream",
     "text": [
      " 88%|████████████████████████████████████████████████████████████████████████████████████████▋            | 1876/2137 [01:45<00:14, 18.13it/s]"
     ]
    },
    {
     "name": "stdout",
     "output_type": "stream",
     "text": [
      "saved\n",
      "loaded\n",
      "saved\n",
      "loaded\n",
      "saved\n",
      "loaded\n",
      "saved\n",
      "loaded\n",
      "saved\n",
      "loaded\n"
     ]
    },
    {
     "name": "stderr",
     "output_type": "stream",
     "text": [
      " 88%|████████████████████████████████████████████████████████████████████████████████████████▊            | 1880/2137 [01:45<00:13, 18.81it/s]"
     ]
    },
    {
     "name": "stdout",
     "output_type": "stream",
     "text": [
      "saved\n",
      "loaded\n",
      "saved\n",
      "loaded\n",
      "saved\n",
      "loaded\n",
      "saved\n",
      "loaded\n",
      "saved\n",
      "loaded\n"
     ]
    },
    {
     "name": "stderr",
     "output_type": "stream",
     "text": [
      " 88%|█████████████████████████████████████████████████████████████████████████████████████████            | 1885/2137 [01:46<00:13, 18.04it/s]"
     ]
    },
    {
     "name": "stdout",
     "output_type": "stream",
     "text": [
      "saved\n",
      "loaded\n",
      "saved\n",
      "loaded\n",
      "saved\n",
      "loaded\n",
      "saved\n",
      "loaded\n"
     ]
    },
    {
     "name": "stderr",
     "output_type": "stream",
     "text": [
      " 88%|█████████████████████████████████████████████████████████████████████████████████████████▎           | 1889/2137 [01:46<00:13, 18.79it/s]"
     ]
    },
    {
     "name": "stdout",
     "output_type": "stream",
     "text": [
      "saved\n",
      "loaded\n",
      "saved\n",
      "loaded\n",
      "saved\n",
      "loaded\n",
      "saved\n",
      "loaded\n"
     ]
    },
    {
     "name": "stderr",
     "output_type": "stream",
     "text": [
      " 89%|█████████████████████████████████████████████████████████████████████████████████████████▍           | 1893/2137 [01:46<00:14, 17.31it/s]"
     ]
    },
    {
     "name": "stdout",
     "output_type": "stream",
     "text": [
      "saved\n",
      "loaded\n",
      "saved\n",
      "loaded\n",
      "saved\n",
      "loaded\n",
      "saved\n",
      "loaded\n"
     ]
    },
    {
     "name": "stderr",
     "output_type": "stream",
     "text": [
      " 89%|█████████████████████████████████████████████████████████████████████████████████████████▋           | 1897/2137 [01:46<00:14, 16.38it/s]"
     ]
    },
    {
     "name": "stdout",
     "output_type": "stream",
     "text": [
      "saved\n",
      "loaded\n",
      "saved\n",
      "loaded\n",
      "saved\n",
      "loaded\n",
      "saved\n",
      "loaded\n"
     ]
    },
    {
     "name": "stderr",
     "output_type": "stream",
     "text": [
      "\r",
      " 89%|█████████████████████████████████████████████████████████████████████████████████████████▊           | 1899/2137 [01:46<00:14, 16.85it/s]"
     ]
    },
    {
     "name": "stdout",
     "output_type": "stream",
     "text": [
      "saved\n",
      "loaded\n",
      "saved\n",
      "loaded\n",
      "saved\n",
      "loaded\n"
     ]
    },
    {
     "name": "stderr",
     "output_type": "stream",
     "text": [
      " 89%|█████████████████████████████████████████████████████████████████████████████████████████▉           | 1903/2137 [01:47<00:16, 14.19it/s]"
     ]
    },
    {
     "name": "stdout",
     "output_type": "stream",
     "text": [
      "saved\n",
      "loaded\n",
      "saved\n",
      "loaded\n",
      "saved\n",
      "loaded\n"
     ]
    },
    {
     "name": "stderr",
     "output_type": "stream",
     "text": [
      "\r",
      " 89%|██████████████████████████████████████████████████████████████████████████████████████████           | 1905/2137 [01:47<00:17, 13.56it/s]"
     ]
    },
    {
     "name": "stdout",
     "output_type": "stream",
     "text": [
      "saved\n",
      "loaded\n",
      "saved\n",
      "loaded\n",
      "saved\n",
      "loaded\n"
     ]
    },
    {
     "name": "stderr",
     "output_type": "stream",
     "text": [
      " 89%|██████████████████████████████████████████████████████████████████████████████████████████▏          | 1909/2137 [01:47<00:16, 13.66it/s]"
     ]
    },
    {
     "name": "stdout",
     "output_type": "stream",
     "text": [
      "saved\n",
      "loaded\n",
      "saved\n",
      "loaded\n",
      "saved\n",
      "loaded\n",
      "saved\n",
      "loaded\n"
     ]
    },
    {
     "name": "stderr",
     "output_type": "stream",
     "text": [
      "\r",
      " 89%|██████████████████████████████████████████████████████████████████████████████████████████▎          | 1912/2137 [01:47<00:14, 15.42it/s]"
     ]
    },
    {
     "name": "stdout",
     "output_type": "stream",
     "text": [
      "saved\n",
      "loaded\n",
      "saved\n",
      "loaded\n",
      "saved\n",
      "loaded\n"
     ]
    },
    {
     "name": "stderr",
     "output_type": "stream",
     "text": [
      " 90%|██████████████████████████████████████████████████████████████████████████████████████████▌          | 1916/2137 [01:48<00:14, 15.06it/s]"
     ]
    },
    {
     "name": "stdout",
     "output_type": "stream",
     "text": [
      "saved\n",
      "loaded\n",
      "saved\n",
      "loaded\n",
      "saved\n",
      "loaded\n",
      "saved\n",
      "loaded\n"
     ]
    },
    {
     "name": "stderr",
     "output_type": "stream",
     "text": [
      "\r",
      " 90%|██████████████████████████████████████████████████████████████████████████████████████████▋          | 1919/2137 [01:48<00:13, 16.15it/s]"
     ]
    },
    {
     "name": "stdout",
     "output_type": "stream",
     "text": [
      "saved\n",
      "loaded\n",
      "saved\n",
      "loaded\n",
      "saved\n",
      "loaded\n"
     ]
    },
    {
     "name": "stderr",
     "output_type": "stream",
     "text": [
      " 90%|██████████████████████████████████████████████████████████████████████████████████████████▉          | 1924/2137 [01:48<00:12, 17.13it/s]"
     ]
    },
    {
     "name": "stdout",
     "output_type": "stream",
     "text": [
      "saved\n",
      "loaded\n",
      "saved\n",
      "loaded\n",
      "saved\n",
      "loaded\n",
      "saved\n",
      "loaded\n",
      "saved\n",
      "loaded\n"
     ]
    },
    {
     "name": "stderr",
     "output_type": "stream",
     "text": [
      " 90%|███████████████████████████████████████████████████████████████████████████████████████████▏         | 1929/2137 [01:48<00:12, 16.85it/s]"
     ]
    },
    {
     "name": "stdout",
     "output_type": "stream",
     "text": [
      "saved\n",
      "loaded\n",
      "saved\n",
      "loaded\n",
      "saved\n",
      "loaded\n",
      "saved\n",
      "loaded\n"
     ]
    },
    {
     "name": "stderr",
     "output_type": "stream",
     "text": [
      " 90%|███████████████████████████████████████████████████████████████████████████████████████████▎         | 1933/2137 [01:49<00:11, 17.33it/s]"
     ]
    },
    {
     "name": "stdout",
     "output_type": "stream",
     "text": [
      "saved\n",
      "loaded\n",
      "saved\n",
      "loaded\n",
      "saved\n",
      "loaded\n",
      "saved\n",
      "loaded\n"
     ]
    },
    {
     "name": "stderr",
     "output_type": "stream",
     "text": [
      " 91%|███████████████████████████████████████████████████████████████████████████████████████████▌         | 1937/2137 [01:49<00:11, 17.31it/s]"
     ]
    },
    {
     "name": "stdout",
     "output_type": "stream",
     "text": [
      "saved\n",
      "loaded\n",
      "saved\n",
      "loaded\n",
      "saved\n",
      "loaded\n",
      "saved\n",
      "loaded\n"
     ]
    },
    {
     "name": "stderr",
     "output_type": "stream",
     "text": [
      " 91%|███████████████████████████████████████████████████████████████████████████████████████████▋         | 1941/2137 [01:49<00:11, 17.09it/s]"
     ]
    },
    {
     "name": "stdout",
     "output_type": "stream",
     "text": [
      "saved\n",
      "loaded\n",
      "saved\n",
      "loaded\n",
      "saved\n",
      "loaded\n",
      "saved\n",
      "loaded\n"
     ]
    },
    {
     "name": "stderr",
     "output_type": "stream",
     "text": [
      " 91%|███████████████████████████████████████████████████████████████████████████████████████████▉         | 1945/2137 [01:49<00:11, 17.22it/s]"
     ]
    },
    {
     "name": "stdout",
     "output_type": "stream",
     "text": [
      "saved\n",
      "loaded\n",
      "saved\n",
      "loaded\n",
      "saved\n",
      "loaded\n",
      "saved\n",
      "loaded\n"
     ]
    },
    {
     "name": "stderr",
     "output_type": "stream",
     "text": [
      " 91%|████████████████████████████████████████████████████████████████████████████████████████████         | 1949/2137 [01:50<00:10, 17.38it/s]"
     ]
    },
    {
     "name": "stdout",
     "output_type": "stream",
     "text": [
      "saved\n",
      "loaded\n",
      "saved\n",
      "loaded\n",
      "saved\n",
      "loaded\n",
      "saved\n",
      "loaded\n"
     ]
    },
    {
     "name": "stderr",
     "output_type": "stream",
     "text": [
      "\r",
      " 91%|████████████████████████████████████████████████████████████████████████████████████████████▏        | 1951/2137 [01:50<00:10, 17.17it/s]"
     ]
    },
    {
     "name": "stdout",
     "output_type": "stream",
     "text": [
      "saved\n",
      "loaded\n",
      "saved\n",
      "loaded\n",
      "saved\n",
      "loaded\n"
     ]
    },
    {
     "name": "stderr",
     "output_type": "stream",
     "text": [
      " 91%|████████████████████████████████████████████████████████████████████████████████████████████▍        | 1955/2137 [01:50<00:11, 16.05it/s]"
     ]
    },
    {
     "name": "stdout",
     "output_type": "stream",
     "text": [
      "saved\n",
      "loaded\n",
      "saved\n",
      "loaded\n",
      "saved\n",
      "loaded\n"
     ]
    },
    {
     "name": "stderr",
     "output_type": "stream",
     "text": [
      "\r",
      " 92%|████████████████████████████████████████████████████████████████████████████████████████████▍        | 1957/2137 [01:50<00:12, 14.29it/s]"
     ]
    },
    {
     "name": "stdout",
     "output_type": "stream",
     "text": [
      "saved\n",
      "loaded\n",
      "saved\n",
      "loaded\n",
      "saved\n",
      "loaded\n"
     ]
    },
    {
     "name": "stderr",
     "output_type": "stream",
     "text": [
      " 92%|████████████████████████████████████████████████████████████████████████████████████████████▋        | 1961/2137 [01:50<00:12, 13.84it/s]"
     ]
    },
    {
     "name": "stdout",
     "output_type": "stream",
     "text": [
      "saved\n",
      "loaded\n",
      "saved\n",
      "loaded\n",
      "saved\n",
      "loaded\n",
      "saved\n",
      "loaded\n"
     ]
    },
    {
     "name": "stderr",
     "output_type": "stream",
     "text": [
      " 92%|████████████████████████████████████████████████████████████████████████████████████████████▊        | 1965/2137 [01:51<00:13, 12.83it/s]"
     ]
    },
    {
     "name": "stdout",
     "output_type": "stream",
     "text": [
      "saved\n",
      "loaded\n",
      "saved\n",
      "loaded\n",
      "saved\n",
      "loaded\n"
     ]
    },
    {
     "name": "stderr",
     "output_type": "stream",
     "text": [
      "\r",
      " 92%|████████████████████████████████████████████████████████████████████████████████████████████▉        | 1967/2137 [01:51<00:12, 13.94it/s]"
     ]
    },
    {
     "name": "stdout",
     "output_type": "stream",
     "text": [
      "saved\n",
      "loaded\n",
      "saved\n",
      "loaded\n",
      "saved\n",
      "loaded\n"
     ]
    },
    {
     "name": "stderr",
     "output_type": "stream",
     "text": [
      " 92%|█████████████████████████████████████████████████████████████████████████████████████████████▏       | 1971/2137 [01:51<00:12, 13.10it/s]"
     ]
    },
    {
     "name": "stdout",
     "output_type": "stream",
     "text": [
      "saved\n",
      "loaded\n",
      "saved\n",
      "loaded\n",
      "saved\n",
      "loaded\n",
      "saved\n",
      "loaded\n"
     ]
    },
    {
     "name": "stderr",
     "output_type": "stream",
     "text": [
      " 92%|█████████████████████████████████████████████████████████████████████████████████████████████▎       | 1975/2137 [01:51<00:10, 15.15it/s]"
     ]
    },
    {
     "name": "stdout",
     "output_type": "stream",
     "text": [
      "saved\n",
      "loaded\n",
      "saved\n",
      "loaded\n",
      "saved\n",
      "loaded\n",
      "saved\n",
      "loaded\n"
     ]
    },
    {
     "name": "stderr",
     "output_type": "stream",
     "text": [
      " 93%|█████████████████████████████████████████████████████████████████████████████████████████████▌       | 1980/2137 [01:52<00:09, 17.26it/s]"
     ]
    },
    {
     "name": "stdout",
     "output_type": "stream",
     "text": [
      "saved\n",
      "loaded\n",
      "saved\n",
      "loaded\n",
      "saved\n",
      "loaded\n",
      "saved\n",
      "loaded\n"
     ]
    },
    {
     "name": "stderr",
     "output_type": "stream",
     "text": [
      " 93%|█████████████████████████████████████████████████████████████████████████████████████████████▊       | 1984/2137 [01:52<00:08, 17.54it/s]"
     ]
    },
    {
     "name": "stdout",
     "output_type": "stream",
     "text": [
      "saved\n",
      "loaded\n",
      "saved\n",
      "loaded\n",
      "saved\n",
      "loaded\n",
      "saved\n",
      "loaded\n"
     ]
    },
    {
     "name": "stderr",
     "output_type": "stream",
     "text": [
      " 93%|█████████████████████████████████████████████████████████████████████████████████████████████▉       | 1988/2137 [01:52<00:08, 18.12it/s]"
     ]
    },
    {
     "name": "stdout",
     "output_type": "stream",
     "text": [
      "saved\n",
      "loaded\n",
      "saved\n",
      "loaded\n",
      "saved\n",
      "loaded\n",
      "saved\n",
      "loaded\n"
     ]
    },
    {
     "name": "stderr",
     "output_type": "stream",
     "text": [
      " 93%|██████████████████████████████████████████████████████████████████████████████████████████████▏      | 1992/2137 [01:52<00:08, 17.78it/s]"
     ]
    },
    {
     "name": "stdout",
     "output_type": "stream",
     "text": [
      "saved\n",
      "loaded\n",
      "saved\n",
      "loaded\n",
      "saved\n",
      "loaded\n",
      "saved\n",
      "loaded\n"
     ]
    },
    {
     "name": "stderr",
     "output_type": "stream",
     "text": [
      " 93%|██████████████████████████████████████████████████████████████████████████████████████████████▎      | 1996/2137 [01:53<00:08, 16.90it/s]"
     ]
    },
    {
     "name": "stdout",
     "output_type": "stream",
     "text": [
      "saved\n",
      "loaded\n",
      "saved\n",
      "loaded\n",
      "saved\n",
      "loaded\n",
      "saved\n",
      "loaded\n"
     ]
    },
    {
     "name": "stderr",
     "output_type": "stream",
     "text": [
      " 94%|██████████████████████████████████████████████████████████████████████████████████████████████▌      | 2001/2137 [01:53<00:07, 18.64it/s]"
     ]
    },
    {
     "name": "stdout",
     "output_type": "stream",
     "text": [
      "saved\n",
      "loaded\n",
      "saved\n",
      "loaded\n",
      "saved\n",
      "loaded\n",
      "saved\n",
      "loaded\n",
      "saved\n",
      "loaded\n"
     ]
    },
    {
     "name": "stderr",
     "output_type": "stream",
     "text": [
      "\r",
      " 94%|██████████████████████████████████████████████████████████████████████████████████████████████▋      | 2004/2137 [01:53<00:06, 19.26it/s]"
     ]
    },
    {
     "name": "stdout",
     "output_type": "stream",
     "text": [
      "saved\n",
      "loaded\n",
      "saved\n",
      "loaded\n",
      "saved\n",
      "loaded\n",
      "saved\n",
      "loaded\n"
     ]
    },
    {
     "name": "stderr",
     "output_type": "stream",
     "text": [
      " 94%|██████████████████████████████████████████████████████████████████████████████████████████████▉      | 2008/2137 [01:53<00:06, 18.72it/s]"
     ]
    },
    {
     "name": "stdout",
     "output_type": "stream",
     "text": [
      "saved\n",
      "loaded\n",
      "saved\n",
      "loaded\n",
      "saved\n",
      "loaded\n",
      "saved\n",
      "loaded\n",
      "saved\n",
      "loaded\n"
     ]
    },
    {
     "name": "stderr",
     "output_type": "stream",
     "text": [
      " 94%|███████████████████████████████████████████████████████████████████████████████████████████████▏     | 2013/2137 [01:54<00:06, 18.79it/s]"
     ]
    },
    {
     "name": "stdout",
     "output_type": "stream",
     "text": [
      "saved\n",
      "loaded\n",
      "saved\n",
      "loaded\n",
      "saved\n",
      "loaded\n",
      "saved\n",
      "loaded\n"
     ]
    },
    {
     "name": "stderr",
     "output_type": "stream",
     "text": [
      " 94%|███████████████████████████████████████████████████████████████████████████████████████████████▎     | 2017/2137 [01:54<00:06, 18.71it/s]"
     ]
    },
    {
     "name": "stdout",
     "output_type": "stream",
     "text": [
      "saved\n",
      "loaded\n",
      "saved\n",
      "loaded\n",
      "saved\n",
      "loaded\n",
      "saved\n",
      "loaded\n"
     ]
    },
    {
     "name": "stderr",
     "output_type": "stream",
     "text": [
      " 95%|███████████████████████████████████████████████████████████████████████████████████████████████▌     | 2022/2137 [01:54<00:05, 19.33it/s]"
     ]
    },
    {
     "name": "stdout",
     "output_type": "stream",
     "text": [
      "saved\n",
      "loaded\n",
      "saved\n",
      "loaded\n",
      "saved\n",
      "loaded\n",
      "saved\n",
      "loaded\n"
     ]
    },
    {
     "name": "stderr",
     "output_type": "stream",
     "text": [
      " 95%|███████████████████████████████████████████████████████████████████████████████████████████████▊     | 2026/2137 [01:54<00:06, 17.85it/s]"
     ]
    },
    {
     "name": "stdout",
     "output_type": "stream",
     "text": [
      "saved\n",
      "loaded\n",
      "saved\n",
      "loaded\n",
      "saved\n",
      "loaded\n",
      "saved\n",
      "loaded\n"
     ]
    },
    {
     "name": "stderr",
     "output_type": "stream",
     "text": [
      " 95%|███████████████████████████████████████████████████████████████████████████████████████████████▉     | 2030/2137 [01:54<00:06, 16.40it/s]"
     ]
    },
    {
     "name": "stdout",
     "output_type": "stream",
     "text": [
      "saved\n",
      "loaded\n",
      "saved\n",
      "loaded\n",
      "saved\n",
      "loaded\n",
      "saved\n",
      "loaded\n"
     ]
    },
    {
     "name": "stderr",
     "output_type": "stream",
     "text": [
      "\r",
      " 95%|████████████████████████████████████████████████████████████████████████████████████████████████     | 2032/2137 [01:55<00:07, 14.01it/s]"
     ]
    },
    {
     "name": "stdout",
     "output_type": "stream",
     "text": [
      "saved\n",
      "loaded\n",
      "saved\n",
      "loaded\n",
      "saved\n",
      "loaded\n"
     ]
    },
    {
     "name": "stderr",
     "output_type": "stream",
     "text": [
      " 95%|████████████████████████████████████████████████████████████████████████████████████████████████▏    | 2036/2137 [01:55<00:07, 13.90it/s]"
     ]
    },
    {
     "name": "stdout",
     "output_type": "stream",
     "text": [
      "saved\n",
      "loaded\n",
      "saved\n",
      "loaded\n",
      "saved\n",
      "loaded\n"
     ]
    },
    {
     "name": "stderr",
     "output_type": "stream",
     "text": [
      " 95%|████████████████████████████████████████████████████████████████████████████████████████████████▍    | 2040/2137 [01:55<00:06, 14.76it/s]"
     ]
    },
    {
     "name": "stdout",
     "output_type": "stream",
     "text": [
      "saved\n",
      "loaded\n",
      "saved\n",
      "loaded\n",
      "saved\n",
      "loaded\n",
      "saved\n",
      "loaded\n"
     ]
    },
    {
     "name": "stderr",
     "output_type": "stream",
     "text": [
      "\r",
      " 96%|████████████████████████████████████████████████████████████████████████████████████████████████▌    | 2043/2137 [01:55<00:05, 16.35it/s]"
     ]
    },
    {
     "name": "stdout",
     "output_type": "stream",
     "text": [
      "saved\n",
      "loaded\n",
      "saved\n",
      "loaded\n",
      "saved\n",
      "loaded\n",
      "saved\n",
      "loaded\n"
     ]
    },
    {
     "name": "stderr",
     "output_type": "stream",
     "text": [
      " 96%|████████████████████████████████████████████████████████████████████████████████████████████████▋    | 2047/2137 [01:56<00:05, 17.66it/s]"
     ]
    },
    {
     "name": "stdout",
     "output_type": "stream",
     "text": [
      "saved\n",
      "loaded\n",
      "saved\n",
      "loaded\n",
      "saved\n",
      "loaded\n",
      "saved\n",
      "loaded\n"
     ]
    },
    {
     "name": "stderr",
     "output_type": "stream",
     "text": [
      " 96%|████████████████████████████████████████████████████████████████████████████████████████████████▉    | 2051/2137 [01:56<00:04, 17.71it/s]"
     ]
    },
    {
     "name": "stdout",
     "output_type": "stream",
     "text": [
      "saved\n",
      "loaded\n",
      "saved\n",
      "loaded\n",
      "saved\n",
      "loaded\n",
      "saved\n",
      "loaded\n"
     ]
    },
    {
     "name": "stderr",
     "output_type": "stream",
     "text": [
      " 96%|█████████████████████████████████████████████████████████████████████████████████████████████████▏   | 2056/2137 [01:56<00:04, 18.59it/s]"
     ]
    },
    {
     "name": "stdout",
     "output_type": "stream",
     "text": [
      "saved\n",
      "loaded\n",
      "saved\n",
      "loaded\n",
      "saved\n",
      "loaded\n",
      "saved\n",
      "loaded\n",
      "saved\n",
      "loaded\n"
     ]
    },
    {
     "name": "stderr",
     "output_type": "stream",
     "text": [
      " 96%|█████████████████████████████████████████████████████████████████████████████████████████████████▍   | 2061/2137 [01:56<00:03, 19.77it/s]"
     ]
    },
    {
     "name": "stdout",
     "output_type": "stream",
     "text": [
      "saved\n",
      "loaded\n",
      "saved\n",
      "loaded\n",
      "saved\n",
      "loaded\n",
      "saved\n",
      "loaded\n"
     ]
    },
    {
     "name": "stderr",
     "output_type": "stream",
     "text": [
      " 97%|█████████████████████████████████████████████████████████████████████████████████████████████████▌   | 2065/2137 [01:57<00:03, 19.09it/s]"
     ]
    },
    {
     "name": "stdout",
     "output_type": "stream",
     "text": [
      "saved\n",
      "loaded\n",
      "saved\n",
      "loaded\n",
      "saved\n",
      "loaded\n",
      "saved\n",
      "loaded\n"
     ]
    },
    {
     "name": "stderr",
     "output_type": "stream",
     "text": [
      "\r",
      " 97%|█████████████████████████████████████████████████████████████████████████████████████████████████▋   | 2067/2137 [01:57<00:03, 19.26it/s]"
     ]
    },
    {
     "name": "stdout",
     "output_type": "stream",
     "text": [
      "saved\n",
      "loaded\n",
      "saved\n",
      "loaded\n",
      "saved\n",
      "loaded\n",
      "saved\n",
      "loaded\n"
     ]
    },
    {
     "name": "stderr",
     "output_type": "stream",
     "text": [
      " 97%|█████████████████████████████████████████████████████████████████████████████████████████████████▉   | 2072/2137 [01:57<00:03, 18.25it/s]"
     ]
    },
    {
     "name": "stdout",
     "output_type": "stream",
     "text": [
      "saved\n",
      "loaded\n",
      "saved\n",
      "loaded\n",
      "saved\n",
      "loaded\n",
      "saved\n",
      "loaded\n"
     ]
    },
    {
     "name": "stderr",
     "output_type": "stream",
     "text": [
      " 97%|██████████████████████████████████████████████████████████████████████████████████████████████████▏  | 2077/2137 [01:57<00:03, 19.13it/s]"
     ]
    },
    {
     "name": "stdout",
     "output_type": "stream",
     "text": [
      "saved\n",
      "loaded\n",
      "saved\n",
      "loaded\n",
      "saved\n",
      "loaded\n",
      "saved\n",
      "loaded\n"
     ]
    },
    {
     "name": "stderr",
     "output_type": "stream",
     "text": [
      " 97%|██████████████████████████████████████████████████████████████████████████████████████████████████▎  | 2081/2137 [01:57<00:02, 19.14it/s]"
     ]
    },
    {
     "name": "stdout",
     "output_type": "stream",
     "text": [
      "saved\n",
      "loaded\n",
      "saved\n",
      "loaded\n",
      "saved\n",
      "loaded\n",
      "saved\n",
      "loaded\n"
     ]
    },
    {
     "name": "stderr",
     "output_type": "stream",
     "text": [
      "\r",
      " 98%|██████████████████████████████████████████████████████████████████████████████████████████████████▍  | 2084/2137 [01:58<00:02, 19.72it/s]"
     ]
    },
    {
     "name": "stdout",
     "output_type": "stream",
     "text": [
      "saved\n",
      "loaded\n",
      "saved\n",
      "loaded\n",
      "saved\n",
      "loaded\n",
      "saved\n",
      "loaded\n"
     ]
    },
    {
     "name": "stderr",
     "output_type": "stream",
     "text": [
      " 98%|██████████████████████████████████████████████████████████████████████████████████████████████████▋  | 2088/2137 [01:58<00:02, 16.68it/s]"
     ]
    },
    {
     "name": "stdout",
     "output_type": "stream",
     "text": [
      "saved\n",
      "loaded\n",
      "saved\n",
      "loaded\n",
      "saved\n",
      "loaded\n",
      "saved\n",
      "loaded\n"
     ]
    },
    {
     "name": "stderr",
     "output_type": "stream",
     "text": [
      " 98%|██████████████████████████████████████████████████████████████████████████████████████████████████▉  | 2093/2137 [01:58<00:02, 18.27it/s]"
     ]
    },
    {
     "name": "stdout",
     "output_type": "stream",
     "text": [
      "saved\n",
      "loaded\n",
      "saved\n",
      "loaded\n",
      "saved\n",
      "loaded\n",
      "saved\n",
      "loaded\n",
      "saved\n",
      "loaded\n"
     ]
    },
    {
     "name": "stderr",
     "output_type": "stream",
     "text": [
      " 98%|███████████████████████████████████████████████████████████████████████████████████████████████████▏ | 2098/2137 [01:58<00:02, 18.37it/s]"
     ]
    },
    {
     "name": "stdout",
     "output_type": "stream",
     "text": [
      "saved\n",
      "loaded\n",
      "saved\n",
      "loaded\n",
      "saved\n",
      "loaded\n",
      "saved\n",
      "loaded\n"
     ]
    },
    {
     "name": "stderr",
     "output_type": "stream",
     "text": [
      " 98%|███████████████████████████████████████████████████████████████████████████████████████████████████▎ | 2102/2137 [01:59<00:02, 17.19it/s]"
     ]
    },
    {
     "name": "stdout",
     "output_type": "stream",
     "text": [
      "saved\n",
      "loaded\n",
      "saved\n",
      "loaded\n",
      "saved\n",
      "loaded\n",
      "saved\n",
      "loaded\n"
     ]
    },
    {
     "name": "stderr",
     "output_type": "stream",
     "text": [
      "\r",
      " 99%|███████████████████████████████████████████████████████████████████████████████████████████████████▍ | 2105/2137 [01:59<00:01, 17.65it/s]"
     ]
    },
    {
     "name": "stdout",
     "output_type": "stream",
     "text": [
      "saved\n",
      "loaded\n",
      "saved\n",
      "loaded\n",
      "saved\n",
      "loaded\n",
      "saved\n",
      "loaded\n"
     ]
    },
    {
     "name": "stderr",
     "output_type": "stream",
     "text": [
      " 99%|███████████████████████████████████████████████████████████████████████████████████████████████████▋ | 2109/2137 [01:59<00:01, 17.14it/s]"
     ]
    },
    {
     "name": "stdout",
     "output_type": "stream",
     "text": [
      "saved\n",
      "loaded\n",
      "saved\n",
      "loaded\n",
      "saved\n",
      "loaded\n"
     ]
    },
    {
     "name": "stderr",
     "output_type": "stream",
     "text": [
      " 99%|███████████████████████████████████████████████████████████████████████████████████████████████████▊ | 2113/2137 [01:59<00:01, 16.36it/s]"
     ]
    },
    {
     "name": "stdout",
     "output_type": "stream",
     "text": [
      "saved\n",
      "loaded\n",
      "saved\n",
      "loaded\n",
      "saved\n",
      "loaded\n",
      "saved\n",
      "loaded\n"
     ]
    },
    {
     "name": "stderr",
     "output_type": "stream",
     "text": [
      "\r",
      " 99%|████████████████████████████████████████████████████████████████████████████████████████████████████ | 2116/2137 [01:59<00:01, 18.22it/s]"
     ]
    },
    {
     "name": "stdout",
     "output_type": "stream",
     "text": [
      "saved\n",
      "loaded\n",
      "saved\n",
      "loaded\n",
      "saved\n",
      "loaded\n",
      "saved\n",
      "loaded\n"
     ]
    },
    {
     "name": "stderr",
     "output_type": "stream",
     "text": [
      " 99%|████████████████████████████████████████████████████████████████████████████████████████████████████▏| 2121/2137 [02:00<00:00, 18.87it/s]"
     ]
    },
    {
     "name": "stdout",
     "output_type": "stream",
     "text": [
      "saved\n",
      "loaded\n",
      "saved\n",
      "loaded\n",
      "saved\n",
      "loaded\n",
      "saved\n",
      "loaded\n",
      "saved\n",
      "loaded\n"
     ]
    },
    {
     "name": "stderr",
     "output_type": "stream",
     "text": [
      " 99%|████████████████████████████████████████████████████████████████████████████████████████████████████▍| 2125/2137 [02:00<00:00, 18.98it/s]"
     ]
    },
    {
     "name": "stdout",
     "output_type": "stream",
     "text": [
      "saved\n",
      "loaded\n",
      "saved\n",
      "loaded\n",
      "saved\n",
      "loaded\n",
      "saved\n",
      "loaded\n"
     ]
    },
    {
     "name": "stderr",
     "output_type": "stream",
     "text": [
      "100%|████████████████████████████████████████████████████████████████████████████████████████████████████▌| 2129/2137 [02:00<00:00, 18.73it/s]"
     ]
    },
    {
     "name": "stdout",
     "output_type": "stream",
     "text": [
      "saved\n",
      "loaded\n",
      "saved\n",
      "loaded\n",
      "saved\n",
      "loaded\n",
      "saved\n",
      "loaded\n"
     ]
    },
    {
     "name": "stderr",
     "output_type": "stream",
     "text": [
      "100%|████████████████████████████████████████████████████████████████████████████████████████████████████▉| 2135/2137 [02:00<00:00, 20.06it/s]"
     ]
    },
    {
     "name": "stdout",
     "output_type": "stream",
     "text": [
      "saved\n",
      "loaded\n",
      "saved\n",
      "loaded\n",
      "saved\n",
      "loaded\n",
      "saved\n",
      "loaded\n",
      "saved\n",
      "loaded\n"
     ]
    },
    {
     "name": "stderr",
     "output_type": "stream",
     "text": [
      "100%|█████████████████████████████████████████████████████████████████████████████████████████████████████| 2137/2137 [02:00<00:00, 17.66it/s]"
     ]
    },
    {
     "name": "stdout",
     "output_type": "stream",
     "text": [
      "saved\n",
      "loaded\n",
      "saved\n"
     ]
    },
    {
     "name": "stderr",
     "output_type": "stream",
     "text": [
      "\n"
     ]
    }
   ],
   "source": [
    "for mel_file, embed_file in tqdm(pairs):\n",
    "    try:\n",
    "        mels = np.load( str(mel_file) )\n",
    "        print('loaded')\n",
    "    except:\n",
    "        continue;\n",
    "    embedding = sess.run(resnet.gv, feed_dict={fbanks: np.expand_dims(mels, axis=0)})\n",
    "    embedding = embedding.squeeze()\n",
    "    np.save(embed_file, embedding)\n",
    "    print('saved')"
   ]
  },
  {
   "cell_type": "code",
   "execution_count": 16,
   "metadata": {
    "collapsed": true
   },
   "outputs": [
    {
     "data": {
      "text/plain": [
       "array([[-2.59499  , -3.0558915, -3.451487 , ..., -3.791201 , -3.8498108,\n",
       "        -4.       ],\n",
       "       [-2.905467 , -3.3732247, -3.7478497, ..., -4.       , -4.       ,\n",
       "        -4.       ],\n",
       "       [-3.1103776, -3.363897 , -3.7261877, ..., -4.       , -4.       ,\n",
       "        -4.       ],\n",
       "       ...,\n",
       "       [-3.1005533, -3.4526477, -3.7083604, ..., -4.       , -4.       ,\n",
       "        -4.       ],\n",
       "       [-2.7767198, -3.537266 , -3.4125817, ..., -4.       , -4.       ,\n",
       "        -4.       ],\n",
       "       [-2.7635858, -3.1976743, -3.144128 , ..., -4.       , -4.       ,\n",
       "        -4.       ]], dtype=float32)"
      ]
     },
     "execution_count": 16,
     "metadata": {},
     "output_type": "execute_result"
    }
   ],
   "source": [
    "np.load('/home/marinjezidzic/Downloads/tf_multispeakerTTS_fc/datasets/vctk/synthesizer/mels/mel-p227_154.npy')"
   ]
  },
  {
   "cell_type": "code",
   "execution_count": null,
   "metadata": {},
   "outputs": [],
   "source": []
  }
 ],
 "metadata": {
  "kernelspec": {
   "display_name": "Python 3 (ipykernel)",
   "language": "python",
   "name": "python3"
  },
  "language_info": {
   "codemirror_mode": {
    "name": "ipython",
    "version": 3
   },
   "file_extension": ".py",
   "mimetype": "text/x-python",
   "name": "python",
   "nbconvert_exporter": "python",
   "pygments_lexer": "ipython3",
   "version": "3.7.16"
  }
 },
 "nbformat": 4,
 "nbformat_minor": 2
}
