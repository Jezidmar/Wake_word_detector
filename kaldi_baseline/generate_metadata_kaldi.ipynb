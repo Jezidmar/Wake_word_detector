{
 "cells": [
  {
   "cell_type": "code",
   "execution_count": 3,
   "id": "9f954fd4-7a2f-4445-9d54-be13db37346d",
   "metadata": {},
   "outputs": [
    {
     "name": "stderr",
     "output_type": "stream",
     "text": [
      "0it [00:00, ?it/s]\n",
      "100%|████████████████████████████████████████████████████████████████████████████████████████| 59930/59930 [00:32<00:00, 1855.76it/s]\n",
      " 14%|████████████▌                                                                          | 40077/277451 [00:04<00:27, 8630.59it/s]"
     ]
    },
    {
     "name": "stdout",
     "output_type": "stream",
     "text": [
      "WRONG FILE: /home/ai01/Desktop/marin_work_folder/WWD_v2_non_chunked/negative_samples/m2915_0_sniff.wav\n"
     ]
    },
    {
     "name": "stderr",
     "output_type": "stream",
     "text": [
      " 20%|█████████████████▊                                                                     | 56662/277451 [00:06<00:25, 8718.91it/s]"
     ]
    },
    {
     "name": "stdout",
     "output_type": "stream",
     "text": [
      "WRONG FILE: /home/ai01/Desktop/marin_work_folder/WWD_v2_non_chunked/negative_samples/f2298_0_cough.wav\n"
     ]
    },
    {
     "name": "stderr",
     "output_type": "stream",
     "text": [
      " 24%|████████████████████▌                                                                  | 65424/277451 [00:07<00:25, 8355.91it/s]"
     ]
    },
    {
     "name": "stdout",
     "output_type": "stream",
     "text": [
      "WRONG FILE: /home/ai01/Desktop/marin_work_folder/WWD_v2_non_chunked/negative_samples/f0088_0_sniff.wav\n"
     ]
    },
    {
     "name": "stderr",
     "output_type": "stream",
     "text": [
      " 32%|███████████████████████████▊                                                           | 88852/277451 [00:10<00:21, 8653.47it/s]"
     ]
    },
    {
     "name": "stdout",
     "output_type": "stream",
     "text": [
      "WRONG FILE: /home/ai01/Desktop/marin_work_folder/WWD_v2_non_chunked/negative_samples/m2499_0_cough.wav\n"
     ]
    },
    {
     "name": "stderr",
     "output_type": "stream",
     "text": [
      " 43%|████████████████████████████████████▋                                                 | 118543/277451 [00:13<00:18, 8771.71it/s]"
     ]
    },
    {
     "name": "stdout",
     "output_type": "stream",
     "text": [
      "WRONG FILE: /home/ai01/Desktop/marin_work_folder/WWD_v2_non_chunked/negative_samples/f0581_3_sniff.wav\n"
     ]
    },
    {
     "name": "stderr",
     "output_type": "stream",
     "text": [
      " 95%|█████████████████████████████████████████████████████████████████████████████████▍    | 262796/277451 [00:35<00:05, 2500.07it/s]"
     ]
    },
    {
     "name": "stdout",
     "output_type": "stream",
     "text": [
      "WRONG FILE: /home/ai01/Desktop/marin_work_folder/WWD_v2_non_chunked/negative_samples/f2742_0_sigh.wav\n"
     ]
    },
    {
     "name": "stderr",
     "output_type": "stream",
     "text": [
      "100%|██████████████████████████████████████████████████████████████████████████████████████| 277451/277451 [00:41<00:00, 6649.28it/s]"
     ]
    },
    {
     "name": "stdout",
     "output_type": "stream",
     "text": [
      "Metadata file generated successfully.\n"
     ]
    },
    {
     "name": "stderr",
     "output_type": "stream",
     "text": [
      "\n"
     ]
    }
   ],
   "source": [
    "#Metadata for Kaldi approach\n",
    "\n",
    "import os\n",
    "import json\n",
    "import random\n",
    "import librosa\n",
    "import tqdm\n",
    "def calculate_duration(audio_file_path):\n",
    "    # Load the audio file\n",
    "    y, sr = librosa.load(audio_file_path, sr=None)\n",
    "    # Calculate duration in seconds\n",
    "    duration = librosa.get_duration(y=y, sr=sr)\n",
    "    return duration\n",
    "\n",
    "def generate_metadata_json(folder, sampling_rate):\n",
    "    metadata_train = []\n",
    "    metadata_dev = []\n",
    "    metadata_test = []\n",
    "    for root, dirs, files in os.walk(folder):\n",
    "        for file in tqdm.tqdm(files):\n",
    "            if file.endswith('.wav') or file.endswith('.flac'):  # Adjust file extension as needed\n",
    "                filename = os.path.join(root, file)\n",
    "                # Extract the unique ID (e.g., 40084ea8-c576-4dba-a20b-fbda61f1de7d) from the filename\n",
    "                unique_id = os.path.splitext(file)[0]\n",
    "                # Calculate duration of audio file\n",
    "                duration = calculate_duration(filename)\n",
    "                if duration<0.3:\n",
    "                    print(f'WRONG FILE: {filename}')\n",
    "                # Determine if the audio file is from positive_samples or negative_samples directory\n",
    "                is_hotword = 1 if 'positive_samples' in root else 0\n",
    "                is_test=1 if 'test' in root else 0 \n",
    "                # Generate random worker ID between 1 and 12\n",
    "                worker_id = random.randint(1, 12)\n",
    "                split = random.randint(1,10)\n",
    "                if split>1 and is_test==0:\n",
    "                    metadata_train.append({\n",
    "                        \"id\": unique_id,\n",
    "                        \"is_hotword\": is_hotword,\n",
    "                        \"worker_id\": worker_id,\n",
    "                        \"duration\": duration,\n",
    "                        \"audio_file_path\": os.path.relpath(filename, folder)  # Relative path to the audio file\n",
    "                    })\n",
    "                elif is_test==0 and split==1:\n",
    "                    metadata_dev.append({\n",
    "                        \"id\": unique_id,\n",
    "                        \"is_hotword\": is_hotword,\n",
    "                        \"worker_id\": worker_id,\n",
    "                        \"duration\": duration,\n",
    "                        \"audio_file_path\": os.path.relpath(filename, folder)  # Relative path to the audio file\n",
    "                    })\n",
    "                else:\n",
    "                     metadata_test.append({\n",
    "                        \"id\": unique_id,\n",
    "                        \"is_hotword\": is_hotword,\n",
    "                        \"worker_id\": worker_id,\n",
    "                        \"duration\": duration,\n",
    "                        \"audio_file_path\": os.path.relpath(filename, folder)  # Relative path to the audio file\n",
    "                    })\n",
    "    return metadata_train,metadata_dev,metadata_test\n",
    "\n",
    "# Path to your data folder containing audio files\n",
    "data_folder = '/home/ai01/Desktop/marin_work_folder/WWD_v2_non_chunked/'\n",
    "\n",
    "# Output path for metadata JSON file\n",
    "metadata_t = 'train.json'\n",
    "metadata_d = 'dev.json'\n",
    "metadata_te = 'test.json'\n",
    "# Sampling rate of audio files (in Hz)\n",
    "sampling_rate = 16000\n",
    "\n",
    "# Generate metadata JSON for all audio files\n",
    "metadata_train,metadata_dev,metadata_test = generate_metadata_json(data_folder, sampling_rate)\n",
    "\n",
    "# Write metadata to JSON file\n",
    "# with open(metadata_t, 'w') as f:\n",
    "#     json.dump(metadata_train, f, indent=4)\n",
    "\n",
    "# with open(metadata_d, 'w') as f:\n",
    "#     json.dump(metadata_dev, f, indent=4)\n",
    "\n",
    "# with open(metadata_te, 'w') as f:\n",
    "#     json.dump(metadata_test, f, indent=4)\n",
    "print(\"Metadata file generated successfully.\")"
   ]
  },
  {
   "cell_type": "code",
   "execution_count": null,
   "id": "3b80105f-ecb7-4741-9444-e750a1ff295a",
   "metadata": {},
   "outputs": [],
   "source": [
    "#Now for test_clean subset\n",
    "#/home/ai01/Desktop/marin_work_folder/test_clean_for_kaldi/test_clean\n",
    "\n",
    "def calculate_duration(audio_file_path):\n",
    "    # Load the audio file\n",
    "    y, sr = librosa.load(audio_file_path, sr=None)\n",
    "    # Calculate duration in seconds\n",
    "    duration = librosa.get_duration(y=y, sr=sr)\n",
    "    return duration\n",
    "\n",
    "def generate_metadata_json(folder, sampling_rate):\n",
    "    metadata_train = []\n",
    "    metadata_dev = []\n",
    "    for root, dirs, files in os.walk(folder):\n",
    "        for file in tqdm.tqdm(files):\n",
    "            if file.endswith('.wav') or file.endswith('.flac'):  # Adjust file extension as needed\n",
    "                filename = os.path.join(root, file)\n",
    "                # Extract the unique ID (e.g., 40084ea8-c576-4dba-a20b-fbda61f1de7d) from the filename\n",
    "                unique_id = os.path.splitext(file)[0]\n",
    "                # Calculate duration of audio file\n",
    "                duration = calculate_duration(filename)\n",
    "                # Determine if the audio file is from positive_samples or negative_samples directory\n",
    "                is_hotword = 1 if 'positive_samples' in root else 0\n",
    "                is_test=1 if 'test' in root else 0 \n",
    "                # Generate random worker ID between 1 and 12\n",
    "                worker_id = random.randint(1, 12)\n",
    "                split = random.randint(1,10)\n",
    "                if split>1 and is_test==0:\n",
    "                    metadata_train.append({\n",
    "                        \"id\": unique_id,\n",
    "                        \"is_hotword\": is_hotword,\n",
    "                        \"worker_id\": worker_id,\n",
    "                        \"duration\": duration,\n",
    "                        \"audio_file_path\": os.path.relpath(filename, folder)  # Relative path to the audio file\n",
    "                    })\n",
    "                elif is_test==0 and split==1:\n",
    "                    metadata_dev.append({\n",
    "                        \"id\": unique_id,\n",
    "                        \"is_hotword\": is_hotword,\n",
    "                        \"worker_id\": worker_id,\n",
    "                        \"duration\": duration,\n",
    "                        \"audio_file_path\": os.path.relpath(filename, folder)  # Relative path to the audio file\n",
    "                    })\n",
    "                else:\n",
    "                     metadata_test.append({\n",
    "                        \"id\": unique_id,\n",
    "                        \"is_hotword\": is_hotword,\n",
    "                        \"worker_id\": worker_id,\n",
    "                        \"duration\": duration,\n",
    "                        \"audio_file_path\": os.path.relpath(filename, folder)  # Relative path to the audio file\n",
    "                    })\n",
    "\n",
    "    return metadata_train,metadata_dev\n",
    "\n",
    "# Path to your data folder containing audio files\n",
    "data_folder = '/home/ai01/Desktop/marin_work_folder/WWD_v2_non_chunked_for_kaldi/'\n",
    "\n",
    "# Output path for metadata JSON file\n",
    "metadata_t = 'test.json'\n",
    "# Sampling rate of audio files (in Hz)\n",
    "sampling_rate = 16000\n",
    "\n",
    "# Generate metadata JSON for all audio files\n",
    "metadata_test = generate_metadata_json(data_folder, sampling_rate)\n",
    "\n",
    "# Write metadata to JSON file\n",
    "with open(metadata_t, 'w') as f:\n",
    "    json.dump(metadata_test, f, indent=4)\n",
    "\n",
    "print(\"Metadata file generated successfully.\")"
   ]
  }
 ],
 "metadata": {
  "kernelspec": {
   "display_name": "Python 3 (ipykernel)",
   "language": "python",
   "name": "python3"
  },
  "language_info": {
   "codemirror_mode": {
    "name": "ipython",
    "version": 3
   },
   "file_extension": ".py",
   "mimetype": "text/x-python",
   "name": "python",
   "nbconvert_exporter": "python",
   "pygments_lexer": "ipython3",
   "version": "3.9.19"
  }
 },
 "nbformat": 4,
 "nbformat_minor": 5
}
