{
 "cells": [
  {
   "cell_type": "code",
   "execution_count": null,
   "id": "8f3963db-a31a-4268-8525-eb59a5b1cc81",
   "metadata": {},
   "outputs": [],
   "source": [
    "import torch\n",
    "import torchaudio\n",
    "import torch.nn as nn\n",
    "import torch.nn.functional as F\n",
    "import os\n",
    "import IPython\n",
    "import tqdm\n",
    "import random\n",
    "from tortoise.api import TextToSpeech\n",
    "from tortoise.utils.audio import load_audio, load_voice, load_voices\n",
    "\n"
   ]
  },
  {
   "cell_type": "code",
   "execution_count": null,
   "id": "764ba8a9",
   "metadata": {},
   "outputs": [],
   "source": [
    "# This will download all the models used by Tortoise from the HuggingFace hub. Model must be manually set to wanted CUDA device.\n",
    "with torch.cuda.device(1):\n",
    "    tts = TextToSpeech()"
   ]
  },
  {
   "cell_type": "code",
   "execution_count": null,
   "id": "8787bbf0-5479-4288-a494-0e67a3b9b7c1",
   "metadata": {},
   "outputs": [],
   "source": [
    "# Example with prompt\n",
    "\n",
    "text = \"[The kid is shouting]Hey Joules\" # \n",
    "\n",
    "# Name of the voice\n",
    "CUSTOM_VOICE_NAME = \"deniro\"\n",
    "\n",
    "# preset is the speed of the clone voice\n",
    "preset = \"fast\""
   ]
  },
  {
   "cell_type": "markdown",
   "id": "37413918",
   "metadata": {},
   "source": [
    "Define desired confusion phrases"
   ]
  },
  {
   "cell_type": "code",
   "execution_count": null,
   "id": "4109328e-5c81-4c2b-a3c0-f96464762e07",
   "metadata": {},
   "outputs": [],
   "source": [
    "negative_samples = [\n",
    "    \"Hey jewels\",\n",
    "    \"Hey, Julius\",\n",
    "    \"A juice\",\n",
    "    \"Hey, cool\",\n",
    "    \"Say tools\",\n",
    "    \"Hey, choose\",\n",
    "    \"Hey, drools\",\n",
    "    \"Pay mules\",\n",
    "    \"They rule\",\n",
    "    \"Hey, pools\",\n",
    "    \"Hey, rules\",\n",
    "    \"Lay tools\",\n",
    "    \"Hey, schools\",\n",
    "    \"Fey jewels\",\n",
    "    \"Hey, fools\",\n",
    "    \"Day fuels\",\n",
    "    \"Hey, duels\",\n",
    "    \"Hey, ghouls\",\n",
    "    \"Sleigh pulls\",\n",
    "    \"Grey stools\",\n",
    "    \"Hey, flukes\",\n",
    "    \"Play jewels\",\n",
    "    \"They're jewels\",\n",
    "    \"Hey, Toulouse\",\n",
    "    \"Hey, Jools\",\n",
    "    \"Hey, moose\",\n",
    "    \"Hey, dulse\",\n",
    "    \"Hey, Joule\",\n",
    "    \"Hey, mules\",\n",
    "    \"May joules\"\n",
    "]\n",
    "additional_negative_samples = [\n",
    "    \"Hey, wolves\",\n",
    "    \"Play schools\",\n",
    "    \"Hey, moves\",\n",
    "    \"Slay jewels\",\n",
    "    \"Hey, you lose\",\n",
    "    \"Make juice\",\n",
    "    \"Hey, blooms\",\n",
    "    \"Gray mules\",\n",
    "    \"Say pools\",\n",
    "    \"Hey, rooms\",\n",
    "    \"Bay dues\",\n",
    "    \"They use\",\n",
    "    \"Hey, zooms\",\n",
    "    \"Clay tools\",\n",
    "    \"Hey, fuse\",\n",
    "    \"Hey, news\",\n",
    "    \"Stay ghouls\",\n",
    "    \"They cruise\",\n",
    "    \"Hey, lose\",\n",
    "    \"Hay bales\",\n",
    "    \"Grey hues\",\n",
    "    \"Say dues\",\n",
    "    \"Hey, views\",\n",
    "    \"Lay clues\",\n",
    "    \"Pay dues\",\n",
    "    \"Hey, clues\",\n",
    "    \"Hey, stews\",\n",
    "    \"Pray, use\",\n",
    "    \"Hey, roos\",\n",
    "    \"Hey, shoes\"\n",
    "]\n",
    "combined=negative_samples+additional_negative_samples"
   ]
  },
  {
   "cell_type": "markdown",
   "id": "83eee585",
   "metadata": {},
   "source": [
    "Set directory containing voices"
   ]
  },
  {
   "cell_type": "code",
   "execution_count": null,
   "id": "98323843",
   "metadata": {},
   "outputs": [],
   "source": [
    "\n",
    "# Define the directory path\n",
    "directory_path = \"/home/ai01/miniconda3/envs/voice_clone/lib/python3.9/site-packages/tortoise/voices\"\n",
    "\n",
    "# List all folders in the specified directory\n",
    "folders = [name for name in os.listdir(directory_path) if os.path.isdir(os.path.join(directory_path, name))]\n",
    "\n",
    "print(folders)"
   ]
  },
  {
   "cell_type": "markdown",
   "id": "a75eae1e",
   "metadata": {},
   "source": [
    "### Generate confusion samples for the voices present at conda env folder \n",
    "\"/home/ai01/miniconda3/envs/{env_name}/libs/python3.9/site-packages/tortoise/voices/\""
   ]
  },
  {
   "cell_type": "code",
   "execution_count": null,
   "id": "55c120ee-a6a1-40f8-ab4b-75ab4ac93f2c",
   "metadata": {},
   "outputs": [],
   "source": [
    "\n",
    "for name in tqdm.tqdm(folders):\n",
    "    with torch.cuda.device(1):\n",
    "        CUSTOM_VOICE_NAME = name\n",
    "        file_path= f'/home/ai01/Desktop/marin_work_folder/confusion_samples/{CUSTOM_VOICE_NAME}_gen6.wav'\n",
    "        if os.path.exists(file_path): # This is temporary solution when using multiple scripts so they don't generate same files.\n",
    "            continue\n",
    "        else:\n",
    "            text=random.choice(combined)\n",
    "            voice_samples, conditioning_latents = load_voice(CUSTOM_VOICE_NAME)\n",
    "            gen = tts.tts_with_preset(text, voice_samples=voice_samples, conditioning_latents=conditioning_latents,\n",
    "                                      preset=preset)\n",
    "            torchaudio.save(file_path, gen.squeeze(0).cpu(), 24000) # Use 24000 sampling rate, later you can change to 16k by using sox\n",
    "            "
   ]
  },
  {
   "cell_type": "code",
   "execution_count": 2,
   "id": "6b2716b9-eea9-4855-8161-87e849c36691",
   "metadata": {},
   "outputs": [
    {
     "name": "stdout",
     "output_type": "stream",
     "text": [
      "There are 2128 files in the directory.\n"
     ]
    }
   ],
   "source": [
    "\n",
    "def count_files(directory):\n",
    "    \"\"\"Count the number of files in a directory.\"\"\"\n",
    "    return len([name for name in os.listdir(directory) if os.path.isfile(os.path.join(directory, name))])\n",
    "\n",
    "directory_path = '/home/ai01/Desktop/marin_work_folder/negative_samples'\n",
    "file_count = count_files(directory_path)\n",
    "print(f\"There are {file_count} files in the directory.\")\n"
   ]
  }
 ],
 "metadata": {
  "kernelspec": {
   "display_name": "Python 3 (ipykernel)",
   "language": "python",
   "name": "python3"
  },
  "language_info": {
   "codemirror_mode": {
    "name": "ipython",
    "version": 3
   },
   "file_extension": ".py",
   "mimetype": "text/x-python",
   "name": "python",
   "nbconvert_exporter": "python",
   "pygments_lexer": "ipython3",
   "version": "3.9.19"
  }
 },
 "nbformat": 4,
 "nbformat_minor": 5
}
