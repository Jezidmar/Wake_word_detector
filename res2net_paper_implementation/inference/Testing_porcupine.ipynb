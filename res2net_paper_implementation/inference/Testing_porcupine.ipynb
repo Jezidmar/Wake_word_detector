{
 "cells": [
  {
   "cell_type": "code",
   "execution_count": 1,
   "id": "b84e467a-e05e-44b7-bfb0-afde4c9742d1",
   "metadata": {},
   "outputs": [],
   "source": [
    "#!pip install pvporcupine\n",
    "import pandas as pd\n",
    "import torch\n",
    "from torch.utils.data import Dataset, DataLoader\n",
    "from torchaudio.transforms import Resample\n",
    "import torchaudio\n",
    "import librosa\n",
    "import cv2\n",
    "import torch.nn as nn\n",
    "import torch.optim as optim\n",
    "import matplotlib.pyplot as plt\n",
    "import torch.nn.functional as F\n",
    "import random\n",
    "import numpy as np\n",
    "import librosa\n",
    "import logging\n",
    "import soundfile\n",
    "import torch.nn.functional as F\n",
    "import csv\n",
    "import tqdm"
   ]
  },
  {
   "cell_type": "code",
   "execution_count": 2,
   "id": "cf49b2ee-9849-4fad-9429-629d6cbda4a8",
   "metadata": {},
   "outputs": [],
   "source": [
    "class AudioDataset(Dataset):\n",
    "    def __init__(self, csv_file, transform=None):\n",
    "        \"\"\"\n",
    "        Args:\n",
    "            csv_file (string): Path to the csv file with annotations.\n",
    "            transform (callable, optional): Optional transform to be applied on a sample.\n",
    "        \"\"\"\n",
    "        self.data_frame = csv_file\n",
    "        self.transform = transform\n",
    "\n",
    "    def __len__(self):\n",
    "        return len(self.data_frame)\n",
    "\n",
    "    def __getitem__(self, idx):\n",
    "        audio_path = self.data_frame['path'][idx]\n",
    "        label = self.data_frame['label'][idx]\n",
    "\n",
    "        return audio_path, label"
   ]
  },
  {
   "cell_type": "code",
   "execution_count": 3,
   "id": "db675e11-da09-47b4-984a-865f92efa5c3",
   "metadata": {
    "scrolled": true
   },
   "outputs": [],
   "source": [
    "#\n",
    "import pvporcupine\n",
    "import struct\n",
    "import wave\n",
    "\n",
    "def test_porcupine(audio_file_path):\n",
    "    # Create a Porcupine instance with the built-in keyword.\n",
    "    porcupine = pvporcupine.create(\n",
    "        access_key='FB7jo4vQwScNqXa5J2E+/nCXw3wag8lSs4oj6RpfnJCK6NZopYcxSg==',\n",
    "    keyword_paths=['/home/ai01/Desktop/marin_work_folder/Hey-Jules_en_linux_v3_0_0.ppn'],\n",
    "    sensitivities=[0.99]\n",
    "  )\n",
    "\n",
    "    try:\n",
    "        # Open the audio file.\n",
    "        wf = wave.open(audio_file_path, 'rb')\n",
    "\n",
    "        print(wf)\n",
    "        # Process the audio stream.\n",
    "        num_frames = int(porcupine.frame_length * 3 * wf.getframerate() / porcupine.frame_length)\n",
    "        #print(num_frames)\n",
    "        frames = wf.readframes(num_frames)\n",
    "\n",
    "        pcm = struct.unpack_from(\"h\" * porcupine.frame_length, frames, 0)\n",
    "        #print(len(pcm))\n",
    "        #print(pcm)\n",
    "        result = porcupine.process(pcm)\n",
    "        if result >= 0:\n",
    "            print(f\"Keyword detected at frame {result}\")\n",
    "        else:\n",
    "            print(\"Keyword not detected.\")\n",
    "    finally:\n",
    "        # Clean up the Porcupine instance.\n",
    "        porcupine.delete()\n",
    "        wf.close()\n",
    "\n",
    "# Example usage\n",
    "#audio_file_path='/home/ai01/Desktop/marin_work_folder/heyjules/generated-voxCelebVOL2-p262.wav'\n",
    "#test_porcupine(audio_file_path)\n"
   ]
  },
  {
   "cell_type": "code",
   "execution_count": 4,
   "id": "7a0018e6-7c6d-4bc3-9f4e-2acd7e82264c",
   "metadata": {},
   "outputs": [],
   "source": [
    "import pvporcupine\n",
    "import struct\n",
    "import wave\n",
    "\n",
    "def process_audio(porcupine, wf):\n",
    "    # Buffer to hold audio data\n",
    "    audio_buffer = bytes()\n",
    "    total_frames_processed = 0\n",
    "\n",
    "    while True:\n",
    "        # Read data from the file\n",
    "        data = wf.readframes(porcupine.frame_length)\n",
    "        if len(data) == 0:\n",
    "            break  # End of file\n",
    "\n",
    "        # Append data to buffer\n",
    "        audio_buffer += data\n",
    "\n",
    "        # Check if buffer has enough data to process\n",
    "        if len(audio_buffer) >= porcupine.frame_length * 2:  # 2 bytes per frame (16-bit audio)\n",
    "            # Process the audio in frame_length chunks\n",
    "            pcm = struct.unpack_from(\"h\" * porcupine.frame_length, audio_buffer, 0)\n",
    "            result = porcupine.process(pcm)\n",
    "            if result >= 0:\n",
    "                return result\n",
    "            \n",
    "            # Move the buffer forward\n",
    "            audio_buffer = audio_buffer[porcupine.frame_length * 2:]\n",
    "            total_frames_processed += porcupine.frame_length\n",
    "\n",
    "    # Process any remaining audio data by padding if necessary\n",
    "    if len(audio_buffer) > 0:\n",
    "        padded_pcm = struct.unpack_from(\"h\" * porcupine.frame_length, audio_buffer + b'\\x00' * (porcupine.frame_length * 2 - len(audio_buffer)), 0)\n",
    "        result = porcupine.process(padded_pcm)\n",
    "        if result >= 0:\n",
    "            return result\n",
    "    return -1\n",
    "    \n",
    "def process(file_path,thresh):\n",
    "    porcupine = pvporcupine.create(\n",
    "               access_key='FB7jo4vQwScNqXa5J2E+/nCXw3wag8lSs4oj6RpfnJCK6NZopYcxSg==',\n",
    "    keyword_paths=['/home/ai01/Desktop/marin_work_folder/Hey-Jules_en_linux_v3_0_0.ppn'],\n",
    "    sensitivities=[thresh]\n",
    "    )\n",
    "\n",
    "    wf = wave.open(file_path, 'rb')\n",
    "    val=process_audio(porcupine, wf)\n",
    "    return val\n",
    "\n",
    "\n",
    "# Example usage\n",
    "#audio_file_path = '/home/ai01/Desktop/marin_work_folder/test_clean/negative/generated-train_empire.wav'\n",
    "\n",
    "#process(audio_file_path,0.03)\n"
   ]
  },
  {
   "cell_type": "code",
   "execution_count": 7,
   "id": "c93c1cf5-4cbe-4f71-9d1e-8f53dff61b90",
   "metadata": {},
   "outputs": [],
   "source": [
    "import numpy as np\n",
    "import tqdm\n",
    "import pandas as pd\n",
    "\n",
    "def run(hparams):\n",
    "    test_file=pd.read_csv(hparams['test_csv_file'])\n",
    "    test_dataset = AudioDataset(csv_file=test_file)\n",
    "    test_loader = DataLoader(test_dataset, batch_size=1, shuffle=False)\n",
    "    \n",
    "    thresholds = np.arange(0.03, 1.01, 0.03)\n",
    "    tp = np.zeros_like(thresholds)\n",
    "    fp = np.zeros_like(thresholds)\n",
    "    fn = np.zeros_like(thresholds)\n",
    "    tn = np.zeros_like(thresholds)\n",
    "    testing_csv_file=hparams['test_csv_file']\n",
    "    for path, labels in tqdm.tqdm(test_loader):\n",
    "        #print(path)\n",
    "        for idx, thresh in enumerate(thresholds):\n",
    "            pred=process(path[0],thresh)+1\n",
    "            labels = labels.int()\n",
    "            tp[idx] += ((pred == 1) & (labels == 1)).sum().item()\n",
    "            fp[idx] += ((pred == 1) & (labels == 0)).sum().item()\n",
    "            fn[idx] += ((pred == 0) & (labels == 1)).sum().item()\n",
    "            tn[idx] += ((pred == 0) & (labels == 0)).sum().item()\n",
    "    \n",
    "    \n",
    "    # Calculate metrics needed for DET curve\n",
    "    far = fp / (fp + tn)  # False Alarm Rate\n",
    "    frr = fn / (fn + tp)  # False Rejection Rate (Miss Rate)\n",
    "\n",
    "    return {'Thresholds': thresholds, 'FAR': far, 'FRR': frr}"
   ]
  },
  {
   "cell_type": "code",
   "execution_count": 8,
   "id": "9e46851e-f48d-4e96-bc01-3abf8cac7f0e",
   "metadata": {},
   "outputs": [
    {
     "name": "stderr",
     "output_type": "stream",
     "text": [
      "100%|████████████████████████████████████████████████████████████████████████████████████████████████████████████████████████████████████| 1135/1135 [09:30<00:00,  1.99it/s]"
     ]
    },
    {
     "name": "stdout",
     "output_type": "stream",
     "text": [
      "Metrics exported successfully to test_metrics_porcupine_clean.csv\n"
     ]
    },
    {
     "name": "stderr",
     "output_type": "stream",
     "text": [
      "\n"
     ]
    }
   ],
   "source": [
    "def export_metrics_to_csv(metrics, filename):\n",
    "    df = pd.DataFrame(metrics)\n",
    "    df.to_csv(filename, index=False)\n",
    "    print(f\"Metrics exported successfully to {filename}\")\n",
    "\n",
    "hparams={\n",
    "    'test_csv_file':'/home/ai01/Desktop/marin_work_folder/train_code/metadata_test_clean.csv',\n",
    "}\n",
    "\n",
    "metrics=run(hparams)\n",
    "export_metrics_to_csv(metrics, 'test_metrics_porcupine_clean.csv')"
   ]
  },
  {
   "cell_type": "code",
   "execution_count": 9,
   "id": "97c690ef-a7f6-4e38-b994-6d57b80b91b7",
   "metadata": {},
   "outputs": [
    {
     "data": {
      "image/png": "[encoded data removed]",
      "text/plain": [
       "<Figure size 1000x600 with 1 Axes>"
      ]
     },
     "metadata": {},
     "output_type": "display_data"
    }
   ],
   "source": [
    "plt.figure(figsize=(10, 6))\n",
    "plt.plot(metrics['FAR'], metrics['FRR'], marker=None,color='blue')  # Line plot with markers\n",
    "plt.xlabel('False Alarm Rate', fontsize=12)\n",
    "plt.ylabel('False rejection rate', fontsize=12)\n",
    "plt.title('False rejection rate vs. False Alarm rate', fontsize=14)\n",
    "plt.grid(True)\n",
    "plt.show()"
   ]
  },
  {
   "cell_type": "code",
   "execution_count": null,
   "id": "6b4c719a-4ed5-4480-9cdc-cdaccf9933e1",
   "metadata": {},
   "outputs": [],
   "source": []
  }
 ],
 "metadata": {
  "kernelspec": {
   "display_name": "Python 3 (ipykernel)",
   "language": "python",
   "name": "python3"
  },
  "language_info": {
   "codemirror_mode": {
    "name": "ipython",
    "version": 3
   },
   "file_extension": ".py",
   "mimetype": "text/x-python",
   "name": "python",
   "nbconvert_exporter": "python",
   "pygments_lexer": "ipython3",
   "version": "3.9.19"
  }
 },
 "nbformat": 4,
 "nbformat_minor": 5
}
