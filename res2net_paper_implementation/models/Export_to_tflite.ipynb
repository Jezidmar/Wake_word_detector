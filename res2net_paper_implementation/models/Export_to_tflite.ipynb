{
 "cells": [
  {
   "cell_type": "code",
   "execution_count": 1,
   "id": "d7ad8b06-f01e-4e5c-ad77-d8f2ae6dc6d1",
   "metadata": {},
   "outputs": [],
   "source": [
    "from model_res2net50_v1b import res2net50_v1b as resnet50\n"
   ]
  },
  {
   "cell_type": "code",
   "execution_count": 2,
   "id": "ac74d782-60af-4aca-bcc2-3e4864973d84",
   "metadata": {},
   "outputs": [],
   "source": [
    "def load_model(path):\n",
    "    model = resnet50(num_classes=1)\n",
    "    loaded = torch.load(path, map_location='cpu')\n",
    "    state_dict=loaded.module.state_dict()\n",
    "    model.load_state_dict(state_dict)\n",
    "    model.eval()\n",
    "    return model"
   ]
  },
  {
   "cell_type": "markdown",
   "id": "c1f5b24e-cbf8-49a8-b233-a088921887ad",
   "metadata": {},
   "source": [
    "# Convert from pytorch to onnx"
   ]
  },
  {
   "cell_type": "code",
   "execution_count": 3,
   "id": "ec05f2cd-fea3-43ea-967c-c04f11246cbb",
   "metadata": {},
   "outputs": [],
   "source": [
    "import torch\n",
    "\n",
    "img_size = (200, 256)\n",
    "batch_size = 1\n",
    "onnx_model_path = 'model_nc_res2net.onnx'\n",
    "# model = resnet50(num_classes=1, in_channels=1)\n",
    "checkpoint_path = 'checkpoints/res2net50_v1b_trial1_epoch_6.pth'\n",
    "# loaded = torch.load(checkpoint_path)\n",
    "# state_dict=loaded.module.state_dict()\n",
    "# model.load_state_dict(state_dict)\n",
    "# model.eval()\n",
    "model = load_model(checkpoint_path)\n",
    "sample_input = torch.rand((batch_size, 1, *img_size))\n",
    "\n",
    "y = model(sample_input)\n",
    "\n",
    "torch.onnx.export(\n",
    "    model,\n",
    "    sample_input, \n",
    "    onnx_model_path,\n",
    "    verbose=False,\n",
    "    input_names=['input'],\n",
    "    output_names=['output'],\n",
    "    opset_version=12\n",
    ")"
   ]
  },
  {
   "cell_type": "markdown",
   "id": "609bc4c7-c4fe-48e7-9d09-3c2f5d5ce903",
   "metadata": {},
   "source": [
    "# Convert from onnx to tensorflow"
   ]
  },
  {
   "cell_type": "code",
   "execution_count": null,
   "id": "8e78ddb5-87ae-4e4c-9a36-a73a6c552fb0",
   "metadata": {},
   "outputs": [],
   "source": [
    "import onnx\n",
    "import onnx_tf\n",
    "onnx_model_path = 'model_nc_res2net.onnx'\n",
    "tf_model_path = 'model_nc_res2net_tf'\n",
    "onnx_model = onnx.load(onnx_model_path)\n",
    "# Convert ONNX model to TensorFlow format\n",
    "tf_model = onnx_tf.backend.prepare(onnx_model)\n",
    "# Export  TensorFlow  model \n",
    "tf_model.export_graph(tf_model_path)"
   ]
  },
  {
   "cell_type": "code",
   "execution_count": 5,
   "id": "971abc7a-d349-4c26-904f-f962ba616d93",
   "metadata": {},
   "outputs": [],
   "source": [
    "#!pip install tensorflow==2.12 tensorflow-addons[tensorflow]\n"
   ]
  },
  {
   "cell_type": "code",
   "execution_count": 2,
   "id": "f96c34be-0337-418d-96f6-e0572764628e",
   "metadata": {
    "scrolled": true
   },
   "outputs": [
    {
     "name": "stdout",
     "output_type": "stream",
     "text": [
      "Package                      Version\n",
      "---------------------------- --------------\n",
      "absl-py                      2.1.0\n",
      "anyio                        4.1.0\n",
      "argon2-cffi                  23.1.0\n",
      "argon2-cffi-bindings         21.2.0\n",
      "arrow                        1.3.0\n",
      "asttokens                    2.4.1\n",
      "astunparse                   1.6.3\n",
      "async-lru                    1.0.3\n",
      "attrs                        23.2.0\n",
      "Babel                        2.14.0\n",
      "backcall                     0.2.0\n",
      "beautifulsoup4               4.12.3\n",
      "bleach                       6.1.0\n",
      "cachetools                   5.3.3\n",
      "certifi                      2024.2.2\n",
      "cffi                         1.16.0\n",
      "charset-normalizer           3.3.2\n",
      "cloudpickle                  3.0.0\n",
      "comm                         0.2.2\n",
      "debugpy                      1.8.1\n",
      "decorator                    5.1.1\n",
      "defusedxml                   0.7.1\n",
      "dm-tree                      0.1.8\n",
      "exceptiongroup               1.2.1\n",
      "executing                    2.0.1\n",
      "fastjsonschema               2.19.1\n",
      "flatbuffers                  24.3.25\n",
      "fqdn                         1.5.1\n",
      "gast                         0.3.3\n",
      "google-auth                  2.29.0\n",
      "google-auth-oauthlib         1.0.0\n",
      "google-pasta                 0.2.0\n",
      "grpcio                       1.62.2\n",
      "h11                          0.14.0\n",
      "h5py                         2.10.0\n",
      "httpcore                     1.0.5\n",
      "httpx                        0.27.0\n",
      "idna                         3.7\n",
      "importlib_metadata           7.1.0\n",
      "importlib_resources          6.4.0\n",
      "ipykernel                    6.29.4\n",
      "ipython                      8.12.3\n",
      "isoduration                  20.11.0\n",
      "jax                          0.4.13\n",
      "jedi                         0.19.1\n",
      "Jinja2                       3.1.3\n",
      "json5                        0.9.25\n",
      "jsonpointer                  2.4\n",
      "jsonschema                   4.21.1\n",
      "jsonschema-specifications    2023.12.1\n",
      "jupyter_client               8.6.1\n",
      "jupyter_core                 5.7.2\n",
      "jupyter-events               0.10.0\n",
      "jupyter-lsp                  2.2.5\n",
      "jupyter_server               2.14.0\n",
      "jupyter_server_terminals     0.5.3\n",
      "jupyterlab                   4.1.8\n",
      "jupyterlab_pygments          0.3.0\n",
      "jupyterlab_server            2.27.1\n",
      "keras                        2.12.0\n",
      "Keras-Preprocessing          1.1.2\n",
      "libclang                     18.1.1\n",
      "Markdown                     3.6\n",
      "MarkupSafe                   2.1.5\n",
      "matplotlib-inline            0.1.7\n",
      "mistune                      3.0.2\n",
      "ml-dtypes                    0.2.0\n",
      "nbclient                     0.10.0\n",
      "nbconvert                    7.16.3\n",
      "nbformat                     5.10.4\n",
      "nest-asyncio                 1.6.0\n",
      "notebook                     7.1.3\n",
      "notebook_shim                0.2.4\n",
      "numpy                        1.23.5\n",
      "oauthlib                     3.2.2\n",
      "onnx                         1.16.0\n",
      "onnx-tf                      1.10.0\n",
      "opt-einsum                   3.3.0\n",
      "overrides                    7.7.0\n",
      "packaging                    24.0\n",
      "pandocfilters                1.5.1\n",
      "parso                        0.8.4\n",
      "pexpect                      4.9.0\n",
      "pickleshare                  0.7.5\n",
      "pip                          23.3.1\n",
      "pkgutil_resolve_name         1.3.10\n",
      "platformdirs                 4.2.1\n",
      "prometheus_client            0.20.0\n",
      "prompt-toolkit               3.0.43\n",
      "protobuf                     3.20.3\n",
      "psutil                       5.9.8\n",
      "ptyprocess                   0.7.0\n",
      "pure-eval                    0.2.2\n",
      "pyasn1                       0.6.0\n",
      "pyasn1_modules               0.4.0\n",
      "pycparser                    2.22\n",
      "Pygments                     2.17.2\n",
      "python-dateutil              2.9.0.post0\n",
      "python-json-logger           2.0.7\n",
      "pytz                         2024.1\n",
      "PyYAML                       6.0.1\n",
      "pyzmq                        26.0.2\n",
      "referencing                  0.35.0\n",
      "requests                     2.31.0\n",
      "requests-oauthlib            2.0.0\n",
      "rfc3339-validator            0.1.4\n",
      "rfc3986-validator            0.1.1\n",
      "rpds-py                      0.18.0\n",
      "rsa                          4.9\n",
      "scipy                        1.10.1\n",
      "Send2Trash                   1.8.3\n",
      "setuptools                   68.2.2\n",
      "six                          1.15.0\n",
      "sniffio                      1.3.1\n",
      "soupsieve                    2.5\n",
      "stack-data                   0.6.3\n",
      "tensorboard                  2.12.3\n",
      "tensorboard-data-server      0.7.2\n",
      "tensorboard-plugin-wit       1.8.1\n",
      "tensorflow                   2.12.0\n",
      "tensorflow-addons            0.21.0\n",
      "tensorflow-estimator         2.12.0\n",
      "tensorflow-io-gcs-filesystem 0.34.0\n",
      "tensorflow-probability       0.11.1\n",
      "termcolor                    1.1.0\n",
      "terminado                    0.18.1\n",
      "tinycss2                     1.3.0\n",
      "tomli                        2.0.1\n",
      "torch                        1.7.1\n",
      "tornado                      6.4\n",
      "traitlets                    5.14.3\n",
      "typeguard                    2.13.3\n",
      "types-python-dateutil        2.9.0.20240316\n",
      "typing-extensions            3.7.4.3\n",
      "uri-template                 1.3.0\n",
      "urllib3                      2.2.1\n",
      "wcwidth                      0.2.13\n",
      "webcolors                    1.13\n",
      "webencodings                 0.5.1\n",
      "websocket-client             1.8.0\n",
      "Werkzeug                     3.0.2\n",
      "wheel                        0.41.2\n",
      "wrapt                        1.12.1\n",
      "zipp                         3.18.1\n"
     ]
    }
   ],
   "source": [
    "!pip list"
   ]
  },
  {
   "cell_type": "code",
   "execution_count": null,
   "id": "ba58605b-b9da-4c30-a5ec-84a1afeb2463",
   "metadata": {},
   "outputs": [],
   "source": [
    "#This is dependency list which works right now!"
   ]
  },
  {
   "cell_type": "markdown",
   "id": "5a261ee6-089e-49f9-81ac-f4bb1826faae",
   "metadata": {},
   "source": [
    "# Convert from tensorflow to tflite"
   ]
  },
  {
   "cell_type": "code",
   "execution_count": null,
   "id": "024b7316-27e5-4e6f-ab2e-e4fd04f30722",
   "metadata": {
    "scrolled": true
   },
   "outputs": [],
   "source": [
    "import tensorflow as tf\n",
    "\n",
    "saved_model_dir = 'model_nc_res2net_tf'\n",
    "tflite_model_path = 'model_nc_res2net.tflite'\n",
    "\n",
    "# Convert the model\n",
    "converter = tf.lite.TFLiteConverter.from_saved_model(saved_model_dir)\n",
    "tflite_model = converter.convert()\n",
    "\n",
    "# Save the model\n",
    "with open(tflite_model_path, 'wb') as f:\n",
    "    f.write(tflite_model)"
   ]
  },
  {
   "cell_type": "code",
   "execution_count": 10,
   "id": "a72bba56-70a7-4a83-8bdd-fcee56b9f35c",
   "metadata": {},
   "outputs": [],
   "source": [
    "#Please pay a close attention to installed versions of packages; I had to do much experimentation to find the working combination. On the ai machine ai01, use 'export_to_tflite' environment"
   ]
  },
  {
   "cell_type": "code",
   "execution_count": null,
   "id": "668f142e-8fa9-4f34-81f0-8a135a67785b",
   "metadata": {},
   "outputs": [],
   "source": [
    "saved_model_dir = 'model_nc_res2net_tf'  # Update with your actual path\n",
    "converter = tf.lite.TFLiteConverter.from_saved_model(saved_model_dir)\n",
    "\n",
    "# Enable TensorFlow ops in TFLite\n",
    "converter.target_spec.supported_ops = [\n",
    "    tf.lite.OpsSet.TFLITE_BUILTINS,  # Enable TensorFlow Lite ops.\n",
    "    tf.lite.OpsSet.SELECT_TF_OPS  # Enable TensorFlow ops.\n",
    "]\n",
    "converter.experimental_new_converter = True\n",
    "\n",
    "# Convert the model\n",
    "tflite_model = converter.convert()\n",
    "\n",
    "# Save the TFLite model to a file\n",
    "tflite_model_path = 'converted_model.tflite'\n",
    "with open(tflite_model_path, 'wb') as f:\n",
    "    f.write(tflite_model)"
   ]
  },
  {
   "cell_type": "code",
   "execution_count": null,
   "id": "20b20a36-cba7-4c70-b215-f6d60b67ecf5",
   "metadata": {},
   "outputs": [],
   "source": [
    "import tensorflow as tf\n",
    "model_dir = 'model_nc_res2net_tf'\n",
    "tflite_model_path = 'converted_model.tflite'\n",
    "\n",
    "converter = tf.lite.TFLiteConverter.from_saved_model(model_dir)\n",
    "converter.experimental_new_converter = True\n",
    "converter.allow_custom_ops = True\n",
    "converter.optimizations = [tf.lite.Optimize.OPTIMIZE_FOR_SIZE]\n",
    "converter.target_spec.supported_ops = [tf.lite.OpsSet.TFLITE_BUILTINS, tf.lite.OpsSet.SELECT_TF_OPS]\n",
    "converter.allow_custom_ops=True\n",
    "tflite_model = converter.convert()\n",
    "with open(tflite_model_path, 'wb') as f:\n",
    "    f.write(tflite_model)\n",
    "print('saved')"
   ]
  }
 ],
 "metadata": {
  "kernelspec": {
   "display_name": "Python 3 (ipykernel)",
   "language": "python",
   "name": "python3"
  },
  "language_info": {
   "codemirror_mode": {
    "name": "ipython",
    "version": 3
   },
   "file_extension": ".py",
   "mimetype": "text/x-python",
   "name": "python",
   "nbconvert_exporter": "python",
   "pygments_lexer": "ipython3",
   "version": "3.9.19"
  }
 },
 "nbformat": 4,
 "nbformat_minor": 5
}
